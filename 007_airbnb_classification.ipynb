{
 "cells": [
  {
   "cell_type": "markdown",
   "id": "7145d243",
   "metadata": {},
   "source": [
    "<font color='red'>**Ciclo 7**</font>"
   ]
  },
  {
   "cell_type": "markdown",
   "id": "6ab5b4e5",
   "metadata": {},
   "source": [
    "**ENTENDER O PROBLEMA**\n",
    "\n",
    "- Objetivo do Problema:\n",
    "    - Previsão do primeiro destino que um novo usuario ira escolher.\n",
    "    \n",
    "    - Porque?\n",
    "        - Qual o tipo de modelo de negocio do Airbnb?\n",
    "        \n",
    "            - Marketplace ( Conecta pessoas que oferecem acomodação, com pessoas que estão procurando acomodação )\n",
    "            - Oferta ( pessoas oferecendo acomodação )\n",
    "                - Tamanho do portfólio.\n",
    "                - Diversidade/Densidade de Portifolio.\n",
    "                - Preco Medio\n",
    "                \n",
    "            - Demanda ( pessoas procurando acomodação )\n",
    "                - Numero de usuario\n",
    "                - LTV ( Lifetime Value )\n",
    "                - CAC ( Client Acquisition Cost )\n",
    "                \n",
    "                <font color='red'>**Receita Bruta**</font> =  ( Taxa*NúmeroDeClientes ) - CAC\n",
    "\n",
    "             \n",
    "             \n",
    "- Proposta de Solução\n",
    "    - Modelo de Previsão do primeiro destino de um novo usuario.\n",
    "        - Predicoes e salva em uma tabela do banco de dados.\n",
    "        - API\n",
    "            - Input: Usuario e suas caracteristicas.\n",
    "            - Output: Usuario e suas caracteristicas com a **predicao de destino** \n",
    "            \n",
    "\n",
    "- Total de Ciclos ( CRISPM ):\n",
    "    - 16 ciclos.\n",
    "    "
   ]
  },
  {
   "cell_type": "markdown",
   "id": "acba5fa9",
   "metadata": {
    "heading_collapsed": true
   },
   "source": [
    "# IMPORTS"
   ]
  },
  {
   "cell_type": "code",
   "execution_count": 137,
   "id": "799f0116",
   "metadata": {
    "ExecuteTime": {
     "end_time": "2022-07-06T19:14:00.733954Z",
     "start_time": "2022-07-06T19:14:00.726324Z"
    },
    "hidden": true
   },
   "outputs": [],
   "source": [
    "import pandas as pd\n",
    "import numpy  as np\n",
    "\n",
    "import matplotlib.pyplot as plt\n",
    "import seaborn           as sns\n",
    "\n",
    "from sklearn    import model_selection as ms\n",
    "from sklearn    import preprocessing   as pp\n",
    "from sklearn    import metrics         as m\n",
    "from keras      import models          as ml\n",
    "from keras      import layers          as l\n",
    "from scikitplot import metrics         as mt\n",
    "from scipy      import stats           as ss\n",
    "\n",
    "from imblearn   import under_sampling  as us\n",
    "from imblearn   import over_sampling   as oversamp\n",
    "from imblearn   import combine         as c\n",
    "\n",
    "from pandas_profiling import ProfileReport\n",
    "\n",
    "from IPython.display       import Image\n",
    "from IPython.core.display  import HTML\n",
    "\n",
    "import random\n",
    "\n",
    "import warnings\n",
    "warnings.filterwarnings('ignore')"
   ]
  },
  {
   "cell_type": "markdown",
   "id": "aff5a677",
   "metadata": {
    "hidden": true
   },
   "source": [
    "## Helper Functions"
   ]
  },
  {
   "cell_type": "code",
   "execution_count": 138,
   "id": "9bcd72c9",
   "metadata": {
    "ExecuteTime": {
     "end_time": "2022-07-06T19:14:02.322544Z",
     "start_time": "2022-07-06T19:14:02.302152Z"
    },
    "hidden": true
   },
   "outputs": [
    {
     "name": "stdout",
     "output_type": "stream",
     "text": [
      "%pylab is deprecated, use %matplotlib inline and import the required libraries.\n",
      "Populating the interactive namespace from numpy and matplotlib\n"
     ]
    },
    {
     "data": {
      "text/html": [
       "<style>.container { width:100% !important; }</style>"
      ],
      "text/plain": [
       "<IPython.core.display.HTML object>"
      ]
     },
     "metadata": {},
     "output_type": "display_data"
    }
   ],
   "source": [
    "def cramer_v( x, y ):\n",
    "    cm = pd.crosstab( x, y ).to_numpy()\n",
    "    n = cm.sum()\n",
    "    r, k = cm.shape\n",
    "    \n",
    "    chi2 = ss.chi2_contingency( cm )[0]\n",
    "    chi2corr = max( 0, chi2 - (k-1)*(r-1)/(n-1) )\n",
    "    \n",
    "    kcorr = k - (k-1)**2/(n-1)\n",
    "    rcorr = r - (r-1)**2/(n-1)\n",
    "    \n",
    "    return np.sqrt( (chi2corr/n) / ( min( kcorr-1, rcorr-1 ) ) )\n",
    "\n",
    "\n",
    "\n",
    "def jupyter_settings():\n",
    "    %matplotlib inline\n",
    "    %pylab inline\n",
    "    \n",
    "    plt.style.use( 'bmh' )\n",
    "    plt.rcParams['figure.figsize'] = [25, 12]\n",
    "    plt.rcParams['font.size'] = 24\n",
    "    \n",
    "    display( HTML( '<style>.container { width:100% !important; }</style>') )\n",
    "    pd.options.display.max_columns = None\n",
    "    pd.options.display.max_rows = None\n",
    "    pd.set_option( 'display.expand_frame_repr', False )\n",
    "    \n",
    "    sns.set()\n",
    "jupyter_settings()"
   ]
  },
  {
   "cell_type": "markdown",
   "id": "a2caf27d",
   "metadata": {
    "hidden": true
   },
   "source": [
    "## Loading Data"
   ]
  },
  {
   "cell_type": "code",
   "execution_count": 5,
   "id": "c9e00aeb",
   "metadata": {
    "ExecuteTime": {
     "end_time": "2022-07-06T18:14:02.214911Z",
     "start_time": "2022-07-06T18:14:01.661039Z"
    },
    "hidden": true
   },
   "outputs": [
    {
     "data": {
      "text/plain": [
       "(213451, 16)"
      ]
     },
     "execution_count": 5,
     "metadata": {},
     "output_type": "execute_result"
    }
   ],
   "source": [
    "df_raw = pd.read_csv('./data/training_users.csv', low_memory=True)\n",
    "df_raw.shape"
   ]
  },
  {
   "cell_type": "code",
   "execution_count": 6,
   "id": "ab3816b9",
   "metadata": {
    "ExecuteTime": {
     "end_time": "2022-07-06T18:14:11.324887Z",
     "start_time": "2022-07-06T18:14:02.217031Z"
    },
    "hidden": true
   },
   "outputs": [
    {
     "data": {
      "text/plain": [
       "(10567737, 6)"
      ]
     },
     "execution_count": 6,
     "metadata": {},
     "output_type": "execute_result"
    }
   ],
   "source": [
    "df_sessions = pd.read_csv('./data/sessions.csv', low_memory=True)\n",
    "df_sessions.shape\n",
    "\n",
    "#df_sessions[df_sessions['user_id'] == \"00023iyk9l\"][['user_id', 'action']].groupby('user_id').value_counts()"
   ]
  },
  {
   "cell_type": "markdown",
   "id": "7505b0e8",
   "metadata": {
    "heading_collapsed": true
   },
   "source": [
    "# DATA DESCRIPTION"
   ]
  },
  {
   "cell_type": "code",
   "execution_count": 7,
   "id": "86269058",
   "metadata": {
    "ExecuteTime": {
     "end_time": "2022-07-06T18:14:11.332479Z",
     "start_time": "2022-07-06T18:14:11.327564Z"
    },
    "hidden": true
   },
   "outputs": [
    {
     "data": {
      "text/plain": [
       "(213451, 16)"
      ]
     },
     "execution_count": 7,
     "metadata": {},
     "output_type": "execute_result"
    }
   ],
   "source": [
    "df1 = df_raw\n",
    "df1.shape"
   ]
  },
  {
   "cell_type": "markdown",
   "id": "49e05e9e",
   "metadata": {
    "heading_collapsed": true,
    "hidden": true
   },
   "source": [
    "## Data Dimensions "
   ]
  },
  {
   "cell_type": "code",
   "execution_count": 8,
   "id": "0b960b24",
   "metadata": {
    "ExecuteTime": {
     "end_time": "2022-07-06T18:14:11.339221Z",
     "start_time": "2022-07-06T18:14:11.335063Z"
    },
    "hidden": true
   },
   "outputs": [
    {
     "name": "stdout",
     "output_type": "stream",
     "text": [
      "number of rows: 213451\n",
      "number of columns: 16\n"
     ]
    }
   ],
   "source": [
    "print(f'number of rows: {df1.shape[0]}')\n",
    "print(f'number of columns: {df1.shape[1]}')"
   ]
  },
  {
   "cell_type": "code",
   "execution_count": 9,
   "id": "e36eb6a8",
   "metadata": {
    "ExecuteTime": {
     "end_time": "2022-07-06T18:14:11.345220Z",
     "start_time": "2022-07-06T18:14:11.341253Z"
    },
    "hidden": true
   },
   "outputs": [
    {
     "name": "stdout",
     "output_type": "stream",
     "text": [
      "number of rows: 10567737\n",
      "number of columns: 6\n"
     ]
    }
   ],
   "source": [
    "print(f'number of rows: {df_sessions.shape[0]}')\n",
    "print(f'number of columns: {df_sessions.shape[1]}')"
   ]
  },
  {
   "cell_type": "markdown",
   "id": "59071172",
   "metadata": {
    "heading_collapsed": true,
    "hidden": true
   },
   "source": [
    "## Data Types"
   ]
  },
  {
   "cell_type": "code",
   "execution_count": 10,
   "id": "04d73845",
   "metadata": {
    "ExecuteTime": {
     "end_time": "2022-07-06T18:14:11.354483Z",
     "start_time": "2022-07-06T18:14:11.347109Z"
    },
    "hidden": true
   },
   "outputs": [
    {
     "data": {
      "text/plain": [
       "id                          object\n",
       "date_account_created        object\n",
       "timestamp_first_active       int64\n",
       "date_first_booking          object\n",
       "gender                      object\n",
       "age                        float64\n",
       "signup_method               object\n",
       "signup_flow                  int64\n",
       "language                    object\n",
       "affiliate_channel           object\n",
       "affiliate_provider          object\n",
       "first_affiliate_tracked     object\n",
       "signup_app                  object\n",
       "first_device_type           object\n",
       "first_browser               object\n",
       "country_destination         object\n",
       "dtype: object"
      ]
     },
     "execution_count": 10,
     "metadata": {},
     "output_type": "execute_result"
    }
   ],
   "source": [
    "df1.dtypes"
   ]
  },
  {
   "cell_type": "code",
   "execution_count": 11,
   "id": "dd259f29",
   "metadata": {
    "ExecuteTime": {
     "end_time": "2022-07-06T18:14:11.363638Z",
     "start_time": "2022-07-06T18:14:11.356618Z"
    },
    "hidden": true
   },
   "outputs": [
    {
     "data": {
      "text/plain": [
       "user_id           object\n",
       "action            object\n",
       "action_type       object\n",
       "action_detail     object\n",
       "device_type       object\n",
       "secs_elapsed     float64\n",
       "dtype: object"
      ]
     },
     "execution_count": 11,
     "metadata": {},
     "output_type": "execute_result"
    }
   ],
   "source": [
    "df_sessions.dtypes"
   ]
  },
  {
   "cell_type": "markdown",
   "id": "d2952a6d",
   "metadata": {
    "heading_collapsed": true,
    "hidden": true
   },
   "source": [
    "## NA Check"
   ]
  },
  {
   "cell_type": "code",
   "execution_count": 12,
   "id": "b699c533",
   "metadata": {
    "ExecuteTime": {
     "end_time": "2022-07-06T18:14:11.710651Z",
     "start_time": "2022-07-06T18:14:11.366054Z"
    },
    "hidden": true
   },
   "outputs": [
    {
     "data": {
      "text/plain": [
       "id                         0.000000\n",
       "date_account_created       0.000000\n",
       "timestamp_first_active     0.000000\n",
       "date_first_booking         0.583473\n",
       "gender                     0.000000\n",
       "age                        0.412226\n",
       "signup_method              0.000000\n",
       "signup_flow                0.000000\n",
       "language                   0.000000\n",
       "affiliate_channel          0.000000\n",
       "affiliate_provider         0.000000\n",
       "first_affiliate_tracked    0.028414\n",
       "signup_app                 0.000000\n",
       "first_device_type          0.000000\n",
       "first_browser              0.000000\n",
       "country_destination        0.000000\n",
       "dtype: float64"
      ]
     },
     "execution_count": 12,
     "metadata": {},
     "output_type": "execute_result"
    }
   ],
   "source": [
    "df1.isna().sum() / len(df1)"
   ]
  },
  {
   "cell_type": "code",
   "execution_count": 13,
   "id": "c67160e1",
   "metadata": {
    "ExecuteTime": {
     "end_time": "2022-07-06T18:14:18.443483Z",
     "start_time": "2022-07-06T18:14:11.712468Z"
    },
    "hidden": true
   },
   "outputs": [
    {
     "data": {
      "text/plain": [
       "user_id          0.003264\n",
       "action           0.007535\n",
       "action_type      0.106570\n",
       "action_detail    0.106570\n",
       "device_type      0.000000\n",
       "secs_elapsed     0.012872\n",
       "dtype: float64"
      ]
     },
     "execution_count": 13,
     "metadata": {},
     "output_type": "execute_result"
    }
   ],
   "source": [
    "df_sessions.isna().sum() / len(df_sessions)"
   ]
  },
  {
   "cell_type": "code",
   "execution_count": 14,
   "id": "ef7f72d8",
   "metadata": {
    "ExecuteTime": {
     "end_time": "2022-07-06T18:14:24.383969Z",
     "start_time": "2022-07-06T18:14:18.446553Z"
    },
    "hidden": true
   },
   "outputs": [],
   "source": [
    "# ================ Users ====================\n",
    "\n",
    "# date_first_booking\n",
    "date_first_booking_max = pd.to_datetime(df1['date_first_booking']).max().strftime('%Y-%m-%d')\n",
    "df1['date_first_booking'] = df1['date_first_booking'].fillna(date_first_booking_max)\n",
    "\n",
    "# age\n",
    "df1 = df1[(df1['age'] > 15) & (df1['age'] < 120)]\n",
    "avg_age = age = df1['age'].mean().astype(int)\n",
    "df1['age'] = df1['age'].fillna(avg_age)\n",
    "\n",
    "# first_affiliate_tracked\n",
    "df1 = df1[~df1['first_affiliate_tracked'].isna()]\n",
    "\n",
    "# ================ Sessions ====================\n",
    "\n",
    "# user_id - 0.3%\n",
    "df_sessions = df_sessions[~df_sessions['user_id'].isna()]\n",
    "\n",
    "\n",
    "# action - 0.7%\n",
    "df_sessions = df_sessions[~df_sessions['action'].isna()]\n",
    "\n",
    "\n",
    "# action_type - 11%\n",
    "df_sessions = df_sessions[~df_sessions['action_type'].isna()]\n",
    "\n",
    "\n",
    "# action_detail - 11%\n",
    "df_sessions = df_sessions[~df_sessions['action_detail'].isna()]\n",
    "\n",
    "\n",
    "# secs_elapsed - 1.2%\n",
    "df_sessions = df_sessions[~df_sessions['secs_elapsed'].isna()]\n"
   ]
  },
  {
   "cell_type": "markdown",
   "id": "7eb9373e",
   "metadata": {
    "heading_collapsed": true,
    "hidden": true
   },
   "source": [
    "## Change Data Type"
   ]
  },
  {
   "cell_type": "code",
   "execution_count": 15,
   "id": "6416f871",
   "metadata": {
    "ExecuteTime": {
     "end_time": "2022-07-06T18:14:24.865391Z",
     "start_time": "2022-07-06T18:14:24.385982Z"
    },
    "hidden": true
   },
   "outputs": [],
   "source": [
    "# date_account_created\n",
    "df1['date_account_created'] = pd.to_datetime(df1['date_account_created'])\n",
    "\n",
    "# timestamp_first_active\n",
    "df1['timestamp_first_active'] = pd.to_datetime(df1['timestamp_first_active'], format='%Y%m%d%H%M%S')\n",
    "\n",
    "# date_first_booking\n",
    "df1['date_first_booking'] = pd.to_datetime(df1['date_first_booking'])\n",
    "\n",
    "# age\n",
    "df1['age'] = df1['age'].astype(int)"
   ]
  },
  {
   "cell_type": "code",
   "execution_count": 16,
   "id": "45dcfcaf",
   "metadata": {
    "ExecuteTime": {
     "end_time": "2022-07-06T18:14:24.872177Z",
     "start_time": "2022-07-06T18:14:24.867147Z"
    },
    "hidden": true
   },
   "outputs": [
    {
     "data": {
      "text/plain": [
       "id                                 object\n",
       "date_account_created       datetime64[ns]\n",
       "timestamp_first_active     datetime64[ns]\n",
       "date_first_booking         datetime64[ns]\n",
       "gender                             object\n",
       "age                                 int64\n",
       "signup_method                      object\n",
       "signup_flow                         int64\n",
       "language                           object\n",
       "affiliate_channel                  object\n",
       "affiliate_provider                 object\n",
       "first_affiliate_tracked            object\n",
       "signup_app                         object\n",
       "first_device_type                  object\n",
       "first_browser                      object\n",
       "country_destination                object\n",
       "dtype: object"
      ]
     },
     "execution_count": 16,
     "metadata": {},
     "output_type": "execute_result"
    }
   ],
   "source": [
    "df1.dtypes"
   ]
  },
  {
   "cell_type": "markdown",
   "id": "3eb308cd",
   "metadata": {
    "heading_collapsed": true,
    "hidden": true
   },
   "source": [
    "## Check Balanced Data"
   ]
  },
  {
   "cell_type": "code",
   "execution_count": 17,
   "id": "568551e9",
   "metadata": {
    "ExecuteTime": {
     "end_time": "2022-07-06T18:14:24.893118Z",
     "start_time": "2022-07-06T18:14:24.873893Z"
    },
    "hidden": true
   },
   "outputs": [
    {
     "data": {
      "text/plain": [
       "NDF      0.447275\n",
       "US       0.391867\n",
       "other    0.061246\n",
       "FR       0.029918\n",
       "IT       0.016423\n",
       "GB       0.014335\n",
       "ES       0.013740\n",
       "CA       0.008676\n",
       "DE       0.006858\n",
       "NL       0.004852\n",
       "AU       0.003531\n",
       "PT       0.001280\n",
       "Name: country_destination, dtype: float64"
      ]
     },
     "execution_count": 17,
     "metadata": {},
     "output_type": "execute_result"
    }
   ],
   "source": [
    "df1['country_destination'].value_counts(normalize=True)"
   ]
  },
  {
   "cell_type": "markdown",
   "id": "8df5506e",
   "metadata": {
    "heading_collapsed": true,
    "hidden": true
   },
   "source": [
    "## Descriptive Analysis"
   ]
  },
  {
   "cell_type": "markdown",
   "id": "096ff6bb",
   "metadata": {
    "heading_collapsed": true,
    "hidden": true
   },
   "source": [
    "## General"
   ]
  },
  {
   "cell_type": "code",
   "execution_count": 18,
   "id": "93449caf",
   "metadata": {
    "ExecuteTime": {
     "end_time": "2022-07-06T18:14:24.903608Z",
     "start_time": "2022-07-06T18:14:24.895805Z"
    },
    "hidden": true
   },
   "outputs": [],
   "source": [
    "# users\n",
    "num_attrs = df1.select_dtypes(include=['int64', 'float64'])\n",
    "cat_attrs = df1.select_dtypes(exclude=['int64', 'float64', 'datetime64[ns]'])\n",
    "time_attrs = df1.select_dtypes(include=['datetime64[ns]'])\n",
    "\n",
    "# sessions\n",
    "num_attrs_sessions = df_sessions.select_dtypes(include=['int64', 'float64'])\n",
    "cat_attrs_sessions = df_sessions.select_dtypes(exclude=['int64', 'float64', 'datetime64[ns]'])\n",
    "time_attrs_sessions = df_sessions.select_dtypes(include=['datetime64[ns]'])"
   ]
  },
  {
   "cell_type": "markdown",
   "id": "7488ff19",
   "metadata": {
    "heading_collapsed": true,
    "hidden": true
   },
   "source": [
    "### Numerical - Users"
   ]
  },
  {
   "cell_type": "code",
   "execution_count": 19,
   "id": "6f13fe76",
   "metadata": {
    "ExecuteTime": {
     "end_time": "2022-07-06T18:14:24.996365Z",
     "start_time": "2022-07-06T18:14:24.905862Z"
    },
    "hidden": true
   },
   "outputs": [
    {
     "data": {
      "text/html": [
       "<div>\n",
       "<style scoped>\n",
       "    .dataframe tbody tr th:only-of-type {\n",
       "        vertical-align: middle;\n",
       "    }\n",
       "\n",
       "    .dataframe tbody tr th {\n",
       "        vertical-align: top;\n",
       "    }\n",
       "\n",
       "    .dataframe thead th {\n",
       "        text-align: right;\n",
       "    }\n",
       "</style>\n",
       "<table border=\"1\" class=\"dataframe\">\n",
       "  <thead>\n",
       "    <tr style=\"text-align: right;\">\n",
       "      <th></th>\n",
       "      <th>attributes</th>\n",
       "      <th>min</th>\n",
       "      <th>max</th>\n",
       "      <th>range</th>\n",
       "      <th>mean</th>\n",
       "      <th>median</th>\n",
       "      <th>std</th>\n",
       "      <th>skew</th>\n",
       "      <th>kurtosis</th>\n",
       "    </tr>\n",
       "  </thead>\n",
       "  <tbody>\n",
       "    <tr>\n",
       "      <th>0</th>\n",
       "      <td>age</td>\n",
       "      <td>16.0</td>\n",
       "      <td>115.0</td>\n",
       "      <td>99.0</td>\n",
       "      <td>37.405591</td>\n",
       "      <td>34.0</td>\n",
       "      <td>13.939844</td>\n",
       "      <td>2.089718</td>\n",
       "      <td>6.516468</td>\n",
       "    </tr>\n",
       "    <tr>\n",
       "      <th>1</th>\n",
       "      <td>signup_flow</td>\n",
       "      <td>0.0</td>\n",
       "      <td>25.0</td>\n",
       "      <td>25.0</td>\n",
       "      <td>2.519513</td>\n",
       "      <td>0.0</td>\n",
       "      <td>6.604696</td>\n",
       "      <td>2.705871</td>\n",
       "      <td>5.928298</td>\n",
       "    </tr>\n",
       "  </tbody>\n",
       "</table>\n",
       "</div>"
      ],
      "text/plain": [
       "    attributes   min    max  range       mean  median        std      skew  kurtosis\n",
       "0          age  16.0  115.0   99.0  37.405591    34.0  13.939844  2.089718  6.516468\n",
       "1  signup_flow   0.0   25.0   25.0   2.519513     0.0   6.604696  2.705871  5.928298"
      ]
     },
     "execution_count": 19,
     "metadata": {},
     "output_type": "execute_result"
    }
   ],
   "source": [
    "# central tendency - mean, median\n",
    "ct1 = pd.DataFrame(num_attrs.apply(np.mean)).T\n",
    "ct2 = pd.DataFrame(num_attrs.apply(np.median)).T\n",
    "\n",
    "# dispersions - std, min, max, range, skew, kurtosis\n",
    "d1 = pd.DataFrame(num_attrs.apply(np.std)).T\n",
    "d2 = pd.DataFrame(num_attrs.apply(min)).T\n",
    "d3 = pd.DataFrame(num_attrs.apply(max)).T\n",
    "d4 = pd.DataFrame(num_attrs.apply(lambda x: x.max() - x.min())).T\n",
    "d5 = pd.DataFrame(num_attrs.apply(lambda x: x.skew())).T\n",
    "d6 = pd.DataFrame(num_attrs.apply(lambda x: x.kurtosis())).T\n",
    "\n",
    "# concat\n",
    "ct = pd.concat( [d2, d3, d4, ct1, ct2, d1, d5, d6] ).T.reset_index()\n",
    "ct.columns = ['attributes', 'min', 'max', 'range', 'mean', 'median', 'std', 'skew', 'kurtosis']\n",
    "ct"
   ]
  },
  {
   "cell_type": "markdown",
   "id": "0122b2ff",
   "metadata": {
    "heading_collapsed": true,
    "hidden": true
   },
   "source": [
    "### Numerical - Sessions"
   ]
  },
  {
   "cell_type": "code",
   "execution_count": 20,
   "id": "ab3a44b8",
   "metadata": {
    "ExecuteTime": {
     "end_time": "2022-07-06T18:14:27.144786Z",
     "start_time": "2022-07-06T18:14:24.998133Z"
    },
    "hidden": true
   },
   "outputs": [
    {
     "data": {
      "text/html": [
       "<div>\n",
       "<style scoped>\n",
       "    .dataframe tbody tr th:only-of-type {\n",
       "        vertical-align: middle;\n",
       "    }\n",
       "\n",
       "    .dataframe tbody tr th {\n",
       "        vertical-align: top;\n",
       "    }\n",
       "\n",
       "    .dataframe thead th {\n",
       "        text-align: right;\n",
       "    }\n",
       "</style>\n",
       "<table border=\"1\" class=\"dataframe\">\n",
       "  <thead>\n",
       "    <tr style=\"text-align: right;\">\n",
       "      <th></th>\n",
       "      <th>attributes</th>\n",
       "      <th>min</th>\n",
       "      <th>max</th>\n",
       "      <th>range</th>\n",
       "      <th>mean</th>\n",
       "      <th>median</th>\n",
       "      <th>std</th>\n",
       "      <th>skew</th>\n",
       "      <th>kurtosis</th>\n",
       "    </tr>\n",
       "  </thead>\n",
       "  <tbody>\n",
       "    <tr>\n",
       "      <th>0</th>\n",
       "      <td>secs_elapsed</td>\n",
       "      <td>0.0</td>\n",
       "      <td>1799977.0</td>\n",
       "      <td>1799977.0</td>\n",
       "      <td>19961.8251</td>\n",
       "      <td>1369.0</td>\n",
       "      <td>88849.388449</td>\n",
       "      <td>11.137761</td>\n",
       "      <td>154.84312</td>\n",
       "    </tr>\n",
       "  </tbody>\n",
       "</table>\n",
       "</div>"
      ],
      "text/plain": [
       "     attributes  min        max      range        mean  median           std       skew   kurtosis\n",
       "0  secs_elapsed  0.0  1799977.0  1799977.0  19961.8251  1369.0  88849.388449  11.137761  154.84312"
      ]
     },
     "execution_count": 20,
     "metadata": {},
     "output_type": "execute_result"
    }
   ],
   "source": [
    "# central tendency - mean, median\n",
    "ct1 = pd.DataFrame(num_attrs_sessions.apply(np.mean)).T\n",
    "ct2 = pd.DataFrame(num_attrs_sessions.apply(np.median)).T\n",
    "\n",
    "# dispersions - std, min, max, range, skew, kurtosis\n",
    "d1 = pd.DataFrame(num_attrs_sessions.apply(np.std)).T\n",
    "d2 = pd.DataFrame(num_attrs_sessions.apply(min)).T\n",
    "d3 = pd.DataFrame(num_attrs_sessions.apply(max)).T\n",
    "d4 = pd.DataFrame(num_attrs_sessions.apply(lambda x: x.max() - x.min())).T\n",
    "d5 = pd.DataFrame(num_attrs_sessions.apply(lambda x: x.skew())).T\n",
    "d6 = pd.DataFrame(num_attrs_sessions.apply(lambda x: x.kurtosis())).T\n",
    "\n",
    "# concat\n",
    "ct = pd.concat( [d2, d3, d4, ct1, ct2, d1, d5, d6] ).T.reset_index()\n",
    "ct.columns = ['attributes', 'min', 'max', 'range', 'mean', 'median', 'std', 'skew', 'kurtosis']\n",
    "ct"
   ]
  },
  {
   "cell_type": "markdown",
   "id": "a44f5df0",
   "metadata": {
    "heading_collapsed": true,
    "hidden": true
   },
   "source": [
    "### Categorical - Users"
   ]
  },
  {
   "cell_type": "code",
   "execution_count": 21,
   "id": "169dc586",
   "metadata": {
    "ExecuteTime": {
     "end_time": "2022-07-06T18:14:27.328959Z",
     "start_time": "2022-07-06T18:14:27.146290Z"
    },
    "hidden": true
   },
   "outputs": [
    {
     "data": {
      "text/html": [
       "<div>\n",
       "<style scoped>\n",
       "    .dataframe tbody tr th:only-of-type {\n",
       "        vertical-align: middle;\n",
       "    }\n",
       "\n",
       "    .dataframe tbody tr th {\n",
       "        vertical-align: top;\n",
       "    }\n",
       "\n",
       "    .dataframe thead th {\n",
       "        text-align: right;\n",
       "    }\n",
       "</style>\n",
       "<table border=\"1\" class=\"dataframe\">\n",
       "  <thead>\n",
       "    <tr style=\"text-align: right;\">\n",
       "      <th></th>\n",
       "      <th>gender</th>\n",
       "      <th>signup_method</th>\n",
       "      <th>language</th>\n",
       "      <th>affiliate_channel</th>\n",
       "      <th>affiliate_provider</th>\n",
       "      <th>first_affiliate_tracked</th>\n",
       "      <th>signup_app</th>\n",
       "      <th>first_device_type</th>\n",
       "      <th>first_browser</th>\n",
       "      <th>country_destination</th>\n",
       "    </tr>\n",
       "  </thead>\n",
       "  <tbody>\n",
       "    <tr>\n",
       "      <th>count</th>\n",
       "      <td>122636</td>\n",
       "      <td>122636</td>\n",
       "      <td>122636</td>\n",
       "      <td>122636</td>\n",
       "      <td>122636</td>\n",
       "      <td>122636</td>\n",
       "      <td>122636</td>\n",
       "      <td>122636</td>\n",
       "      <td>122636</td>\n",
       "      <td>122636</td>\n",
       "    </tr>\n",
       "    <tr>\n",
       "      <th>unique</th>\n",
       "      <td>4</td>\n",
       "      <td>3</td>\n",
       "      <td>25</td>\n",
       "      <td>8</td>\n",
       "      <td>17</td>\n",
       "      <td>7</td>\n",
       "      <td>4</td>\n",
       "      <td>9</td>\n",
       "      <td>41</td>\n",
       "      <td>12</td>\n",
       "    </tr>\n",
       "    <tr>\n",
       "      <th>top</th>\n",
       "      <td>FEMALE</td>\n",
       "      <td>basic</td>\n",
       "      <td>en</td>\n",
       "      <td>direct</td>\n",
       "      <td>direct</td>\n",
       "      <td>untracked</td>\n",
       "      <td>Web</td>\n",
       "      <td>Mac Desktop</td>\n",
       "      <td>Chrome</td>\n",
       "      <td>NDF</td>\n",
       "    </tr>\n",
       "    <tr>\n",
       "      <th>freq</th>\n",
       "      <td>56362</td>\n",
       "      <td>66039</td>\n",
       "      <td>118205</td>\n",
       "      <td>79093</td>\n",
       "      <td>78954</td>\n",
       "      <td>64712</td>\n",
       "      <td>108283</td>\n",
       "      <td>57943</td>\n",
       "      <td>41778</td>\n",
       "      <td>54852</td>\n",
       "    </tr>\n",
       "  </tbody>\n",
       "</table>\n",
       "</div>"
      ],
      "text/plain": [
       "        gender signup_method language affiliate_channel affiliate_provider first_affiliate_tracked signup_app first_device_type first_browser country_destination\n",
       "count   122636        122636   122636            122636             122636                  122636     122636            122636        122636              122636\n",
       "unique       4             3       25                 8                 17                       7          4                 9            41                  12\n",
       "top     FEMALE         basic       en            direct             direct               untracked        Web       Mac Desktop        Chrome                 NDF\n",
       "freq     56362         66039   118205             79093              78954                   64712     108283             57943         41778               54852"
      ]
     },
     "execution_count": 21,
     "metadata": {},
     "output_type": "execute_result"
    }
   ],
   "source": [
    "cat_attrs.drop('id', axis=1).describe()"
   ]
  },
  {
   "cell_type": "markdown",
   "id": "21d5be66",
   "metadata": {
    "ExecuteTime": {
     "end_time": "2022-07-05T10:31:39.413535Z",
     "start_time": "2022-07-05T10:31:39.408216Z"
    },
    "heading_collapsed": true,
    "hidden": true
   },
   "source": [
    "### Categorical - Sessions"
   ]
  },
  {
   "cell_type": "code",
   "execution_count": 22,
   "id": "01aa0906",
   "metadata": {
    "ExecuteTime": {
     "end_time": "2022-07-06T18:15:01.126435Z",
     "start_time": "2022-07-06T18:14:27.330580Z"
    },
    "hidden": true
   },
   "outputs": [
    {
     "data": {
      "image/png": "[encoded data removed]",
      "text/plain": [
       "<Figure size 1800x864 with 2 Axes>"
      ]
     },
     "metadata": {},
     "output_type": "display_data"
    }
   ],
   "source": [
    "cat_attrs_sessions_list = cat_attrs_sessions.drop('user_id', axis=1).columns.tolist()\n",
    "\n",
    "corr_dict = {}\n",
    "for i in range(len(cat_attrs_sessions_list)):\n",
    "    corr_list = []\n",
    "    for j in range(len(cat_attrs_sessions_list)):\n",
    "        \n",
    "        ref = cat_attrs_sessions_list[i]\n",
    "        feat = cat_attrs_sessions_list[j]\n",
    "        \n",
    "        # correlation\n",
    "        corr = cramer_v(cat_attrs_sessions[ ref ], cat_attrs_sessions[ feat ])\n",
    "        \n",
    "        # append a list\n",
    "        corr_list.append(corr)\n",
    "        \n",
    "    # append a correlation list for each ref attrs\n",
    "    corr_dict[ref] = corr_list\n",
    "    \n",
    "d = pd.DataFrame(corr_dict)\n",
    "d = d.set_index(d.columns)\n",
    "sns.heatmap(d, annot=True);"
   ]
  },
  {
   "cell_type": "markdown",
   "id": "b4104545",
   "metadata": {
    "heading_collapsed": true
   },
   "source": [
    "# FEATURE ENGINEERING"
   ]
  },
  {
   "cell_type": "code",
   "execution_count": 93,
   "id": "07f3f796",
   "metadata": {
    "ExecuteTime": {
     "end_time": "2022-07-06T19:00:27.368937Z",
     "start_time": "2022-07-06T19:00:27.350189Z"
    },
    "hidden": true
   },
   "outputs": [
    {
     "data": {
      "text/plain": [
       "(122636, 16)"
      ]
     },
     "execution_count": 93,
     "metadata": {},
     "output_type": "execute_result"
    }
   ],
   "source": [
    "df2 = df1.copy()\n",
    "df2.shape"
   ]
  },
  {
   "cell_type": "markdown",
   "id": "c1de82b0",
   "metadata": {
    "hidden": true
   },
   "source": [
    "## Create New Features"
   ]
  },
  {
   "cell_type": "code",
   "execution_count": 117,
   "id": "dbfa3813",
   "metadata": {
    "ExecuteTime": {
     "end_time": "2022-07-06T19:06:12.516815Z",
     "start_time": "2022-07-06T19:06:09.074670Z"
    },
    "hidden": true
   },
   "outputs": [],
   "source": [
    "# days from first active up to frist booking\n",
    "df2['first_active'] = pd.to_datetime(df2['timestamp_first_active'].dt.strftime('%Y-%m-%d'))\n",
    "df2['days_from_first_active_until_booking'] = (df2['date_first_booking'] - df2['first_active']).apply(lambda x: x.days)\n",
    "\n",
    "# days from first active up to account created\n",
    "df2['days_from_first_active_until_account_created'] = (df2['date_account_created'] - df2['first_active']).apply(lambda x: x.days)\n",
    "\n",
    "# days from account created up to first booking\n",
    "df2['days_from_account_created_until_first_booking'] = (df2['date_first_booking'] - df2['date_account_created']).apply(lambda x: x.days)\n",
    "\n",
    "\n",
    "# ========================== First Active ==========================\n",
    "\n",
    "\n",
    "# year first active - ok\n",
    "df2['year_first_active'] = df2['first_active'].dt.year\n",
    "\n",
    "# month first active - ok\n",
    "df2['month_first_active'] = df2['first_active'].dt.month\n",
    "\n",
    "# day of first active - ok\n",
    "df2['day_first_active'] = df2['first_active'].dt.day\n",
    "\n",
    "# day of week first active - ok\n",
    "df2['day_of_week_first_active'] = df2['first_active'].dt.dayofweek\n",
    "\n",
    "# week of year first active - ok\n",
    "df2['week_of_year_first_active'] = df2['first_active'].dt.weekofyear\n",
    "\n",
    "\n",
    "# ========================== First Booking ==========================\n",
    "\n",
    "# year first booking\n",
    "df2['year_first_booking'] = df2['date_first_booking'].dt.year\n",
    "\n",
    "# month first booking\n",
    "df2['month_first_booking'] = df2['date_first_booking'].dt.month\n",
    "\n",
    "# day of first booking\n",
    "df2['day_first_booking'] = df2['date_first_booking'].dt.day\n",
    "\n",
    "# day of week first booking\n",
    "df2['day_of_week_first_booking'] = df2['date_first_booking'].dt.dayofweek\n",
    "\n",
    "# week of year first booking\n",
    "df2['week_of_year_first_booking'] = df2['date_first_booking'].dt.weekofyear\n",
    "\n",
    "# ========================== First Account Created ==========================\n",
    " \n",
    "# year first account created\n",
    "df2['year_account_created'] = df2['date_account_created'].dt.year\n",
    "\n",
    "# month first booking\n",
    "df2['month_account_created'] = df2['date_account_created'].dt.month\n",
    "\n",
    "# day of first booking\n",
    "df2['day_account_created'] = df2['date_account_created'].dt.day\n",
    "\n",
    "# day of week first booking\n",
    "df2['day_of_week_account_created'] = df2['date_account_created'].dt.dayofweek\n",
    "\n",
    "# week of year first booking\n",
    "df2['week_of_year_account_created'] = df2['date_account_created'].dt.weekofyear\n"
   ]
  },
  {
   "cell_type": "markdown",
   "id": "7717b0ef",
   "metadata": {
    "heading_collapsed": true
   },
   "source": [
    "# DATA FILTERING"
   ]
  },
  {
   "cell_type": "code",
   "execution_count": 118,
   "id": "958fd360",
   "metadata": {
    "ExecuteTime": {
     "end_time": "2022-07-06T19:06:12.545029Z",
     "start_time": "2022-07-06T19:06:12.518881Z"
    },
    "hidden": true
   },
   "outputs": [
    {
     "data": {
      "text/plain": [
       "(122636, 36)"
      ]
     },
     "execution_count": 118,
     "metadata": {},
     "output_type": "execute_result"
    }
   ],
   "source": [
    "df3 = df2.copy()\n",
    "df3.shape"
   ]
  },
  {
   "cell_type": "markdown",
   "id": "aefad61f",
   "metadata": {
    "hidden": true
   },
   "source": [
    "## Filtering Rows"
   ]
  },
  {
   "cell_type": "code",
   "execution_count": 119,
   "id": "eb1fd868",
   "metadata": {
    "ExecuteTime": {
     "end_time": "2022-07-06T19:06:12.550588Z",
     "start_time": "2022-07-06T19:06:12.547540Z"
    },
    "hidden": true
   },
   "outputs": [],
   "source": [
    "# df3 = df3[(df3['age'] > 15) & (df3['age'] < 120)]\n",
    "\n",
    "# df3 = df3[df3[''] > 0]\n"
   ]
  },
  {
   "cell_type": "markdown",
   "id": "8daa2145",
   "metadata": {
    "hidden": true
   },
   "source": [
    "## Columns Selection"
   ]
  },
  {
   "cell_type": "code",
   "execution_count": 120,
   "id": "3b082cdb",
   "metadata": {
    "ExecuteTime": {
     "end_time": "2022-07-06T19:06:12.576177Z",
     "start_time": "2022-07-06T19:06:12.553815Z"
    },
    "hidden": true
   },
   "outputs": [],
   "source": [
    "cols_drop = ['date_account_created', 'timestamp_first_active', 'date_first_booking', 'first_active'] # origial dates\n",
    "\n",
    "df3 = df3.drop(cols_drop, axis=1)"
   ]
  },
  {
   "cell_type": "markdown",
   "id": "0bc0ac34",
   "metadata": {
    "heading_collapsed": true
   },
   "source": [
    "# BALANCED DATASET"
   ]
  },
  {
   "cell_type": "code",
   "execution_count": 121,
   "id": "55a83d96",
   "metadata": {
    "ExecuteTime": {
     "end_time": "2022-07-06T19:06:12.591799Z",
     "start_time": "2022-07-06T19:06:12.577835Z"
    },
    "hidden": true
   },
   "outputs": [],
   "source": [
    "df4 = df3.copy()"
   ]
  },
  {
   "cell_type": "code",
   "execution_count": 122,
   "id": "e88f220a",
   "metadata": {
    "ExecuteTime": {
     "end_time": "2022-07-06T19:06:12.986528Z",
     "start_time": "2022-07-06T19:06:12.593725Z"
    },
    "hidden": true
   },
   "outputs": [],
   "source": [
    "# Encoder Categorical Variables\n",
    "ohe = pp.OneHotEncoder()\n",
    "\n",
    "# Numerical\n",
    "col_num = df4.select_dtypes(include=['int64', 'float64']).columns.tolist()\n",
    "\n",
    "# Categorical\n",
    "col_cat = df4.select_dtypes(exclude=['int64', 'float64', 'datetime64[ns]']).drop(['id', 'country_destination'], axis=1).columns.tolist()\n",
    "\n",
    "# encoding\n",
    "df4_dummy = pd.DataFrame(ohe.fit_transform(df4[col_cat]).toarray(), index=df4.index)\n",
    "\n",
    "# join numerical and categorical\n",
    "df42 = pd.concat([df4[col_num], df4_dummy], axis=1)"
   ]
  },
  {
   "cell_type": "markdown",
   "id": "ba63882b",
   "metadata": {
    "hidden": true
   },
   "source": [
    "## Random Undersampling"
   ]
  },
  {
   "cell_type": "code",
   "execution_count": 123,
   "id": "cb301d90",
   "metadata": {
    "ExecuteTime": {
     "end_time": "2022-07-06T19:06:13.592762Z",
     "start_time": "2022-07-06T19:06:12.988838Z"
    },
    "hidden": true
   },
   "outputs": [],
   "source": [
    "# ration balanced\n",
    "ratio_balanced = {'NDF': 10000}\n",
    "\n",
    "# define Sampler\n",
    "undersampling = us.RandomUnderSampler(sampling_strategy=ratio_balanced, random_state=32)\n",
    "\n",
    "# apply sampler\n",
    "x_under, y_under = undersampling.fit_resample(df42, df4['country_destination'])"
   ]
  },
  {
   "cell_type": "code",
   "execution_count": 124,
   "id": "62f44e2a",
   "metadata": {
    "ExecuteTime": {
     "end_time": "2022-07-06T19:06:13.608202Z",
     "start_time": "2022-07-06T19:06:13.594951Z"
    },
    "cell_style": "split",
    "hidden": true
   },
   "outputs": [
    {
     "data": {
      "text/plain": [
       "NDF      54852\n",
       "US       48057\n",
       "other     7511\n",
       "FR        3669\n",
       "IT        2014\n",
       "GB        1758\n",
       "ES        1685\n",
       "CA        1064\n",
       "DE         841\n",
       "NL         595\n",
       "AU         433\n",
       "PT         157\n",
       "Name: country_destination, dtype: int64"
      ]
     },
     "execution_count": 124,
     "metadata": {},
     "output_type": "execute_result"
    }
   ],
   "source": [
    "df4['country_destination'].value_counts()"
   ]
  },
  {
   "cell_type": "code",
   "execution_count": 125,
   "id": "e85d3c4b",
   "metadata": {
    "ExecuteTime": {
     "end_time": "2022-07-06T19:06:13.622582Z",
     "start_time": "2022-07-06T19:06:13.611710Z"
    },
    "cell_style": "split",
    "hidden": true
   },
   "outputs": [
    {
     "data": {
      "text/plain": [
       "US       48057\n",
       "NDF      10000\n",
       "other     7511\n",
       "FR        3669\n",
       "IT        2014\n",
       "GB        1758\n",
       "ES        1685\n",
       "CA        1064\n",
       "DE         841\n",
       "NL         595\n",
       "AU         433\n",
       "PT         157\n",
       "Name: country_destination, dtype: int64"
      ]
     },
     "execution_count": 125,
     "metadata": {},
     "output_type": "execute_result"
    }
   ],
   "source": [
    "y_under.value_counts()"
   ]
  },
  {
   "cell_type": "markdown",
   "id": "42cc6dd9",
   "metadata": {
    "hidden": true
   },
   "source": [
    "## Random Oversampling"
   ]
  },
  {
   "cell_type": "code",
   "execution_count": 126,
   "id": "97235dca",
   "metadata": {
    "ExecuteTime": {
     "end_time": "2022-07-06T19:06:15.954818Z",
     "start_time": "2022-07-06T19:06:13.624822Z"
    },
    "hidden": true
   },
   "outputs": [],
   "source": [
    "# define Sampler\n",
    "oversampling = oversamp.RandomOverSampler(sampling_strategy='all', random_state=32)\n",
    "\n",
    "# apply sampler\n",
    "x_over, y_over = oversampling.fit_resample(df42, df4['country_destination'])"
   ]
  },
  {
   "cell_type": "code",
   "execution_count": 127,
   "id": "49aadf4e",
   "metadata": {
    "ExecuteTime": {
     "end_time": "2022-07-06T19:06:15.969393Z",
     "start_time": "2022-07-06T19:06:15.956988Z"
    },
    "cell_style": "split",
    "hidden": true
   },
   "outputs": [
    {
     "data": {
      "text/plain": [
       "NDF      54852\n",
       "US       48057\n",
       "other     7511\n",
       "FR        3669\n",
       "IT        2014\n",
       "GB        1758\n",
       "ES        1685\n",
       "CA        1064\n",
       "DE         841\n",
       "NL         595\n",
       "AU         433\n",
       "PT         157\n",
       "Name: country_destination, dtype: int64"
      ]
     },
     "execution_count": 127,
     "metadata": {},
     "output_type": "execute_result"
    }
   ],
   "source": [
    "df4['country_destination'].value_counts()"
   ]
  },
  {
   "cell_type": "code",
   "execution_count": 128,
   "id": "d5aa25d2",
   "metadata": {
    "ExecuteTime": {
     "end_time": "2022-07-06T19:06:16.015153Z",
     "start_time": "2022-07-06T19:06:15.972271Z"
    },
    "cell_style": "split",
    "hidden": true
   },
   "outputs": [
    {
     "data": {
      "text/plain": [
       "NDF      54852\n",
       "US       54852\n",
       "other    54852\n",
       "CA       54852\n",
       "FR       54852\n",
       "IT       54852\n",
       "ES       54852\n",
       "GB       54852\n",
       "NL       54852\n",
       "DE       54852\n",
       "AU       54852\n",
       "PT       54852\n",
       "Name: country_destination, dtype: int64"
      ]
     },
     "execution_count": 128,
     "metadata": {},
     "output_type": "execute_result"
    }
   ],
   "source": [
    "y_over.value_counts()"
   ]
  },
  {
   "cell_type": "markdown",
   "id": "73082d5b",
   "metadata": {
    "hidden": true
   },
   "source": [
    "## SMOTE + TOMELINK"
   ]
  },
  {
   "cell_type": "code",
   "execution_count": 129,
   "id": "79d73e0c",
   "metadata": {
    "ExecuteTime": {
     "end_time": "2022-07-06T19:06:16.022174Z",
     "start_time": "2022-07-06T19:06:16.018330Z"
    },
    "hidden": true
   },
   "outputs": [],
   "source": [
    "ratio_balanced = {\n",
    "    \n",
    "    'NDF': 54852,\n",
    "    'US': 48057,\n",
    "    'other': 6*7511,\n",
    "    'FR': 12*3669,\n",
    "    'IT': 20*2014,\n",
    "    'GB': 30*1758,\n",
    "    'ES': 30*1685,\n",
    "    'CA': 40*1064,\n",
    "    'DE': 45*841,\n",
    "    'NL': 80*595,\n",
    "    'AU': 85*433,\n",
    "    'PT': 300*157\n",
    "}"
   ]
  },
  {
   "cell_type": "markdown",
   "id": "7d085e69",
   "metadata": {
    "hidden": true
   },
   "source": [
    "<font color='red'>**ARRUMAR ACCOUNTED CREATED**</font>"
   ]
  },
  {
   "cell_type": "code",
   "execution_count": 130,
   "id": "a195217c",
   "metadata": {
    "ExecuteTime": {
     "end_time": "2022-07-06T19:06:16.954586Z",
     "start_time": "2022-07-06T19:06:16.023812Z"
    },
    "hidden": true
   },
   "outputs": [],
   "source": [
    "# # define sampler\n",
    "# smt = c.SMOTETomek(sampling_strategy=ratio_balanced, random_state=32, n_jobs=1)\n",
    "\n",
    "# # apply sampler\n",
    "# x_smt, y_smt = smt.fit_resample(df42, df4['country_destination'])\n",
    "\n",
    "# # numerical data\n",
    "# df43 = x_smt[col_num]\n",
    "\n",
    "# # =-=-=-=-==-=-=-=-==-=-=-=-==-=-=-=-==-=-=-=-==-=-=-=-==-=-=-=-==-=-=-=-==-=-=-=-==-=-=-=-=\n",
    "\n",
    "# # categorical data\n",
    "# df44 = x_smt.drop(col_num, axis=1)\n",
    "# df45 = pd.DataFrame(ohe.inverse_transform(df44), columns=col_cat, index=df44.index)\n",
    "\n",
    "# # join numerical categorical\n",
    "# df46 = pd.concat([df43, df45], axis=1)\n",
    "# df46['country_destination'] = y_smt\n",
    "\n",
    "# df46.to_csv('./data/df46.csv', index=False)\n",
    "\n",
    "# =-=-=-=-==-=-=-=-==-=-=-=-==-=-=-=-==-=-=-=-==-=-=-=-==-=-=-=-==-=-=-=-==-=-=-=-==-=-=-=-=\n",
    "\n",
    "df46 = pd.read_csv('./data/df46.csv')"
   ]
  },
  {
   "cell_type": "markdown",
   "id": "2d6892ca",
   "metadata": {},
   "source": [
    "# EXPLORATORY DATA ANALYSIS"
   ]
  },
  {
   "cell_type": "code",
   "execution_count": 131,
   "id": "8bb89564",
   "metadata": {
    "ExecuteTime": {
     "end_time": "2022-07-06T19:06:16.993389Z",
     "start_time": "2022-07-06T19:06:16.956438Z"
    }
   },
   "outputs": [],
   "source": [
    "df51 = df46.copy()"
   ]
  },
  {
   "cell_type": "code",
   "execution_count": 132,
   "id": "14eadadd",
   "metadata": {
    "ExecuteTime": {
     "end_time": "2022-07-06T19:06:17.008983Z",
     "start_time": "2022-07-06T19:06:16.995452Z"
    }
   },
   "outputs": [],
   "source": [
    "df52 = df4.copy()"
   ]
  },
  {
   "cell_type": "markdown",
   "id": "257945be",
   "metadata": {
    "heading_collapsed": true
   },
   "source": [
    "## Hypothesis Validation (Unbalanced Dataset)"
   ]
  },
  {
   "cell_type": "markdown",
   "id": "35907d7e",
   "metadata": {
    "hidden": true,
    "hide_input": false
   },
   "source": [
    "**H01**. Em todos os destinos, os usuarios levam 15 dias, em media, para fazer a primeira reserva no AirBnB, desde sua primeira ativação.\n",
    "\n",
    "**VERDADEIRO**. Em todos os destinos os usuarios levam até 6 dias para reservar."
   ]
  },
  {
   "cell_type": "code",
   "execution_count": 88,
   "id": "5e95f45a",
   "metadata": {
    "ExecuteTime": {
     "end_time": "2022-07-06T18:58:01.559792Z",
     "start_time": "2022-07-06T18:58:00.979276Z"
    },
    "hidden": true,
    "hide_input": true
   },
   "outputs": [
    {
     "data": {
      "image/png": "[encoded data removed]",
      "text/plain": [
       "<Figure size 1800x864 with 2 Axes>"
      ]
     },
     "metadata": {},
     "output_type": "display_data"
    }
   ],
   "source": [
    "plt.subplot(3, 1, 1)\n",
    "\n",
    "aux01 = df52[['days_from_first_active_until_booking', 'country_destination']].groupby('country_destination').median().reset_index()\n",
    "sns.barplot(x='country_destination', y='days_from_first_active_until_booking', data=aux01.sort_values('days_from_first_active_until_booking'));\n",
    "\n",
    "# remove outlier\n",
    "\n",
    "plt.subplot(3, 1, 2)\n",
    "\n",
    "aux02 = df52[df52['country_destination'] != 'NDF']\n",
    "aux02 = aux02[['days_from_first_active_until_booking', 'country_destination']].groupby('country_destination').median().reset_index()\n",
    "sns.barplot(x='country_destination', y='days_from_first_active_until_booking', data=aux02.sort_values('days_from_first_active_until_booking'));"
   ]
  },
  {
   "cell_type": "markdown",
   "id": "96ce47fc",
   "metadata": {
    "ExecuteTime": {
     "end_time": "2022-07-06T11:53:39.651879Z",
     "start_time": "2022-07-06T11:53:39.646901Z"
    },
    "hidden": true
   },
   "source": [
    "**H02**. Em todos os destinos, os usuarios levam 3 dias em media para fazer o cadastro no site\n",
    "\n",
    "**VERDADEIRA** Em todos os destinos os usuarios levam até 2 dias para finalizar o cadastro."
   ]
  },
  {
   "cell_type": "code",
   "execution_count": 136,
   "id": "f1bdcc6f",
   "metadata": {
    "ExecuteTime": {
     "end_time": "2022-07-06T19:09:11.438250Z",
     "start_time": "2022-07-06T19:09:11.101154Z"
    },
    "hidden": true,
    "hide_input": true
   },
   "outputs": [
    {
     "data": {
      "image/png": "[encoded data removed]",
      "text/plain": [
       "<Figure size 1800x864 with 1 Axes>"
      ]
     },
     "metadata": {},
     "output_type": "display_data"
    }
   ],
   "source": [
    "plt.subplot(3, 1, 1)\n",
    "\n",
    "aux01 = df52[['days_from_first_active_account_created', 'country_destination']].groupby('country_destination').mean().reset_index()\n",
    "sns.barplot(x='country_destination', y='days_from_first_active_account_created', data=aux01.sort_values('days_from_first_active_account_created'));"
   ]
  },
  {
   "cell_type": "markdown",
   "id": "2ebf93a7",
   "metadata": {
    "hidden": true
   },
   "source": [
    "**H03**. O volume de reservas anual feitas durante o verão aumentaram 20% para destinos dentro dos USA.\n",
    "\n",
    "**FALSA** O Volume de reservas aumentam durante o verao entre os anos de 2010 até 2013."
   ]
  },
  {
   "cell_type": "code",
   "execution_count": 157,
   "id": "515b5c6e",
   "metadata": {
    "ExecuteTime": {
     "end_time": "2022-07-06T19:22:38.878576Z",
     "start_time": "2022-07-06T19:22:38.604424Z"
    },
    "hidden": true,
    "hide_input": true
   },
   "outputs": [
    {
     "data": {
      "image/png": "[encoded data removed]",
      "text/plain": [
       "<Figure size 1800x864 with 1 Axes>"
      ]
     },
     "metadata": {},
     "output_type": "display_data"
    }
   ],
   "source": [
    "aux01 = df52[['year_first_booking','month_first_booking','country_destination']]\\\n",
    ".groupby(['year_first_booking','month_first_booking','country_destination']).size().reset_index().rename(columns={0:'count'})\n",
    "\n",
    "# select only summer\n",
    "aux01 = aux01[(aux01['month_first_booking'].isin([6, 7, 8, 9]) & (aux01['country_destination'] == 'US'))]\n",
    "\n",
    "aux02 = aux01[['year_first_booking', 'count']].groupby('year_first_booking').sum().reset_index()\n",
    "aux02['delta'] = 100*aux02['count'].pct_change().fillna(0)\n",
    "\n",
    "sns.barplot(x='year_first_booking', y='delta', data=aux02);"
   ]
  },
  {
   "cell_type": "markdown",
   "id": "5fb31b19",
   "metadata": {
    "hidden": true
   },
   "source": [
    "**H04**. Usuarios do sexo feminino fazem 10% mais reservas para paises fora dos USA,"
   ]
  },
  {
   "cell_type": "markdown",
   "id": "22015b85",
   "metadata": {
    "hidden": true
   },
   "source": [
    "**H05**. O canal de marketing Google representa 40% das reservas para paises fora dos USA."
   ]
  },
  {
   "cell_type": "markdown",
   "id": "a2d09b06",
   "metadata": {
    "hidden": true
   },
   "source": [
    "**H06**. O destino dos USA representam mais de 20% em todos os canais."
   ]
  },
  {
   "cell_type": "markdown",
   "id": "64b55660",
   "metadata": {
    "hidden": true
   },
   "source": [
    "**H07**. A idade media das pessoas é de 35 anos em todos os destinos"
   ]
  },
  {
   "cell_type": "markdown",
   "id": "d422e837",
   "metadata": {
    "hidden": true
   },
   "source": [
    "**H08**. A porcentagem de usuarios que usam o site na lingua ingle-americano para reservar acomodações em qualquer destino é maior que 90%"
   ]
  },
  {
   "cell_type": "markdown",
   "id": "55e4a7d4",
   "metadata": {
    "hidden": true
   },
   "source": [
    "**H09**. O número de reservas do AirBnB é crescente ou decrescente ao longo dos anos?"
   ]
  },
  {
   "cell_type": "markdown",
   "id": "94151508",
   "metadata": {
    "hidden": true
   },
   "source": [
    "**H10**. O numero de reservas do AirBnB é crescente ao longo dos ano."
   ]
  },
  {
   "cell_type": "markdown",
   "id": "c1dd3818",
   "metadata": {},
   "source": [
    "# VARIABLES IMPACT (BALANCED DATASET)"
   ]
  },
  {
   "cell_type": "code",
   "execution_count": null,
   "id": "e42f5ea1",
   "metadata": {},
   "outputs": [],
   "source": [
    "# profile = ProfileReport(df51) \n",
    "# profile.to_notebook_iframe()  "
   ]
  },
  {
   "cell_type": "code",
   "execution_count": null,
   "id": "ec08eb2d",
   "metadata": {},
   "outputs": [],
   "source": [
    "# =================================== High Correlation ===================================\n",
    "# days_from_ first_active_until_booking x days_from_account_created_until_first_booking\n",
    "# remove: first_active_until_booking\n",
    "\n",
    "# year_first_active x year_account_created\n",
    "# remove: year_first_active \n",
    "\n",
    "# month_first_active x month_account_created\n",
    "# remove: month_first_active\n",
    "\n",
    "# day_first_active x day_account_created\n",
    "# remove: day_first_acrtive\n",
    "\n",
    "# day_of_yeek_first_active x day_of_yeek_account_created\n",
    "# remove: day_of_yeek_first_active\n",
    "\n",
    "# week_of_year_first_active x week_of_year_account_created\n",
    "# remove: week_of_year_first_active\n",
    "\n",
    "# month_first_booking x week_of_year_account_created\n",
    "# remove: month_first_booking\n",
    "\n",
    "# month_account_created x week_of_year_account_created\n",
    "# remove: month_account_created\n",
    "\n",
    "# year_first_booking x year_account_created\n",
    "# remove: year_first_booking\n",
    "\n",
    "# week_of_year_first_booking x week_of_year_account_created\n",
    "# remove: week_of_year_first_booking\n",
    "\n",
    "# affiliate_channel x affiliate_provider\n",
    "# remove: affiliate_provider\n",
    "\n",
    "# first_device_type x first_browser\n",
    "# remove: first_browser\n",
    "\n",
    "# first_device_type x sigup_app\n",
    "# remove: first_device_type"
   ]
  },
  {
   "cell_type": "markdown",
   "id": "0b38f1f7",
   "metadata": {},
   "source": [
    "## Univariate Analysis"
   ]
  },
  {
   "cell_type": "markdown",
   "id": "366a0a23",
   "metadata": {},
   "source": [
    "## Bivariate Analysis"
   ]
  },
  {
   "cell_type": "markdown",
   "id": "382fdbf0",
   "metadata": {},
   "source": [
    "## Multivariate Analysis"
   ]
  },
  {
   "cell_type": "markdown",
   "id": "3d8a65c7",
   "metadata": {
    "heading_collapsed": true
   },
   "source": [
    "# DATA PREPARATION"
   ]
  },
  {
   "cell_type": "code",
   "execution_count": 40,
   "id": "3e9a3c63",
   "metadata": {
    "ExecuteTime": {
     "end_time": "2022-07-06T18:15:10.860815Z",
     "start_time": "2022-07-06T18:15:10.841626Z"
    },
    "hidden": true
   },
   "outputs": [],
   "source": [
    "df4 = df3.copy()"
   ]
  },
  {
   "cell_type": "code",
   "execution_count": 41,
   "id": "bc5c4798",
   "metadata": {
    "ExecuteTime": {
     "end_time": "2022-07-06T18:15:11.101808Z",
     "start_time": "2022-07-06T18:15:10.862851Z"
    },
    "hidden": true
   },
   "outputs": [],
   "source": [
    "# dummy variable\n",
    "df4_dummy = pd.get_dummies(df4.drop(['id', 'country_destination'], axis=1))\n",
    "\n",
    "# join id and country_destination\n",
    "df4 = pd.concat([df4[['id', 'country_destination']], df4_dummy], axis=1)"
   ]
  },
  {
   "cell_type": "markdown",
   "id": "759d4ced",
   "metadata": {
    "heading_collapsed": true
   },
   "source": [
    "# FEATURE SELECTION"
   ]
  },
  {
   "cell_type": "code",
   "execution_count": 42,
   "id": "69ed1305",
   "metadata": {
    "ExecuteTime": {
     "end_time": "2022-07-06T18:15:14.184559Z",
     "start_time": "2022-07-06T18:15:11.103890Z"
    },
    "hidden": true
   },
   "outputs": [
    {
     "ename": "KeyError",
     "evalue": "\"['date_account_created', 'timestamp_first_active', 'date_first_booking', 'first_active'] not found in axis\"",
     "output_type": "error",
     "traceback": [
      "\u001b[0;31m---------------------------------------------------------------------------\u001b[0m",
      "\u001b[0;31mKeyError\u001b[0m                                  Traceback (most recent call last)",
      "Input \u001b[0;32mIn [42]\u001b[0m, in \u001b[0;36m<cell line: 2>\u001b[0;34m()\u001b[0m\n\u001b[1;32m      1\u001b[0m cols_drop \u001b[38;5;241m=\u001b[39m [\u001b[38;5;124m'\u001b[39m\u001b[38;5;124mdate_account_created\u001b[39m\u001b[38;5;124m'\u001b[39m, \u001b[38;5;124m'\u001b[39m\u001b[38;5;124mtimestamp_first_active\u001b[39m\u001b[38;5;124m'\u001b[39m, \u001b[38;5;124m'\u001b[39m\u001b[38;5;124mdate_first_booking\u001b[39m\u001b[38;5;124m'\u001b[39m, \u001b[38;5;124m'\u001b[39m\u001b[38;5;124mfirst_active\u001b[39m\u001b[38;5;124m'\u001b[39m] \u001b[38;5;66;03m# origial dates\u001b[39;00m\n\u001b[0;32m----> 2\u001b[0m df5 \u001b[38;5;241m=\u001b[39m \u001b[43mdf4\u001b[49m\u001b[38;5;241;43m.\u001b[39;49m\u001b[43mdrop\u001b[49m\u001b[43m(\u001b[49m\u001b[43m \u001b[49m\u001b[43mcols_drop\u001b[49m\u001b[43m,\u001b[49m\u001b[43m \u001b[49m\u001b[43maxis\u001b[49m\u001b[38;5;241;43m=\u001b[39;49m\u001b[38;5;241;43m1\u001b[39;49m\u001b[43m)\u001b[49m\n",
      "File \u001b[0;32m~/.local/lib/python3.8/site-packages/pandas/util/_decorators.py:311\u001b[0m, in \u001b[0;36mdeprecate_nonkeyword_arguments.<locals>.decorate.<locals>.wrapper\u001b[0;34m(*args, **kwargs)\u001b[0m\n\u001b[1;32m    305\u001b[0m \u001b[38;5;28;01mif\u001b[39;00m \u001b[38;5;28mlen\u001b[39m(args) \u001b[38;5;241m>\u001b[39m num_allow_args:\n\u001b[1;32m    306\u001b[0m     warnings\u001b[38;5;241m.\u001b[39mwarn(\n\u001b[1;32m    307\u001b[0m         msg\u001b[38;5;241m.\u001b[39mformat(arguments\u001b[38;5;241m=\u001b[39marguments),\n\u001b[1;32m    308\u001b[0m         \u001b[38;5;167;01mFutureWarning\u001b[39;00m,\n\u001b[1;32m    309\u001b[0m         stacklevel\u001b[38;5;241m=\u001b[39mstacklevel,\n\u001b[1;32m    310\u001b[0m     )\n\u001b[0;32m--> 311\u001b[0m \u001b[38;5;28;01mreturn\u001b[39;00m \u001b[43mfunc\u001b[49m\u001b[43m(\u001b[49m\u001b[38;5;241;43m*\u001b[39;49m\u001b[43margs\u001b[49m\u001b[43m,\u001b[49m\u001b[43m \u001b[49m\u001b[38;5;241;43m*\u001b[39;49m\u001b[38;5;241;43m*\u001b[39;49m\u001b[43mkwargs\u001b[49m\u001b[43m)\u001b[49m\n",
      "File \u001b[0;32m~/.local/lib/python3.8/site-packages/pandas/core/frame.py:4954\u001b[0m, in \u001b[0;36mDataFrame.drop\u001b[0;34m(self, labels, axis, index, columns, level, inplace, errors)\u001b[0m\n\u001b[1;32m   4806\u001b[0m \u001b[38;5;129m@deprecate_nonkeyword_arguments\u001b[39m(version\u001b[38;5;241m=\u001b[39m\u001b[38;5;28;01mNone\u001b[39;00m, allowed_args\u001b[38;5;241m=\u001b[39m[\u001b[38;5;124m\"\u001b[39m\u001b[38;5;124mself\u001b[39m\u001b[38;5;124m\"\u001b[39m, \u001b[38;5;124m\"\u001b[39m\u001b[38;5;124mlabels\u001b[39m\u001b[38;5;124m\"\u001b[39m])\n\u001b[1;32m   4807\u001b[0m \u001b[38;5;28;01mdef\u001b[39;00m \u001b[38;5;21mdrop\u001b[39m(\n\u001b[1;32m   4808\u001b[0m     \u001b[38;5;28mself\u001b[39m,\n\u001b[0;32m   (...)\u001b[0m\n\u001b[1;32m   4815\u001b[0m     errors: \u001b[38;5;28mstr\u001b[39m \u001b[38;5;241m=\u001b[39m \u001b[38;5;124m\"\u001b[39m\u001b[38;5;124mraise\u001b[39m\u001b[38;5;124m\"\u001b[39m,\n\u001b[1;32m   4816\u001b[0m ):\n\u001b[1;32m   4817\u001b[0m     \u001b[38;5;124;03m\"\"\"\u001b[39;00m\n\u001b[1;32m   4818\u001b[0m \u001b[38;5;124;03m    Drop specified labels from rows or columns.\u001b[39;00m\n\u001b[1;32m   4819\u001b[0m \n\u001b[0;32m   (...)\u001b[0m\n\u001b[1;32m   4952\u001b[0m \u001b[38;5;124;03m            weight  1.0     0.8\u001b[39;00m\n\u001b[1;32m   4953\u001b[0m \u001b[38;5;124;03m    \"\"\"\u001b[39;00m\n\u001b[0;32m-> 4954\u001b[0m     \u001b[38;5;28;01mreturn\u001b[39;00m \u001b[38;5;28;43msuper\u001b[39;49m\u001b[43m(\u001b[49m\u001b[43m)\u001b[49m\u001b[38;5;241;43m.\u001b[39;49m\u001b[43mdrop\u001b[49m\u001b[43m(\u001b[49m\n\u001b[1;32m   4955\u001b[0m \u001b[43m        \u001b[49m\u001b[43mlabels\u001b[49m\u001b[38;5;241;43m=\u001b[39;49m\u001b[43mlabels\u001b[49m\u001b[43m,\u001b[49m\n\u001b[1;32m   4956\u001b[0m \u001b[43m        \u001b[49m\u001b[43maxis\u001b[49m\u001b[38;5;241;43m=\u001b[39;49m\u001b[43maxis\u001b[49m\u001b[43m,\u001b[49m\n\u001b[1;32m   4957\u001b[0m \u001b[43m        \u001b[49m\u001b[43mindex\u001b[49m\u001b[38;5;241;43m=\u001b[39;49m\u001b[43mindex\u001b[49m\u001b[43m,\u001b[49m\n\u001b[1;32m   4958\u001b[0m \u001b[43m        \u001b[49m\u001b[43mcolumns\u001b[49m\u001b[38;5;241;43m=\u001b[39;49m\u001b[43mcolumns\u001b[49m\u001b[43m,\u001b[49m\n\u001b[1;32m   4959\u001b[0m \u001b[43m        \u001b[49m\u001b[43mlevel\u001b[49m\u001b[38;5;241;43m=\u001b[39;49m\u001b[43mlevel\u001b[49m\u001b[43m,\u001b[49m\n\u001b[1;32m   4960\u001b[0m \u001b[43m        \u001b[49m\u001b[43minplace\u001b[49m\u001b[38;5;241;43m=\u001b[39;49m\u001b[43minplace\u001b[49m\u001b[43m,\u001b[49m\n\u001b[1;32m   4961\u001b[0m \u001b[43m        \u001b[49m\u001b[43merrors\u001b[49m\u001b[38;5;241;43m=\u001b[39;49m\u001b[43merrors\u001b[49m\u001b[43m,\u001b[49m\n\u001b[1;32m   4962\u001b[0m \u001b[43m    \u001b[49m\u001b[43m)\u001b[49m\n",
      "File \u001b[0;32m~/.local/lib/python3.8/site-packages/pandas/core/generic.py:4267\u001b[0m, in \u001b[0;36mNDFrame.drop\u001b[0;34m(self, labels, axis, index, columns, level, inplace, errors)\u001b[0m\n\u001b[1;32m   4265\u001b[0m \u001b[38;5;28;01mfor\u001b[39;00m axis, labels \u001b[38;5;129;01min\u001b[39;00m axes\u001b[38;5;241m.\u001b[39mitems():\n\u001b[1;32m   4266\u001b[0m     \u001b[38;5;28;01mif\u001b[39;00m labels \u001b[38;5;129;01mis\u001b[39;00m \u001b[38;5;129;01mnot\u001b[39;00m \u001b[38;5;28;01mNone\u001b[39;00m:\n\u001b[0;32m-> 4267\u001b[0m         obj \u001b[38;5;241m=\u001b[39m \u001b[43mobj\u001b[49m\u001b[38;5;241;43m.\u001b[39;49m\u001b[43m_drop_axis\u001b[49m\u001b[43m(\u001b[49m\u001b[43mlabels\u001b[49m\u001b[43m,\u001b[49m\u001b[43m \u001b[49m\u001b[43maxis\u001b[49m\u001b[43m,\u001b[49m\u001b[43m \u001b[49m\u001b[43mlevel\u001b[49m\u001b[38;5;241;43m=\u001b[39;49m\u001b[43mlevel\u001b[49m\u001b[43m,\u001b[49m\u001b[43m \u001b[49m\u001b[43merrors\u001b[49m\u001b[38;5;241;43m=\u001b[39;49m\u001b[43merrors\u001b[49m\u001b[43m)\u001b[49m\n\u001b[1;32m   4269\u001b[0m \u001b[38;5;28;01mif\u001b[39;00m inplace:\n\u001b[1;32m   4270\u001b[0m     \u001b[38;5;28mself\u001b[39m\u001b[38;5;241m.\u001b[39m_update_inplace(obj)\n",
      "File \u001b[0;32m~/.local/lib/python3.8/site-packages/pandas/core/generic.py:4311\u001b[0m, in \u001b[0;36mNDFrame._drop_axis\u001b[0;34m(self, labels, axis, level, errors, consolidate, only_slice)\u001b[0m\n\u001b[1;32m   4309\u001b[0m         new_axis \u001b[38;5;241m=\u001b[39m axis\u001b[38;5;241m.\u001b[39mdrop(labels, level\u001b[38;5;241m=\u001b[39mlevel, errors\u001b[38;5;241m=\u001b[39merrors)\n\u001b[1;32m   4310\u001b[0m     \u001b[38;5;28;01melse\u001b[39;00m:\n\u001b[0;32m-> 4311\u001b[0m         new_axis \u001b[38;5;241m=\u001b[39m \u001b[43maxis\u001b[49m\u001b[38;5;241;43m.\u001b[39;49m\u001b[43mdrop\u001b[49m\u001b[43m(\u001b[49m\u001b[43mlabels\u001b[49m\u001b[43m,\u001b[49m\u001b[43m \u001b[49m\u001b[43merrors\u001b[49m\u001b[38;5;241;43m=\u001b[39;49m\u001b[43merrors\u001b[49m\u001b[43m)\u001b[49m\n\u001b[1;32m   4312\u001b[0m     indexer \u001b[38;5;241m=\u001b[39m axis\u001b[38;5;241m.\u001b[39mget_indexer(new_axis)\n\u001b[1;32m   4314\u001b[0m \u001b[38;5;66;03m# Case for non-unique axis\u001b[39;00m\n\u001b[1;32m   4315\u001b[0m \u001b[38;5;28;01melse\u001b[39;00m:\n",
      "File \u001b[0;32m~/.local/lib/python3.8/site-packages/pandas/core/indexes/base.py:6644\u001b[0m, in \u001b[0;36mIndex.drop\u001b[0;34m(self, labels, errors)\u001b[0m\n\u001b[1;32m   6642\u001b[0m \u001b[38;5;28;01mif\u001b[39;00m mask\u001b[38;5;241m.\u001b[39many():\n\u001b[1;32m   6643\u001b[0m     \u001b[38;5;28;01mif\u001b[39;00m errors \u001b[38;5;241m!=\u001b[39m \u001b[38;5;124m\"\u001b[39m\u001b[38;5;124mignore\u001b[39m\u001b[38;5;124m\"\u001b[39m:\n\u001b[0;32m-> 6644\u001b[0m         \u001b[38;5;28;01mraise\u001b[39;00m \u001b[38;5;167;01mKeyError\u001b[39;00m(\u001b[38;5;124mf\u001b[39m\u001b[38;5;124m\"\u001b[39m\u001b[38;5;132;01m{\u001b[39;00m\u001b[38;5;28mlist\u001b[39m(labels[mask])\u001b[38;5;132;01m}\u001b[39;00m\u001b[38;5;124m not found in axis\u001b[39m\u001b[38;5;124m\"\u001b[39m)\n\u001b[1;32m   6645\u001b[0m     indexer \u001b[38;5;241m=\u001b[39m indexer[\u001b[38;5;241m~\u001b[39mmask]\n\u001b[1;32m   6646\u001b[0m \u001b[38;5;28;01mreturn\u001b[39;00m \u001b[38;5;28mself\u001b[39m\u001b[38;5;241m.\u001b[39mdelete(indexer)\n",
      "\u001b[0;31mKeyError\u001b[0m: \"['date_account_created', 'timestamp_first_active', 'date_first_booking', 'first_active'] not found in axis\""
     ]
    }
   ],
   "source": [
    "cols_drop = ['date_account_created', 'timestamp_first_active', 'date_first_booking', 'first_active'] # origial dates\n",
    "df5 = df4.drop( cols_drop, axis=1)"
   ]
  },
  {
   "cell_type": "code",
   "execution_count": null,
   "id": "c7a02bee",
   "metadata": {
    "ExecuteTime": {
     "end_time": "2022-07-06T18:15:14.186497Z",
     "start_time": "2022-07-06T18:15:14.186477Z"
    },
    "hidden": true
   },
   "outputs": [],
   "source": [
    "X = df5.drop('country_destination', axis=1)\n",
    "y = df5['country_destination'].copy()"
   ]
  },
  {
   "cell_type": "code",
   "execution_count": null,
   "id": "83858fec",
   "metadata": {
    "ExecuteTime": {
     "end_time": "2022-07-06T18:15:14.189600Z",
     "start_time": "2022-07-06T18:15:14.189546Z"
    },
    "hidden": true
   },
   "outputs": [],
   "source": [
    "# split dataset into training and test\n",
    "X_train, X_test, y_train, y_test = ms.train_test_split(X, y, test_size=0.2, random_state=32)"
   ]
  },
  {
   "cell_type": "markdown",
   "id": "3dd12245",
   "metadata": {
    "heading_collapsed": true
   },
   "source": [
    "# MACHINE LEARNING MODEL"
   ]
  },
  {
   "cell_type": "code",
   "execution_count": null,
   "id": "8c66a5b8",
   "metadata": {
    "ExecuteTime": {
     "end_time": "2022-07-06T18:15:14.193114Z",
     "start_time": "2022-07-06T18:15:14.193082Z"
    },
    "hidden": true
   },
   "outputs": [],
   "source": [
    "x_train = X_train.drop('id', axis=1)\n",
    "x_test = X_test.drop('id', axis=1)"
   ]
  },
  {
   "cell_type": "markdown",
   "id": "3b487802",
   "metadata": {
    "heading_collapsed": true,
    "hidden": true
   },
   "source": [
    "## Baseline Model"
   ]
  },
  {
   "cell_type": "code",
   "execution_count": null,
   "id": "2ac7983f",
   "metadata": {
    "ExecuteTime": {
     "end_time": "2022-07-06T18:15:14.195234Z",
     "start_time": "2022-07-06T18:15:14.195201Z"
    },
    "hidden": true
   },
   "outputs": [],
   "source": [
    "country_destination_list = df1['country_destination'].drop_duplicates().sort_values().tolist()\n",
    "k_num = y_test.shape[0]\n",
    "country_destination__weights = df1['country_destination'].value_counts(normalize=True).sort_index().to_list()\n",
    "\n",
    "yhat_random = random.choices(population=country_destination_list, \n",
    "                               weights=country_destination__weights,\n",
    "                               k=k_num)\n",
    "len(yhat_random)"
   ]
  },
  {
   "cell_type": "code",
   "execution_count": null,
   "id": "1fe9d719",
   "metadata": {
    "ExecuteTime": {
     "end_time": "2022-07-06T18:15:14.197898Z",
     "start_time": "2022-07-06T18:15:14.197866Z"
    },
    "hidden": true
   },
   "outputs": [],
   "source": [
    "# Accuracy\n",
    "acc_random = m.accuracy_score(y_test, yhat_random)\n",
    "print(f'Accuracy: {acc_random}')\n",
    "\n",
    "# Balanced Accuracy\n",
    "balanced_acc_random = m.balanced_accuracy_score(y_test, yhat_random)\n",
    "print(f'Balanced Accuracy: {balanced_acc_random}')\n",
    "\n",
    "# Kappa Metrics\n",
    "kappa_random = m.cohen_kappa_score(y_test, yhat_random)\n",
    "print(f'Kappa Score: {kappa_random}')\n",
    "\n",
    "# Classification Report \n",
    "print(m.classification_report(y_test, yhat_random))\n",
    "\n",
    "# Confusion Matrix\n",
    "mt.plot_confusion_matrix(y_test, yhat_random, normalize=False, figsize=(12,12));"
   ]
  },
  {
   "cell_type": "markdown",
   "id": "a242d289",
   "metadata": {
    "heading_collapsed": true,
    "hidden": true
   },
   "source": [
    "## Neural Network - MLP"
   ]
  },
  {
   "cell_type": "code",
   "execution_count": null,
   "id": "52fb6488",
   "metadata": {
    "ExecuteTime": {
     "end_time": "2022-07-06T18:15:14.199996Z",
     "start_time": "2022-07-06T18:15:14.199965Z"
    },
    "hidden": true
   },
   "outputs": [],
   "source": [
    "ohe = pp.OneHotEncoder()\n",
    "y_train_nn = ohe.fit_transform(y_train.values.reshape(-1, 1)).toarray()"
   ]
  },
  {
   "cell_type": "code",
   "execution_count": null,
   "id": "68ce53db",
   "metadata": {
    "ExecuteTime": {
     "end_time": "2022-07-06T18:15:14.203129Z",
     "start_time": "2022-07-06T18:15:14.203097Z"
    },
    "hidden": true
   },
   "outputs": [],
   "source": [
    "x_train.shape"
   ]
  },
  {
   "cell_type": "code",
   "execution_count": null,
   "id": "fdb4f241",
   "metadata": {
    "ExecuteTime": {
     "end_time": "2022-07-06T18:15:14.204663Z",
     "start_time": "2022-07-06T18:15:14.204641Z"
    },
    "hidden": true,
    "scrolled": true
   },
   "outputs": [],
   "source": [
    "# model definition\n",
    "model = ml.Sequential()\n",
    "model.add(l.Dense(256, input_dim=x_train.shape[1], activation='relu'))\n",
    "model.add(l.Dense(12, activation='softmax'))\n",
    "\n",
    "# model compile\n",
    "model.compile(loss='categorical_crossentropy', optimizer='adam', metrics=['accuracy'])\n",
    "\n",
    "# train mode\n",
    "model.fit(x_train, y_train_nn, epochs=100)"
   ]
  },
  {
   "cell_type": "markdown",
   "id": "bb1f28c0",
   "metadata": {
    "heading_collapsed": true,
    "hidden": true
   },
   "source": [
    "## NEURAL NETWORK PERFORMANCE"
   ]
  },
  {
   "cell_type": "code",
   "execution_count": null,
   "id": "d608aba0",
   "metadata": {
    "ExecuteTime": {
     "end_time": "2022-07-06T18:15:14.206254Z",
     "start_time": "2022-07-06T18:15:14.206232Z"
    },
    "hidden": true
   },
   "outputs": [],
   "source": [
    "# prediction\n",
    "pred_nn = model.predict(x_test)\n",
    "\n",
    "# invert prediction\n",
    "yhat_nn = ohe.inverse_transform(pred_nn)\n",
    "\n",
    "# prediction prepare\n",
    "y_test_nn = y_test.to_numpy()\n",
    "yhat_nn = yhat_nn.reshape(1, -1)[0]"
   ]
  },
  {
   "cell_type": "code",
   "execution_count": null,
   "id": "36bd9cdf",
   "metadata": {
    "ExecuteTime": {
     "end_time": "2022-07-06T18:15:14.207671Z",
     "start_time": "2022-07-06T18:15:14.207650Z"
    },
    "hidden": true
   },
   "outputs": [],
   "source": [
    "# Balanced Accuracy\n",
    "m.balanced_accuracy_score(y_test_nn, yhat_nn)"
   ]
  },
  {
   "cell_type": "code",
   "execution_count": null,
   "id": "3a7196df",
   "metadata": {
    "ExecuteTime": {
     "end_time": "2022-07-06T18:15:14.209044Z",
     "start_time": "2022-07-06T18:15:14.209023Z"
    },
    "hidden": true
   },
   "outputs": [],
   "source": [
    "# Accuracy\n",
    "acc_nn = m.accuracy_score(y_test_nn, yhat_nn)\n",
    "print(f'Accuracy: {acc_nn}')\n",
    "\n",
    "# Balanced Accuracy\n",
    "balanced_acc_nn = m.balanced_accuracy_score(y_test_nn, yhat_nn)\n",
    "print(f'Balanced Accuracy: {balanced_acc_nn}')\n",
    "\n",
    "# Kappa Metrics\n",
    "kappa_nn = m.cohen_kappa_score(y_test_nn, yhat_nn)\n",
    "print(f'Kappa Score: {kappa_nn}')\n",
    "\n",
    "# Classification Report \n",
    "print(m.classification_report(y_test_nn, yhat_nn))\n",
    "\n",
    "# Confusion Matrix\n",
    "mt.plot_confusion_matrix(y_test_nn, yhat_nn, normalize=False, figsize=(12,12));"
   ]
  },
  {
   "cell_type": "markdown",
   "id": "0181a855",
   "metadata": {
    "hidden": true
   },
   "source": [
    "### NEURAL NETWORK PERFORMANCE - Cross-Validation"
   ]
  },
  {
   "cell_type": "code",
   "execution_count": null,
   "id": "ae26238a",
   "metadata": {
    "ExecuteTime": {
     "end_time": "2022-07-06T18:15:14.210865Z",
     "start_time": "2022-07-06T18:15:14.210846Z"
    },
    "hidden": true
   },
   "outputs": [],
   "source": [
    "# generate k-fold\n",
    "num_folds = 5\n",
    "kfold = ms.StratifiedKFold(n_splits=num_folds, shuffle=True, random_state=32)\n",
    "\n",
    "# create list\n",
    "\n",
    "balanced_acc_list = []\n",
    "kappa_acc_list = []\n",
    "\n",
    "i = 1\n",
    "for train_ix, val_ix in kfold.split(x_train, y_train):\n",
    "    \n",
    "    print(f'Folder Number: {i} / {num_folds}')\n",
    "    \n",
    "    # get fold\n",
    "    x_train_fold = x_train.iloc[train_ix]\n",
    "    y_train_fold = y_train.iloc[train_ix]\n",
    "    \n",
    "    x_val_fold = x_train.iloc[val_ix]\n",
    "    y_val_fold = y_train.iloc[val_ix]\n",
    "    \n",
    "\n",
    "    # target - hot-enconding\n",
    "    ohe = pp.OneHotEncoder()\n",
    "    y_train_fold_nn = ohe.fit_transform(y_train_fold.values.reshape(-1, 1)).toarray()\n",
    "    \n",
    "    # model definition\n",
    "    model = ml.Sequential()\n",
    "    model.add(l.Dense(256, input_dim=x_train.shape[1], activation='relu'))\n",
    "    model.add(l.Dense(11, activation='softmax'))\n",
    "\n",
    "    # compile model\n",
    "    model.compile(loss='categorical_crossentropy', optimizer='adam', metrics=['accuracy'])\n",
    "\n",
    "    # training model\n",
    "    model.fit(x_train_fold, y_train_fold_nn, epochs=100, batch_size=32, verbose=0)\n",
    "\n",
    "    # prediction\n",
    "    pred_nn = model.predict(x_val_fold) #dados encoding\n",
    "    yhat_nn = ohe.inverse_transform(pred_nn) # dados original\n",
    "    \n",
    "    # prepare data\n",
    "    y_test_nn = y_val_fold.to_numpy()\n",
    "    yhat_nn = yhat_nn.reshape(1, -1)[0]\n",
    "    \n",
    "    # metrics\n",
    "    \n",
    "    ## balanced accuracy\n",
    "    balanced_acc_nn = m.balanced_accuracy_score(y_test_nn, yhat_nn)\n",
    "    balanced_acc_list.append(balanced_acc_nn)\n",
    "    \n",
    "    ## kappa metrics\n",
    "    kappa_acc_nn = m.cohen_kappa_score(y_test_nn, yhat_nn)\n",
    "    kappa_acc_list.append(kappa_acc_nn)\n",
    "    \n",
    "    i += 1"
   ]
  },
  {
   "cell_type": "code",
   "execution_count": null,
   "id": "a96f32a9",
   "metadata": {
    "ExecuteTime": {
     "end_time": "2022-07-06T18:15:14.212313Z",
     "start_time": "2022-07-06T18:15:14.212292Z"
    },
    "hidden": true
   },
   "outputs": [],
   "source": [
    "print(f'Avg Balanced Accuracy: {np.mean(balanced_acc_list)} / {np.std(balanced_acc_list)}')\n",
    "print(f'Avg Kapaa: {np.mean(kappa_acc_list)} / {np.std(kappa_acc_list)}')"
   ]
  },
  {
   "cell_type": "code",
   "execution_count": null,
   "id": "0325033c",
   "metadata": {
    "hidden": true
   },
   "outputs": [],
   "source": []
  },
  {
   "cell_type": "code",
   "execution_count": null,
   "id": "1e6b924b",
   "metadata": {
    "hidden": true
   },
   "outputs": [],
   "source": []
  },
  {
   "cell_type": "code",
   "execution_count": null,
   "id": "bd623578",
   "metadata": {
    "hidden": true
   },
   "outputs": [],
   "source": []
  },
  {
   "cell_type": "code",
   "execution_count": null,
   "id": "3bb9bfa1",
   "metadata": {
    "hidden": true
   },
   "outputs": [],
   "source": []
  },
  {
   "cell_type": "code",
   "execution_count": null,
   "id": "fab43d0b",
   "metadata": {
    "hidden": true
   },
   "outputs": [],
   "source": []
  }
 ],
 "metadata": {
  "kernelspec": {
   "display_name": "Python 3 (ipykernel)",
   "language": "python",
   "name": "python3"
  },
  "language_info": {
   "codemirror_mode": {
    "name": "ipython",
    "version": 3
   },
   "file_extension": ".py",
   "mimetype": "text/x-python",
   "name": "python",
   "nbconvert_exporter": "python",
   "pygments_lexer": "ipython3",
   "version": "3.8.10"
  },
  "nbTranslate": {
   "displayLangs": [
    "*"
   ],
   "hotkey": "alt-t",
   "langInMainMenu": true,
   "sourceLang": "en",
   "targetLang": "fr",
   "useGoogleTranslate": true
  },
  "toc": {
   "base_numbering": "0",
   "nav_menu": {},
   "number_sections": true,
   "sideBar": true,
   "skip_h1_title": false,
   "title_cell": "Table of Contents",
   "title_sidebar": "Contents",
   "toc_cell": false,
   "toc_position": {},
   "toc_section_display": true,
   "toc_window_display": false
  }
 },
 "nbformat": 4,
 "nbformat_minor": 5
}
