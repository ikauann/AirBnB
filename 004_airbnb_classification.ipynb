{
 "cells": [
  {
   "cell_type": "markdown",
   "id": "7145d243",
   "metadata": {},
   "source": [
    "<font color='red'>**Ciclo 4**</font>"
   ]
  },
  {
   "cell_type": "markdown",
   "id": "6ab5b4e5",
   "metadata": {},
   "source": [
    "**ENTENDER O PROBLEMA**\n",
    "\n",
    "- Objetivo do Problema:\n",
    "    - Previsão do primeiro destino que um novo usuario ira escolher.\n",
    "    \n",
    "    - Porque?\n",
    "        - Qual o tipo de modelo de negocio do Airbnb?\n",
    "        \n",
    "            - Marketplace ( Conecta pessoas que oferecem acomodação, com pessoas que estão procurando acomodação )\n",
    "            - Oferta ( pessoas oferecendo acomodação )\n",
    "                - Tamanho do portfólio.\n",
    "                - Diversidade/Densidade de Portifolio.\n",
    "                - Preco Medio\n",
    "                \n",
    "            - Demanda ( pessoas procurando acomodação )\n",
    "                - Numero de usuario\n",
    "                - LTV ( Lifetime Value )\n",
    "                - CAC ( Client Acquisition Cost )\n",
    "                \n",
    "                <font color='red'>**Receita Bruta**</font> =  ( Taxa*NúmeroDeClientes ) - CAC\n",
    "\n",
    "             \n",
    "             \n",
    "- Proposta de Solução\n",
    "    - Modelo de Previsão do primeiro destino de um novo usuario.\n",
    "        - Predicoes e salva em uma tabela do banco de dados.\n",
    "        - API\n",
    "            - Input: Usuario e suas caracteristicas.\n",
    "            - Output: Usuario e suas caracteristicas com a **predicao de destino** \n",
    "            \n",
    "\n",
    "- Total de Ciclos ( CRISPM ):\n",
    "    - 16 ciclos.\n",
    "    "
   ]
  },
  {
   "cell_type": "markdown",
   "id": "acba5fa9",
   "metadata": {},
   "source": [
    "# IMPORTS"
   ]
  },
  {
   "cell_type": "code",
   "execution_count": 1,
   "id": "799f0116",
   "metadata": {
    "ExecuteTime": {
     "end_time": "2022-07-06T09:25:32.739960Z",
     "start_time": "2022-07-06T09:25:26.866036Z"
    }
   },
   "outputs": [
    {
     "name": "stderr",
     "output_type": "stream",
     "text": [
      "2022-07-06 06:25:29.539673: W tensorflow/stream_executor/platform/default/dso_loader.cc:64] Could not load dynamic library 'libcudart.so.11.0'; dlerror: libcudart.so.11.0: cannot open shared object file: No such file or directory\n",
      "2022-07-06 06:25:29.539710: I tensorflow/stream_executor/cuda/cudart_stub.cc:29] Ignore above cudart dlerror if you do not have a GPU set up on your machine.\n",
      "/usr/lib/python3/dist-packages/requests/__init__.py:89: RequestsDependencyWarning: urllib3 (1.26.9) or chardet (3.0.4) doesn't match a supported version!\n",
      "  warnings.warn(\"urllib3 ({}) or chardet ({}) doesn't match a supported \"\n"
     ]
    }
   ],
   "source": [
    "import pandas as pd\n",
    "import numpy as np\n",
    "\n",
    "import matplotlib.pyplot as plt\n",
    "import seaborn as sns\n",
    "\n",
    "from sklearn import model_selection as ms\n",
    "from sklearn import preprocessing as pp\n",
    "from sklearn import metrics as m\n",
    "from keras import models as ml\n",
    "from keras import layers as l\n",
    "from scikitplot import metrics as mt\n",
    "from scipy import stats as ss\n",
    "\n",
    "\n",
    "from IPython.display       import Image\n",
    "from IPython.core.display  import HTML\n",
    "\n",
    "import random\n",
    "\n",
    "import warnings\n",
    "warnings.filterwarnings('ignore')"
   ]
  },
  {
   "cell_type": "markdown",
   "id": "aff5a677",
   "metadata": {},
   "source": [
    "## Helper Functions"
   ]
  },
  {
   "cell_type": "code",
   "execution_count": 2,
   "id": "9bcd72c9",
   "metadata": {
    "ExecuteTime": {
     "end_time": "2022-07-06T09:27:53.129226Z",
     "start_time": "2022-07-06T09:27:53.086006Z"
    }
   },
   "outputs": [
    {
     "name": "stdout",
     "output_type": "stream",
     "text": [
      "%pylab is deprecated, use %matplotlib inline and import the required libraries.\n",
      "Populating the interactive namespace from numpy and matplotlib\n"
     ]
    },
    {
     "data": {
      "text/html": [
       "<style>.container { width:100% !important; }</style>"
      ],
      "text/plain": [
       "<IPython.core.display.HTML object>"
      ]
     },
     "metadata": {},
     "output_type": "display_data"
    }
   ],
   "source": [
    "def cramer_v( x, y ):\n",
    "    cm = pd.crosstab( x, y ).to_numpy()\n",
    "    n = cm.sum()\n",
    "    r, k = cm.shape\n",
    "    \n",
    "    chi2 = ss.chi2_contingency( cm )[0]\n",
    "    chi2corr = max( 0, chi2 - (k-1)*(r-1)/(n-1) )\n",
    "    \n",
    "    kcorr = k - (k-1)**2/(n-1)\n",
    "    rcorr = r - (r-1)**2/(n-1)\n",
    "    \n",
    "    return np.sqrt( (chi2corr/n) / ( min( kcorr-1, rcorr-1 ) ) )\n",
    "\n",
    "\n",
    "\n",
    "def jupyter_settings():\n",
    "    %matplotlib inline\n",
    "    %pylab inline\n",
    "    \n",
    "    plt.style.use( 'bmh' )\n",
    "    plt.rcParams['figure.figsize'] = [25, 12]\n",
    "    plt.rcParams['font.size'] = 24\n",
    "    \n",
    "    display( HTML( '<style>.container { width:100% !important; }</style>') )\n",
    "    pd.options.display.max_columns = None\n",
    "    pd.options.display.max_rows = None\n",
    "    pd.set_option( 'display.expand_frame_repr', False )\n",
    "    \n",
    "    sns.set()\n",
    "jupyter_settings()"
   ]
  },
  {
   "cell_type": "markdown",
   "id": "a2caf27d",
   "metadata": {},
   "source": [
    "## Loading Data"
   ]
  },
  {
   "cell_type": "code",
   "execution_count": 5,
   "id": "c9e00aeb",
   "metadata": {
    "ExecuteTime": {
     "end_time": "2022-07-06T09:29:54.227089Z",
     "start_time": "2022-07-06T09:29:53.717883Z"
    }
   },
   "outputs": [
    {
     "data": {
      "text/plain": [
       "(213451, 16)"
      ]
     },
     "execution_count": 5,
     "metadata": {},
     "output_type": "execute_result"
    }
   ],
   "source": [
    "df_raw = pd.read_csv('./data/training_users.csv', low_memory=True)\n",
    "df_raw.shape"
   ]
  },
  {
   "cell_type": "code",
   "execution_count": 6,
   "id": "ab3816b9",
   "metadata": {
    "ExecuteTime": {
     "end_time": "2022-07-06T09:30:00.639150Z",
     "start_time": "2022-07-06T09:29:54.229115Z"
    }
   },
   "outputs": [
    {
     "data": {
      "text/plain": [
       "(10567737, 6)"
      ]
     },
     "execution_count": 6,
     "metadata": {},
     "output_type": "execute_result"
    }
   ],
   "source": [
    "df_sessions = pd.read_csv('./data/sessions.csv', low_memory=True)\n",
    "df_sessions.shape\n",
    "\n",
    "#df_sessions[df_sessions['user_id'] == \"00023iyk9l\"][['user_id', 'action']].groupby('user_id').value_counts()"
   ]
  },
  {
   "cell_type": "markdown",
   "id": "7505b0e8",
   "metadata": {},
   "source": [
    "# DATA DESCRIPTION"
   ]
  },
  {
   "cell_type": "code",
   "execution_count": 7,
   "id": "86269058",
   "metadata": {
    "ExecuteTime": {
     "end_time": "2022-07-06T09:30:00.644291Z",
     "start_time": "2022-07-06T09:30:00.641396Z"
    }
   },
   "outputs": [],
   "source": [
    "df1 = df_raw"
   ]
  },
  {
   "cell_type": "markdown",
   "id": "49e05e9e",
   "metadata": {},
   "source": [
    "## Data Dimensions "
   ]
  },
  {
   "cell_type": "code",
   "execution_count": 8,
   "id": "0b960b24",
   "metadata": {
    "ExecuteTime": {
     "end_time": "2022-07-06T09:30:00.649688Z",
     "start_time": "2022-07-06T09:30:00.645952Z"
    }
   },
   "outputs": [
    {
     "name": "stdout",
     "output_type": "stream",
     "text": [
      "number of rows: 213451\n",
      "number of columns: 16\n"
     ]
    }
   ],
   "source": [
    "print(f'number of rows: {df1.shape[0]}')\n",
    "print(f'number of columns: {df1.shape[1]}')"
   ]
  },
  {
   "cell_type": "code",
   "execution_count": 9,
   "id": "e36eb6a8",
   "metadata": {
    "ExecuteTime": {
     "end_time": "2022-07-06T09:30:00.655724Z",
     "start_time": "2022-07-06T09:30:00.652095Z"
    }
   },
   "outputs": [
    {
     "name": "stdout",
     "output_type": "stream",
     "text": [
      "number of rows: 10567737\n",
      "number of columns: 6\n"
     ]
    }
   ],
   "source": [
    "print(f'number of rows: {df_sessions.shape[0]}')\n",
    "print(f'number of columns: {df_sessions.shape[1]}')"
   ]
  },
  {
   "cell_type": "markdown",
   "id": "59071172",
   "metadata": {},
   "source": [
    "## Data Types"
   ]
  },
  {
   "cell_type": "code",
   "execution_count": 10,
   "id": "04d73845",
   "metadata": {
    "ExecuteTime": {
     "end_time": "2022-07-06T09:30:00.665617Z",
     "start_time": "2022-07-06T09:30:00.657868Z"
    }
   },
   "outputs": [
    {
     "data": {
      "text/plain": [
       "id                          object\n",
       "date_account_created        object\n",
       "timestamp_first_active       int64\n",
       "date_first_booking          object\n",
       "gender                      object\n",
       "age                        float64\n",
       "signup_method               object\n",
       "signup_flow                  int64\n",
       "language                    object\n",
       "affiliate_channel           object\n",
       "affiliate_provider          object\n",
       "first_affiliate_tracked     object\n",
       "signup_app                  object\n",
       "first_device_type           object\n",
       "first_browser               object\n",
       "country_destination         object\n",
       "dtype: object"
      ]
     },
     "execution_count": 10,
     "metadata": {},
     "output_type": "execute_result"
    }
   ],
   "source": [
    "df1.dtypes"
   ]
  },
  {
   "cell_type": "code",
   "execution_count": 11,
   "id": "dd259f29",
   "metadata": {
    "ExecuteTime": {
     "end_time": "2022-07-06T09:30:00.673243Z",
     "start_time": "2022-07-06T09:30:00.667677Z"
    }
   },
   "outputs": [
    {
     "data": {
      "text/plain": [
       "user_id           object\n",
       "action            object\n",
       "action_type       object\n",
       "action_detail     object\n",
       "device_type       object\n",
       "secs_elapsed     float64\n",
       "dtype: object"
      ]
     },
     "execution_count": 11,
     "metadata": {},
     "output_type": "execute_result"
    }
   ],
   "source": [
    "df_sessions.dtypes"
   ]
  },
  {
   "cell_type": "markdown",
   "id": "d2952a6d",
   "metadata": {},
   "source": [
    "## NA Check"
   ]
  },
  {
   "cell_type": "code",
   "execution_count": 12,
   "id": "b699c533",
   "metadata": {
    "ExecuteTime": {
     "end_time": "2022-07-06T09:30:01.067724Z",
     "start_time": "2022-07-06T09:30:00.675583Z"
    }
   },
   "outputs": [
    {
     "data": {
      "text/plain": [
       "id                         0.000000\n",
       "date_account_created       0.000000\n",
       "timestamp_first_active     0.000000\n",
       "date_first_booking         0.583473\n",
       "gender                     0.000000\n",
       "age                        0.412226\n",
       "signup_method              0.000000\n",
       "signup_flow                0.000000\n",
       "language                   0.000000\n",
       "affiliate_channel          0.000000\n",
       "affiliate_provider         0.000000\n",
       "first_affiliate_tracked    0.028414\n",
       "signup_app                 0.000000\n",
       "first_device_type          0.000000\n",
       "first_browser              0.000000\n",
       "country_destination        0.000000\n",
       "dtype: float64"
      ]
     },
     "execution_count": 12,
     "metadata": {},
     "output_type": "execute_result"
    }
   ],
   "source": [
    "df1.isna().sum() / len(df1)"
   ]
  },
  {
   "cell_type": "code",
   "execution_count": 13,
   "id": "c67160e1",
   "metadata": {
    "ExecuteTime": {
     "end_time": "2022-07-06T09:30:06.994366Z",
     "start_time": "2022-07-06T09:30:01.070215Z"
    }
   },
   "outputs": [
    {
     "data": {
      "text/plain": [
       "user_id          0.003264\n",
       "action           0.007535\n",
       "action_type      0.106570\n",
       "action_detail    0.106570\n",
       "device_type      0.000000\n",
       "secs_elapsed     0.012872\n",
       "dtype: float64"
      ]
     },
     "execution_count": 13,
     "metadata": {},
     "output_type": "execute_result"
    }
   ],
   "source": [
    "df_sessions.isna().sum() / len(df_sessions)"
   ]
  },
  {
   "cell_type": "code",
   "execution_count": 14,
   "id": "ef7f72d8",
   "metadata": {
    "ExecuteTime": {
     "end_time": "2022-07-06T09:30:11.757124Z",
     "start_time": "2022-07-06T09:30:06.996023Z"
    }
   },
   "outputs": [],
   "source": [
    "# df1 = df1.dropna()\n",
    "# df1.shape\n",
    "\n",
    "# ================ Users ====================\n",
    "\n",
    "# date_first_booking\n",
    "date_first_booking_max = pd.to_datetime(df1['date_first_booking']).max().strftime('%Y-%m-%d')\n",
    "df1['date_first_booking'] = df1['date_first_booking'].fillna(date_first_booking_max)\n",
    "\n",
    "# age\n",
    "df1 = df1[(df1['age'] > 15) & (df1['age'] < 120)]\n",
    "avg_age = age = df1['age'].mean().astype(int)\n",
    "df1['age'] = df1['age'].fillna(avg_age)\n",
    "\n",
    "# first_affiliate_tracked\n",
    "df1 = df1[~df1['first_affiliate_tracked'].isna()]\n",
    "\n",
    "# ================ Sessions ====================\n",
    "\n",
    "# user_id - 0.3%\n",
    "df_sessions = df_sessions[~df_sessions['user_id'].isna()]\n",
    "\n",
    "\n",
    "# action - 0.7%\n",
    "df_sessions = df_sessions[~df_sessions['action'].isna()]\n",
    "\n",
    "\n",
    "# action_type - 11%\n",
    "df_sessions = df_sessions[~df_sessions['action_type'].isna()]\n",
    "\n",
    "\n",
    "# action_detail - 11%\n",
    "df_sessions = df_sessions[~df_sessions['action_detail'].isna()]\n",
    "\n",
    "\n",
    "# secs_elapsed - 1.2%\n",
    "df_sessions = df_sessions[~df_sessions['secs_elapsed'].isna()]\n"
   ]
  },
  {
   "cell_type": "markdown",
   "id": "7eb9373e",
   "metadata": {},
   "source": [
    "## Change Data Type"
   ]
  },
  {
   "cell_type": "code",
   "execution_count": 16,
   "id": "6416f871",
   "metadata": {
    "ExecuteTime": {
     "end_time": "2022-07-06T09:30:23.633741Z",
     "start_time": "2022-07-06T09:30:23.137569Z"
    }
   },
   "outputs": [],
   "source": [
    "# date_account_created\n",
    "df1['date_account_created'] = pd.to_datetime(df1['date_account_created'])\n",
    "\n",
    "# timestamp_first_active\n",
    "df1['timestamp_first_active'] = pd.to_datetime(df1['timestamp_first_active'], format='%Y%m%d%H%M%S')\n",
    "\n",
    "# date_first_booking\n",
    "df1['date_first_booking'] = pd.to_datetime(df1['date_first_booking'])\n",
    "\n",
    "# age\n",
    "df1['age'] = df1['age'].astype(int)"
   ]
  },
  {
   "cell_type": "code",
   "execution_count": 17,
   "id": "45dcfcaf",
   "metadata": {
    "ExecuteTime": {
     "end_time": "2022-07-06T09:30:23.641914Z",
     "start_time": "2022-07-06T09:30:23.635746Z"
    }
   },
   "outputs": [
    {
     "data": {
      "text/plain": [
       "id                                 object\n",
       "date_account_created       datetime64[ns]\n",
       "timestamp_first_active     datetime64[ns]\n",
       "date_first_booking         datetime64[ns]\n",
       "gender                             object\n",
       "age                                 int64\n",
       "signup_method                      object\n",
       "signup_flow                         int64\n",
       "language                           object\n",
       "affiliate_channel                  object\n",
       "affiliate_provider                 object\n",
       "first_affiliate_tracked            object\n",
       "signup_app                         object\n",
       "first_device_type                  object\n",
       "first_browser                      object\n",
       "country_destination                object\n",
       "dtype: object"
      ]
     },
     "execution_count": 17,
     "metadata": {},
     "output_type": "execute_result"
    }
   ],
   "source": [
    "df1.dtypes"
   ]
  },
  {
   "cell_type": "markdown",
   "id": "3eb308cd",
   "metadata": {},
   "source": [
    "## Check Balanced Data"
   ]
  },
  {
   "cell_type": "code",
   "execution_count": 18,
   "id": "568551e9",
   "metadata": {
    "ExecuteTime": {
     "end_time": "2022-07-06T09:30:24.489395Z",
     "start_time": "2022-07-06T09:30:24.440947Z"
    }
   },
   "outputs": [
    {
     "data": {
      "text/plain": [
       "NDF      0.447275\n",
       "US       0.391867\n",
       "other    0.061246\n",
       "FR       0.029918\n",
       "IT       0.016423\n",
       "GB       0.014335\n",
       "ES       0.013740\n",
       "CA       0.008676\n",
       "DE       0.006858\n",
       "NL       0.004852\n",
       "AU       0.003531\n",
       "PT       0.001280\n",
       "Name: country_destination, dtype: float64"
      ]
     },
     "execution_count": 18,
     "metadata": {},
     "output_type": "execute_result"
    }
   ],
   "source": [
    "df1['country_destination'].value_counts(normalize=True)"
   ]
  },
  {
   "cell_type": "markdown",
   "id": "8df5506e",
   "metadata": {},
   "source": [
    "## Descriptive Analysis"
   ]
  },
  {
   "cell_type": "markdown",
   "id": "096ff6bb",
   "metadata": {},
   "source": [
    "## General"
   ]
  },
  {
   "cell_type": "code",
   "execution_count": 82,
   "id": "93449caf",
   "metadata": {
    "ExecuteTime": {
     "end_time": "2022-07-05T11:01:43.200335Z",
     "start_time": "2022-07-05T11:01:43.192351Z"
    }
   },
   "outputs": [],
   "source": [
    "# users\n",
    "num_attrs = df1.select_dtypes(include=['int64', 'float64'])\n",
    "cat_attrs = df1.select_dtypes(exclude=['int64', 'float64', 'datetime64[ns]'])\n",
    "time_attrs = df1.select_dtypes(include=['datetime64[ns]'])\n",
    "\n",
    "# sessions\n",
    "num_attrs_sessions = df_sessions.select_dtypes(include=['int64', 'float64'])\n",
    "cat_attrs_sessions = df_sessions.select_dtypes(exclude=['int64', 'float64', 'datetime64[ns]'])\n",
    "time_attrs_sessions = df_sessions.select_dtypes(include=['datetime64[ns]'])"
   ]
  },
  {
   "cell_type": "markdown",
   "id": "7488ff19",
   "metadata": {},
   "source": [
    "### Numerical - Users"
   ]
  },
  {
   "cell_type": "code",
   "execution_count": 83,
   "id": "6f13fe76",
   "metadata": {
    "ExecuteTime": {
     "end_time": "2022-07-05T11:01:43.327880Z",
     "start_time": "2022-07-05T11:01:43.202729Z"
    }
   },
   "outputs": [
    {
     "data": {
      "text/html": [
       "<div>\n",
       "<style scoped>\n",
       "    .dataframe tbody tr th:only-of-type {\n",
       "        vertical-align: middle;\n",
       "    }\n",
       "\n",
       "    .dataframe tbody tr th {\n",
       "        vertical-align: top;\n",
       "    }\n",
       "\n",
       "    .dataframe thead th {\n",
       "        text-align: right;\n",
       "    }\n",
       "</style>\n",
       "<table border=\"1\" class=\"dataframe\">\n",
       "  <thead>\n",
       "    <tr style=\"text-align: right;\">\n",
       "      <th></th>\n",
       "      <th>attributes</th>\n",
       "      <th>min</th>\n",
       "      <th>max</th>\n",
       "      <th>range</th>\n",
       "      <th>mean</th>\n",
       "      <th>median</th>\n",
       "      <th>std</th>\n",
       "      <th>skew</th>\n",
       "      <th>kurtosis</th>\n",
       "    </tr>\n",
       "  </thead>\n",
       "  <tbody>\n",
       "    <tr>\n",
       "      <th>0</th>\n",
       "      <td>age</td>\n",
       "      <td>1.0</td>\n",
       "      <td>2014.0</td>\n",
       "      <td>2013.0</td>\n",
       "      <td>49.183142</td>\n",
       "      <td>49.0</td>\n",
       "      <td>118.421689</td>\n",
       "      <td>16.333820</td>\n",
       "      <td>267.655434</td>\n",
       "    </tr>\n",
       "    <tr>\n",
       "      <th>1</th>\n",
       "      <td>signup_flow</td>\n",
       "      <td>0.0</td>\n",
       "      <td>25.0</td>\n",
       "      <td>25.0</td>\n",
       "      <td>3.151490</td>\n",
       "      <td>0.0</td>\n",
       "      <td>7.543915</td>\n",
       "      <td>2.287158</td>\n",
       "      <td>3.567794</td>\n",
       "    </tr>\n",
       "  </tbody>\n",
       "</table>\n",
       "</div>"
      ],
      "text/plain": [
       "    attributes  min     max   range       mean  median         std       skew    kurtosis\n",
       "0          age  1.0  2014.0  2013.0  49.183142    49.0  118.421689  16.333820  267.655434\n",
       "1  signup_flow  0.0    25.0    25.0   3.151490     0.0    7.543915   2.287158    3.567794"
      ]
     },
     "execution_count": 83,
     "metadata": {},
     "output_type": "execute_result"
    }
   ],
   "source": [
    "# central tendency - mean, median\n",
    "ct1 = pd.DataFrame(num_attrs.apply(np.mean)).T\n",
    "ct2 = pd.DataFrame(num_attrs.apply(np.median)).T\n",
    "\n",
    "# dispersions - std, min, max, range, skew, kurtosis\n",
    "d1 = pd.DataFrame(num_attrs.apply(np.std)).T\n",
    "d2 = pd.DataFrame(num_attrs.apply(min)).T\n",
    "d3 = pd.DataFrame(num_attrs.apply(max)).T\n",
    "d4 = pd.DataFrame(num_attrs.apply(lambda x: x.max() - x.min())).T\n",
    "d5 = pd.DataFrame(num_attrs.apply(lambda x: x.skew())).T\n",
    "d6 = pd.DataFrame(num_attrs.apply(lambda x: x.kurtosis())).T\n",
    "\n",
    "# concat\n",
    "ct = pd.concat( [d2, d3, d4, ct1, ct2, d1, d5, d6] ).T.reset_index()\n",
    "ct.columns = ['attributes', 'min', 'max', 'range', 'mean', 'median', 'std', 'skew', 'kurtosis']\n",
    "ct"
   ]
  },
  {
   "cell_type": "markdown",
   "id": "0122b2ff",
   "metadata": {},
   "source": [
    "### Numerical - Sessions"
   ]
  },
  {
   "cell_type": "code",
   "execution_count": 84,
   "id": "ab3a44b8",
   "metadata": {
    "ExecuteTime": {
     "end_time": "2022-07-05T11:01:45.609766Z",
     "start_time": "2022-07-05T11:01:43.330075Z"
    }
   },
   "outputs": [
    {
     "data": {
      "text/html": [
       "<div>\n",
       "<style scoped>\n",
       "    .dataframe tbody tr th:only-of-type {\n",
       "        vertical-align: middle;\n",
       "    }\n",
       "\n",
       "    .dataframe tbody tr th {\n",
       "        vertical-align: top;\n",
       "    }\n",
       "\n",
       "    .dataframe thead th {\n",
       "        text-align: right;\n",
       "    }\n",
       "</style>\n",
       "<table border=\"1\" class=\"dataframe\">\n",
       "  <thead>\n",
       "    <tr style=\"text-align: right;\">\n",
       "      <th></th>\n",
       "      <th>attributes</th>\n",
       "      <th>min</th>\n",
       "      <th>max</th>\n",
       "      <th>range</th>\n",
       "      <th>mean</th>\n",
       "      <th>median</th>\n",
       "      <th>std</th>\n",
       "      <th>skew</th>\n",
       "      <th>kurtosis</th>\n",
       "    </tr>\n",
       "  </thead>\n",
       "  <tbody>\n",
       "    <tr>\n",
       "      <th>0</th>\n",
       "      <td>secs_elapsed</td>\n",
       "      <td>0.0</td>\n",
       "      <td>1799977.0</td>\n",
       "      <td>1799977.0</td>\n",
       "      <td>19961.8251</td>\n",
       "      <td>1369.0</td>\n",
       "      <td>88849.388449</td>\n",
       "      <td>11.137761</td>\n",
       "      <td>154.84312</td>\n",
       "    </tr>\n",
       "  </tbody>\n",
       "</table>\n",
       "</div>"
      ],
      "text/plain": [
       "     attributes  min        max      range        mean  median           std       skew   kurtosis\n",
       "0  secs_elapsed  0.0  1799977.0  1799977.0  19961.8251  1369.0  88849.388449  11.137761  154.84312"
      ]
     },
     "execution_count": 84,
     "metadata": {},
     "output_type": "execute_result"
    }
   ],
   "source": [
    "# central tendency - mean, median\n",
    "ct1 = pd.DataFrame(num_attrs_sessions.apply(np.mean)).T\n",
    "ct2 = pd.DataFrame(num_attrs_sessions.apply(np.median)).T\n",
    "\n",
    "# dispersions - std, min, max, range, skew, kurtosis\n",
    "d1 = pd.DataFrame(num_attrs_sessions.apply(np.std)).T\n",
    "d2 = pd.DataFrame(num_attrs_sessions.apply(min)).T\n",
    "d3 = pd.DataFrame(num_attrs_sessions.apply(max)).T\n",
    "d4 = pd.DataFrame(num_attrs_sessions.apply(lambda x: x.max() - x.min())).T\n",
    "d5 = pd.DataFrame(num_attrs_sessions.apply(lambda x: x.skew())).T\n",
    "d6 = pd.DataFrame(num_attrs_sessions.apply(lambda x: x.kurtosis())).T\n",
    "\n",
    "# concat\n",
    "ct = pd.concat( [d2, d3, d4, ct1, ct2, d1, d5, d6] ).T.reset_index()\n",
    "ct.columns = ['attributes', 'min', 'max', 'range', 'mean', 'median', 'std', 'skew', 'kurtosis']\n",
    "ct"
   ]
  },
  {
   "cell_type": "markdown",
   "id": "a44f5df0",
   "metadata": {},
   "source": [
    "### Categorical - Users"
   ]
  },
  {
   "cell_type": "code",
   "execution_count": 85,
   "id": "169dc586",
   "metadata": {
    "ExecuteTime": {
     "end_time": "2022-07-05T11:01:45.907145Z",
     "start_time": "2022-07-05T11:01:45.611671Z"
    }
   },
   "outputs": [
    {
     "data": {
      "text/html": [
       "<div>\n",
       "<style scoped>\n",
       "    .dataframe tbody tr th:only-of-type {\n",
       "        vertical-align: middle;\n",
       "    }\n",
       "\n",
       "    .dataframe tbody tr th {\n",
       "        vertical-align: top;\n",
       "    }\n",
       "\n",
       "    .dataframe thead th {\n",
       "        text-align: right;\n",
       "    }\n",
       "</style>\n",
       "<table border=\"1\" class=\"dataframe\">\n",
       "  <thead>\n",
       "    <tr style=\"text-align: right;\">\n",
       "      <th></th>\n",
       "      <th>gender</th>\n",
       "      <th>signup_method</th>\n",
       "      <th>language</th>\n",
       "      <th>affiliate_channel</th>\n",
       "      <th>affiliate_provider</th>\n",
       "      <th>first_affiliate_tracked</th>\n",
       "      <th>signup_app</th>\n",
       "      <th>first_device_type</th>\n",
       "      <th>first_browser</th>\n",
       "      <th>country_destination</th>\n",
       "    </tr>\n",
       "  </thead>\n",
       "  <tbody>\n",
       "    <tr>\n",
       "      <th>count</th>\n",
       "      <td>207386</td>\n",
       "      <td>207386</td>\n",
       "      <td>207386</td>\n",
       "      <td>207386</td>\n",
       "      <td>207386</td>\n",
       "      <td>207386</td>\n",
       "      <td>207386</td>\n",
       "      <td>207386</td>\n",
       "      <td>207386</td>\n",
       "      <td>207386</td>\n",
       "    </tr>\n",
       "    <tr>\n",
       "      <th>unique</th>\n",
       "      <td>4</td>\n",
       "      <td>3</td>\n",
       "      <td>25</td>\n",
       "      <td>8</td>\n",
       "      <td>18</td>\n",
       "      <td>7</td>\n",
       "      <td>4</td>\n",
       "      <td>9</td>\n",
       "      <td>52</td>\n",
       "      <td>12</td>\n",
       "    </tr>\n",
       "    <tr>\n",
       "      <th>top</th>\n",
       "      <td>-unknown-</td>\n",
       "      <td>basic</td>\n",
       "      <td>en</td>\n",
       "      <td>direct</td>\n",
       "      <td>direct</td>\n",
       "      <td>untracked</td>\n",
       "      <td>Web</td>\n",
       "      <td>Mac Desktop</td>\n",
       "      <td>Chrome</td>\n",
       "      <td>NDF</td>\n",
       "    </tr>\n",
       "    <tr>\n",
       "      <th>freq</th>\n",
       "      <td>91783</td>\n",
       "      <td>148297</td>\n",
       "      <td>200415</td>\n",
       "      <td>134179</td>\n",
       "      <td>133935</td>\n",
       "      <td>109232</td>\n",
       "      <td>178334</td>\n",
       "      <td>89600</td>\n",
       "      <td>63845</td>\n",
       "      <td>120216</td>\n",
       "    </tr>\n",
       "  </tbody>\n",
       "</table>\n",
       "</div>"
      ],
      "text/plain": [
       "           gender signup_method language affiliate_channel affiliate_provider first_affiliate_tracked signup_app first_device_type first_browser country_destination\n",
       "count      207386        207386   207386            207386             207386                  207386     207386            207386        207386              207386\n",
       "unique          4             3       25                 8                 18                       7          4                 9            52                  12\n",
       "top     -unknown-         basic       en            direct             direct               untracked        Web       Mac Desktop        Chrome                 NDF\n",
       "freq        91783        148297   200415            134179             133935                  109232     178334             89600         63845              120216"
      ]
     },
     "execution_count": 85,
     "metadata": {},
     "output_type": "execute_result"
    }
   ],
   "source": [
    "cat_attrs.drop('id', axis=1).describe()"
   ]
  },
  {
   "cell_type": "markdown",
   "id": "21d5be66",
   "metadata": {
    "ExecuteTime": {
     "end_time": "2022-07-05T10:31:39.413535Z",
     "start_time": "2022-07-05T10:31:39.408216Z"
    }
   },
   "source": [
    "### Categorical - Sessions"
   ]
  },
  {
   "cell_type": "code",
   "execution_count": 86,
   "id": "01aa0906",
   "metadata": {
    "ExecuteTime": {
     "end_time": "2022-07-05T11:02:19.951010Z",
     "start_time": "2022-07-05T11:01:45.908946Z"
    }
   },
   "outputs": [
    {
     "data": {
      "image/png": "[encoded data removed]",
      "text/plain": [
       "<Figure size 1800x864 with 2 Axes>"
      ]
     },
     "metadata": {},
     "output_type": "display_data"
    }
   ],
   "source": [
    "cat_attrs_sessions_list = cat_attrs_sessions.drop('user_id', axis=1).columns.tolist()\n",
    "\n",
    "corr_dict = {}\n",
    "for i in range(len(cat_attrs_sessions_list)):\n",
    "    corr_list = []\n",
    "    for j in range(len(cat_attrs_sessions_list)):\n",
    "        \n",
    "        ref = cat_attrs_sessions_list[i]\n",
    "        feat = cat_attrs_sessions_list[j]\n",
    "        \n",
    "        # correlation\n",
    "        corr = cramer_v(cat_attrs_sessions[ ref ], cat_attrs_sessions[ feat ])\n",
    "        \n",
    "        # append a list\n",
    "        corr_list.append(corr)\n",
    "        \n",
    "    # append a correlation list for each ref attrs\n",
    "    corr_dict[ref] = corr_list\n",
    "    \n",
    "d = pd.DataFrame(corr_dict)\n",
    "d = d.set_index(d.columns)\n",
    "sns.heatmap(d, annot=True);"
   ]
  },
  {
   "cell_type": "code",
   "execution_count": null,
   "id": "05b6ae70",
   "metadata": {},
   "outputs": [],
   "source": []
  },
  {
   "cell_type": "code",
   "execution_count": null,
   "id": "7f5f642b",
   "metadata": {},
   "outputs": [],
   "source": []
  },
  {
   "cell_type": "code",
   "execution_count": null,
   "id": "fef04ff9",
   "metadata": {},
   "outputs": [],
   "source": []
  },
  {
   "cell_type": "markdown",
   "id": "b4104545",
   "metadata": {
    "heading_collapsed": true
   },
   "source": [
    "# FEATURE ENGINEERING"
   ]
  },
  {
   "cell_type": "code",
   "execution_count": 87,
   "id": "07f3f796",
   "metadata": {
    "ExecuteTime": {
     "end_time": "2022-07-05T11:02:19.970503Z",
     "start_time": "2022-07-05T11:02:19.952648Z"
    },
    "hidden": true
   },
   "outputs": [],
   "source": [
    "df2 = df1.copy()"
   ]
  },
  {
   "cell_type": "markdown",
   "id": "c1de82b0",
   "metadata": {
    "hidden": true
   },
   "source": [
    "## Create New Features"
   ]
  },
  {
   "cell_type": "code",
   "execution_count": 88,
   "id": "dbfa3813",
   "metadata": {
    "ExecuteTime": {
     "end_time": "2022-07-05T11:02:27.406455Z",
     "start_time": "2022-07-05T11:02:19.972627Z"
    },
    "hidden": true
   },
   "outputs": [],
   "source": [
    "# days from first active up to frist booking\n",
    "df2['first_active'] = pd.to_datetime(df2['timestamp_first_active'].dt.strftime('%Y-%m-%d'))\n",
    "df2['days_from_first_active_until_booking'] = (df2['date_first_booking'] - df2['first_active']).apply(lambda x: x.days)\n",
    "\n",
    "# days from first active up to account created\n",
    "df2['days_from_first_active_until_account_created'] = (df2['date_account_created'] - df2['first_active']).apply(lambda x: x.days)\n",
    "\n",
    "# days from account created up to first booking\n",
    "df2['days_from_account_created_until_first_booking'] = (df2['date_first_booking'] - df2['date_account_created']).apply(lambda x: x.days)\n",
    "\n",
    "\n",
    "# ========================== First Active ==========================\n",
    "\n",
    "\n",
    "# year first active\n",
    "df2['year_first_active'] = df2['first_active'].dt.year\n",
    "\n",
    "# month first active\n",
    "df2['month_first_active'] = df2['first_active'].dt.month\n",
    "\n",
    "# day of first active\n",
    "df2['day_first_active'] = df2['first_active'].dt.day\n",
    "\n",
    "# day of week first active\n",
    "df2['day_of_week_year_first_active'] = df2['first_active'].dt.dayofweek\n",
    "\n",
    "# week of year first active\n",
    "df2['week_of_year_year_first_active'] = df2['first_active'].dt.weekofyear\n",
    "\n",
    "\n",
    "# ========================== First Booking ==========================\n",
    "\n",
    "# year first booking\n",
    "df2['year_first_booking'] = df2['date_first_booking'].dt.year\n",
    "\n",
    "# month first booking\n",
    "df2['month_year_first_booking'] = df2['date_first_booking'].dt.month\n",
    "\n",
    "# day of first booking\n",
    "df2['day_year_first_booking'] = df2['date_first_booking'].dt.day\n",
    "\n",
    "# day of week first booking\n",
    "df2['day_of_week_year_first_booking'] = df2['date_first_booking'].dt.dayofweek\n",
    "\n",
    "# week of year first booking\n",
    "df2['week_of_year_year_first_booking'] = df2['date_first_booking'].dt.weekofyear\n",
    "\n",
    "# ========================== First Account Created ==========================\n",
    "\n",
    "# year first account created\n",
    "df2['year_first_account_created'] = df2['date_account_created'].dt.year\n",
    "\n",
    "# month first booking\n",
    "df2['month_year_first_account_created'] = df2['date_account_created'].dt.month\n",
    "\n",
    "# day of first booking\n",
    "df2['day_year_first_account_created'] = df2['date_account_created'].dt.day\n",
    "\n",
    "# day of week first booking\n",
    "df2['day_of_week_year_first_account_created'] = df2['date_account_created'].dt.dayofweek\n",
    "\n",
    "# week of year first booking\n",
    "df2['week_of_year_first_account_created'] = df2['date_account_created'].dt.weekofyear\n"
   ]
  },
  {
   "cell_type": "code",
   "execution_count": 89,
   "id": "18d2c1a4",
   "metadata": {
    "ExecuteTime": {
     "end_time": "2022-07-05T11:02:27.432099Z",
     "start_time": "2022-07-05T11:02:27.408294Z"
    },
    "hidden": true
   },
   "outputs": [
    {
     "data": {
      "text/html": [
       "<div>\n",
       "<style scoped>\n",
       "    .dataframe tbody tr th:only-of-type {\n",
       "        vertical-align: middle;\n",
       "    }\n",
       "\n",
       "    .dataframe tbody tr th {\n",
       "        vertical-align: top;\n",
       "    }\n",
       "\n",
       "    .dataframe thead th {\n",
       "        text-align: right;\n",
       "    }\n",
       "</style>\n",
       "<table border=\"1\" class=\"dataframe\">\n",
       "  <thead>\n",
       "    <tr style=\"text-align: right;\">\n",
       "      <th></th>\n",
       "      <th>id</th>\n",
       "      <th>date_account_created</th>\n",
       "      <th>timestamp_first_active</th>\n",
       "      <th>date_first_booking</th>\n",
       "      <th>gender</th>\n",
       "      <th>age</th>\n",
       "      <th>signup_method</th>\n",
       "      <th>signup_flow</th>\n",
       "      <th>language</th>\n",
       "      <th>affiliate_channel</th>\n",
       "      <th>affiliate_provider</th>\n",
       "      <th>first_affiliate_tracked</th>\n",
       "      <th>signup_app</th>\n",
       "      <th>first_device_type</th>\n",
       "      <th>first_browser</th>\n",
       "      <th>country_destination</th>\n",
       "      <th>first_active</th>\n",
       "      <th>days_from_first_active_until_booking</th>\n",
       "      <th>days_from_first_active_until_account_created</th>\n",
       "      <th>days_from_account_created_until_first_booking</th>\n",
       "      <th>year_first_active</th>\n",
       "      <th>month_first_active</th>\n",
       "      <th>day_first_active</th>\n",
       "      <th>day_of_week_year_first_active</th>\n",
       "      <th>week_of_year_year_first_active</th>\n",
       "      <th>year_first_booking</th>\n",
       "      <th>month_year_first_booking</th>\n",
       "      <th>day_year_first_booking</th>\n",
       "      <th>day_of_week_year_first_booking</th>\n",
       "      <th>week_of_year_year_first_booking</th>\n",
       "      <th>year_first_account_created</th>\n",
       "      <th>month_year_first_account_created</th>\n",
       "      <th>day_year_first_account_created</th>\n",
       "      <th>day_of_week_year_first_account_created</th>\n",
       "      <th>week_of_year_first_account_created</th>\n",
       "    </tr>\n",
       "  </thead>\n",
       "  <tbody>\n",
       "    <tr>\n",
       "      <th>0</th>\n",
       "      <td>gxn3p5htnn</td>\n",
       "      <td>2010-06-28</td>\n",
       "      <td>2009-03-19 04:32:55</td>\n",
       "      <td>2015-06-29</td>\n",
       "      <td>-unknown-</td>\n",
       "      <td>49</td>\n",
       "      <td>facebook</td>\n",
       "      <td>0</td>\n",
       "      <td>en</td>\n",
       "      <td>direct</td>\n",
       "      <td>direct</td>\n",
       "      <td>untracked</td>\n",
       "      <td>Web</td>\n",
       "      <td>Mac Desktop</td>\n",
       "      <td>Chrome</td>\n",
       "      <td>NDF</td>\n",
       "      <td>2009-03-19</td>\n",
       "      <td>2293</td>\n",
       "      <td>466</td>\n",
       "      <td>1827</td>\n",
       "      <td>2009</td>\n",
       "      <td>3</td>\n",
       "      <td>19</td>\n",
       "      <td>3</td>\n",
       "      <td>12</td>\n",
       "      <td>2015</td>\n",
       "      <td>6</td>\n",
       "      <td>29</td>\n",
       "      <td>0</td>\n",
       "      <td>27</td>\n",
       "      <td>2010</td>\n",
       "      <td>6</td>\n",
       "      <td>28</td>\n",
       "      <td>0</td>\n",
       "      <td>26</td>\n",
       "    </tr>\n",
       "    <tr>\n",
       "      <th>1</th>\n",
       "      <td>820tgsjxq7</td>\n",
       "      <td>2011-05-25</td>\n",
       "      <td>2009-05-23 17:48:09</td>\n",
       "      <td>2015-06-29</td>\n",
       "      <td>MALE</td>\n",
       "      <td>38</td>\n",
       "      <td>facebook</td>\n",
       "      <td>0</td>\n",
       "      <td>en</td>\n",
       "      <td>seo</td>\n",
       "      <td>google</td>\n",
       "      <td>untracked</td>\n",
       "      <td>Web</td>\n",
       "      <td>Mac Desktop</td>\n",
       "      <td>Chrome</td>\n",
       "      <td>NDF</td>\n",
       "      <td>2009-05-23</td>\n",
       "      <td>2228</td>\n",
       "      <td>732</td>\n",
       "      <td>1496</td>\n",
       "      <td>2009</td>\n",
       "      <td>5</td>\n",
       "      <td>23</td>\n",
       "      <td>5</td>\n",
       "      <td>21</td>\n",
       "      <td>2015</td>\n",
       "      <td>6</td>\n",
       "      <td>29</td>\n",
       "      <td>0</td>\n",
       "      <td>27</td>\n",
       "      <td>2011</td>\n",
       "      <td>5</td>\n",
       "      <td>25</td>\n",
       "      <td>2</td>\n",
       "      <td>21</td>\n",
       "    </tr>\n",
       "    <tr>\n",
       "      <th>2</th>\n",
       "      <td>4ft3gnwmtx</td>\n",
       "      <td>2010-09-28</td>\n",
       "      <td>2009-06-09 23:12:47</td>\n",
       "      <td>2010-08-02</td>\n",
       "      <td>FEMALE</td>\n",
       "      <td>56</td>\n",
       "      <td>basic</td>\n",
       "      <td>3</td>\n",
       "      <td>en</td>\n",
       "      <td>direct</td>\n",
       "      <td>direct</td>\n",
       "      <td>untracked</td>\n",
       "      <td>Web</td>\n",
       "      <td>Windows Desktop</td>\n",
       "      <td>IE</td>\n",
       "      <td>US</td>\n",
       "      <td>2009-06-09</td>\n",
       "      <td>419</td>\n",
       "      <td>476</td>\n",
       "      <td>-57</td>\n",
       "      <td>2009</td>\n",
       "      <td>6</td>\n",
       "      <td>9</td>\n",
       "      <td>1</td>\n",
       "      <td>24</td>\n",
       "      <td>2010</td>\n",
       "      <td>8</td>\n",
       "      <td>2</td>\n",
       "      <td>0</td>\n",
       "      <td>31</td>\n",
       "      <td>2010</td>\n",
       "      <td>9</td>\n",
       "      <td>28</td>\n",
       "      <td>1</td>\n",
       "      <td>39</td>\n",
       "    </tr>\n",
       "    <tr>\n",
       "      <th>3</th>\n",
       "      <td>bjjt8pjhuk</td>\n",
       "      <td>2011-12-05</td>\n",
       "      <td>2009-10-31 06:01:29</td>\n",
       "      <td>2012-09-08</td>\n",
       "      <td>FEMALE</td>\n",
       "      <td>42</td>\n",
       "      <td>facebook</td>\n",
       "      <td>0</td>\n",
       "      <td>en</td>\n",
       "      <td>direct</td>\n",
       "      <td>direct</td>\n",
       "      <td>untracked</td>\n",
       "      <td>Web</td>\n",
       "      <td>Mac Desktop</td>\n",
       "      <td>Firefox</td>\n",
       "      <td>other</td>\n",
       "      <td>2009-10-31</td>\n",
       "      <td>1043</td>\n",
       "      <td>765</td>\n",
       "      <td>278</td>\n",
       "      <td>2009</td>\n",
       "      <td>10</td>\n",
       "      <td>31</td>\n",
       "      <td>5</td>\n",
       "      <td>44</td>\n",
       "      <td>2012</td>\n",
       "      <td>9</td>\n",
       "      <td>8</td>\n",
       "      <td>5</td>\n",
       "      <td>36</td>\n",
       "      <td>2011</td>\n",
       "      <td>12</td>\n",
       "      <td>5</td>\n",
       "      <td>0</td>\n",
       "      <td>49</td>\n",
       "    </tr>\n",
       "    <tr>\n",
       "      <th>4</th>\n",
       "      <td>87mebub9p4</td>\n",
       "      <td>2010-09-14</td>\n",
       "      <td>2009-12-08 06:11:05</td>\n",
       "      <td>2010-02-18</td>\n",
       "      <td>-unknown-</td>\n",
       "      <td>41</td>\n",
       "      <td>basic</td>\n",
       "      <td>0</td>\n",
       "      <td>en</td>\n",
       "      <td>direct</td>\n",
       "      <td>direct</td>\n",
       "      <td>untracked</td>\n",
       "      <td>Web</td>\n",
       "      <td>Mac Desktop</td>\n",
       "      <td>Chrome</td>\n",
       "      <td>US</td>\n",
       "      <td>2009-12-08</td>\n",
       "      <td>72</td>\n",
       "      <td>280</td>\n",
       "      <td>-208</td>\n",
       "      <td>2009</td>\n",
       "      <td>12</td>\n",
       "      <td>8</td>\n",
       "      <td>1</td>\n",
       "      <td>50</td>\n",
       "      <td>2010</td>\n",
       "      <td>2</td>\n",
       "      <td>18</td>\n",
       "      <td>3</td>\n",
       "      <td>7</td>\n",
       "      <td>2010</td>\n",
       "      <td>9</td>\n",
       "      <td>14</td>\n",
       "      <td>1</td>\n",
       "      <td>37</td>\n",
       "    </tr>\n",
       "  </tbody>\n",
       "</table>\n",
       "</div>"
      ],
      "text/plain": [
       "           id date_account_created timestamp_first_active date_first_booking     gender  age signup_method  signup_flow language affiliate_channel affiliate_provider first_affiliate_tracked signup_app first_device_type first_browser country_destination first_active  days_from_first_active_until_booking  days_from_first_active_until_account_created  days_from_account_created_until_first_booking  year_first_active  month_first_active  day_first_active  day_of_week_year_first_active  week_of_year_year_first_active  year_first_booking  month_year_first_booking  day_year_first_booking  day_of_week_year_first_booking  week_of_year_year_first_booking  year_first_account_created  month_year_first_account_created  day_year_first_account_created  day_of_week_year_first_account_created  week_of_year_first_account_created\n",
       "0  gxn3p5htnn           2010-06-28    2009-03-19 04:32:55         2015-06-29  -unknown-   49      facebook            0       en            direct             direct               untracked        Web       Mac Desktop        Chrome                 NDF   2009-03-19                                  2293                                           466                                           1827               2009                   3                19                              3                              12                2015                         6                      29                               0                               27                        2010                                 6                              28                                       0                                  26\n",
       "1  820tgsjxq7           2011-05-25    2009-05-23 17:48:09         2015-06-29       MALE   38      facebook            0       en               seo             google               untracked        Web       Mac Desktop        Chrome                 NDF   2009-05-23                                  2228                                           732                                           1496               2009                   5                23                              5                              21                2015                         6                      29                               0                               27                        2011                                 5                              25                                       2                                  21\n",
       "2  4ft3gnwmtx           2010-09-28    2009-06-09 23:12:47         2010-08-02     FEMALE   56         basic            3       en            direct             direct               untracked        Web   Windows Desktop            IE                  US   2009-06-09                                   419                                           476                                            -57               2009                   6                 9                              1                              24                2010                         8                       2                               0                               31                        2010                                 9                              28                                       1                                  39\n",
       "3  bjjt8pjhuk           2011-12-05    2009-10-31 06:01:29         2012-09-08     FEMALE   42      facebook            0       en            direct             direct               untracked        Web       Mac Desktop       Firefox               other   2009-10-31                                  1043                                           765                                            278               2009                  10                31                              5                              44                2012                         9                       8                               5                               36                        2011                                12                               5                                       0                                  49\n",
       "4  87mebub9p4           2010-09-14    2009-12-08 06:11:05         2010-02-18  -unknown-   41         basic            0       en            direct             direct               untracked        Web       Mac Desktop        Chrome                  US   2009-12-08                                    72                                           280                                           -208               2009                  12                 8                              1                              50                2010                         2                      18                               3                                7                        2010                                 9                              14                                       1                                  37"
      ]
     },
     "execution_count": 89,
     "metadata": {},
     "output_type": "execute_result"
    }
   ],
   "source": [
    "df2.head()"
   ]
  },
  {
   "cell_type": "markdown",
   "id": "7717b0ef",
   "metadata": {
    "heading_collapsed": true
   },
   "source": [
    "# DATA FILTERING"
   ]
  },
  {
   "cell_type": "code",
   "execution_count": 90,
   "id": "958fd360",
   "metadata": {
    "ExecuteTime": {
     "end_time": "2022-07-05T11:02:27.486599Z",
     "start_time": "2022-07-05T11:02:27.434222Z"
    },
    "hidden": true
   },
   "outputs": [],
   "source": [
    "df3 = df2.copy()"
   ]
  },
  {
   "cell_type": "markdown",
   "id": "aefad61f",
   "metadata": {
    "heading_collapsed": true,
    "hidden": true
   },
   "source": [
    "## Filtering Rows"
   ]
  },
  {
   "cell_type": "code",
   "execution_count": null,
   "id": "eb1fd868",
   "metadata": {
    "hidden": true
   },
   "outputs": [],
   "source": []
  },
  {
   "cell_type": "markdown",
   "id": "8daa2145",
   "metadata": {
    "heading_collapsed": true,
    "hidden": true
   },
   "source": [
    "## Columns Selection"
   ]
  },
  {
   "cell_type": "markdown",
   "id": "3d8a65c7",
   "metadata": {
    "heading_collapsed": true
   },
   "source": [
    "# DATA PREPARATION"
   ]
  },
  {
   "cell_type": "code",
   "execution_count": 91,
   "id": "3e9a3c63",
   "metadata": {
    "ExecuteTime": {
     "end_time": "2022-07-05T11:02:27.508405Z",
     "start_time": "2022-07-05T11:02:27.488756Z"
    },
    "hidden": true
   },
   "outputs": [],
   "source": [
    "df4 = df3.copy()"
   ]
  },
  {
   "cell_type": "code",
   "execution_count": 92,
   "id": "bc5c4798",
   "metadata": {
    "ExecuteTime": {
     "end_time": "2022-07-05T11:02:27.828528Z",
     "start_time": "2022-07-05T11:02:27.510354Z"
    },
    "hidden": true
   },
   "outputs": [],
   "source": [
    "# dummy variable\n",
    "df4_dummy = pd.get_dummies(df4.drop(['id', 'country_destination'], axis=1))\n",
    "\n",
    "# join id and country_destination\n",
    "df4 = pd.concat([df4[['id', 'country_destination']], df4_dummy], axis=1)"
   ]
  },
  {
   "cell_type": "markdown",
   "id": "759d4ced",
   "metadata": {
    "heading_collapsed": true
   },
   "source": [
    "# FEATURE SELECTION"
   ]
  },
  {
   "cell_type": "code",
   "execution_count": 93,
   "id": "69ed1305",
   "metadata": {
    "ExecuteTime": {
     "end_time": "2022-07-05T11:02:27.889348Z",
     "start_time": "2022-07-05T11:02:27.830066Z"
    },
    "hidden": true
   },
   "outputs": [],
   "source": [
    "cols_drop = ['date_account_created', 'timestamp_first_active', 'date_first_booking', 'first_active'] # origial dates\n",
    "df5 = df4.drop( cols_drop, axis=1)"
   ]
  },
  {
   "cell_type": "code",
   "execution_count": 94,
   "id": "c7a02bee",
   "metadata": {
    "ExecuteTime": {
     "end_time": "2022-07-05T11:02:27.922113Z",
     "start_time": "2022-07-05T11:02:27.891106Z"
    },
    "hidden": true
   },
   "outputs": [],
   "source": [
    "X = df5.drop('country_destination', axis=1)\n",
    "y = df5['country_destination'].copy()"
   ]
  },
  {
   "cell_type": "code",
   "execution_count": 95,
   "id": "83858fec",
   "metadata": {
    "ExecuteTime": {
     "end_time": "2022-07-05T11:02:28.226670Z",
     "start_time": "2022-07-05T11:02:27.923814Z"
    },
    "hidden": true
   },
   "outputs": [],
   "source": [
    "# split dataset into training and test\n",
    "X_train, X_test, y_train, y_test = ms.train_test_split(X, y, test_size=0.2, random_state=32)"
   ]
  },
  {
   "cell_type": "markdown",
   "id": "3dd12245",
   "metadata": {
    "heading_collapsed": true
   },
   "source": [
    "# MACHINE LEARNING MODEL"
   ]
  },
  {
   "cell_type": "code",
   "execution_count": 96,
   "id": "8c66a5b8",
   "metadata": {
    "ExecuteTime": {
     "end_time": "2022-07-05T11:02:28.254237Z",
     "start_time": "2022-07-05T11:02:28.229781Z"
    },
    "hidden": true
   },
   "outputs": [],
   "source": [
    "x_train = X_train.drop('id', axis=1)\n",
    "x_test = X_test.drop('id', axis=1)"
   ]
  },
  {
   "cell_type": "markdown",
   "id": "3b487802",
   "metadata": {
    "hidden": true
   },
   "source": [
    "## Baseline Model"
   ]
  },
  {
   "cell_type": "code",
   "execution_count": 100,
   "id": "2ac7983f",
   "metadata": {
    "ExecuteTime": {
     "end_time": "2022-07-05T11:03:28.586163Z",
     "start_time": "2022-07-05T11:03:28.533870Z"
    },
    "hidden": true
   },
   "outputs": [
    {
     "data": {
      "text/plain": [
       "41478"
      ]
     },
     "execution_count": 100,
     "metadata": {},
     "output_type": "execute_result"
    }
   ],
   "source": [
    "country_destination_list = df1['country_destination'].drop_duplicates().sort_values().tolist()\n",
    "k_num = y_test.shape[0]\n",
    "country_destination__weights = df1['country_destination'].value_counts(normalize=True).sort_index().to_list()\n",
    "\n",
    "yhat_random = random.choices(population=country_destination_list, \n",
    "                               weights=country_destination__weights,\n",
    "                               k=k_num)\n",
    "len(yhat_random)"
   ]
  },
  {
   "cell_type": "code",
   "execution_count": 101,
   "id": "1fe9d719",
   "metadata": {
    "ExecuteTime": {
     "end_time": "2022-07-05T11:03:33.400116Z",
     "start_time": "2022-07-05T11:03:31.322104Z"
    },
    "hidden": true
   },
   "outputs": [
    {
     "name": "stdout",
     "output_type": "stream",
     "text": [
      "Accuracy: 0.4240561261391581\n",
      "Balanced Accuracy: 0.08197011773397166\n",
      "Kappa Score: -0.005907840472652026\n",
      "              precision    recall  f1-score   support\n",
      "\n",
      "          AU       0.00      0.00      0.00       111\n",
      "          CA       0.00      0.00      0.00       281\n",
      "          DE       0.02      0.01      0.01       215\n",
      "          ES       0.00      0.00      0.00       428\n",
      "          FR       0.03      0.03      0.03      1021\n",
      "          GB       0.01      0.01      0.01       426\n",
      "          IT       0.01      0.01      0.01       570\n",
      "         NDF       0.58      0.58      0.58     23996\n",
      "          NL       0.00      0.00      0.00       146\n",
      "          PT       0.00      0.00      0.00        48\n",
      "          US       0.29      0.29      0.29     12280\n",
      "       other       0.04      0.04      0.04      1956\n",
      "\n",
      "    accuracy                           0.42     41478\n",
      "   macro avg       0.08      0.08      0.08     41478\n",
      "weighted avg       0.42      0.42      0.42     41478\n",
      "\n"
     ]
    },
    {
     "data": {
      "image/png": "[encoded data removed]",
      "text/plain": [
       "<Figure size 864x864 with 2 Axes>"
      ]
     },
     "metadata": {},
     "output_type": "display_data"
    }
   ],
   "source": [
    "# Accuracy\n",
    "acc_random = m.accuracy_score(y_test, yhat_random)\n",
    "print(f'Accuracy: {acc_random}')\n",
    "\n",
    "# Balanced Accuracy\n",
    "balanced_acc_random = m.balanced_accuracy_score(y_test, yhat_random)\n",
    "print(f'Balanced Accuracy: {balanced_acc_random}')\n",
    "\n",
    "# Kappa Metrics\n",
    "kappa_random = m.cohen_kappa_score(y_test, yhat_random)\n",
    "print(f'Kappa Score: {kappa_random}')\n",
    "\n",
    "# Classification Report \n",
    "print(m.classification_report(y_test, yhat_random))\n",
    "\n",
    "# Confusion Matrix\n",
    "mt.plot_confusion_matrix(y_test, yhat_random, normalize=False, figsize=(12,12));"
   ]
  },
  {
   "cell_type": "markdown",
   "id": "a242d289",
   "metadata": {
    "hidden": true
   },
   "source": [
    "## Neural Network - MLP"
   ]
  },
  {
   "cell_type": "code",
   "execution_count": 102,
   "id": "52fb6488",
   "metadata": {
    "ExecuteTime": {
     "end_time": "2022-07-05T11:03:36.191204Z",
     "start_time": "2022-07-05T11:03:36.133477Z"
    },
    "hidden": true
   },
   "outputs": [],
   "source": [
    "ohe = pp.OneHotEncoder()\n",
    "y_train_nn = ohe.fit_transform(y_train.values.reshape(-1, 1)).toarray()"
   ]
  },
  {
   "cell_type": "code",
   "execution_count": 103,
   "id": "68ce53db",
   "metadata": {
    "ExecuteTime": {
     "end_time": "2022-07-05T11:03:36.640337Z",
     "start_time": "2022-07-05T11:03:36.633907Z"
    },
    "hidden": true
   },
   "outputs": [
    {
     "data": {
      "text/plain": [
       "(165908, 150)"
      ]
     },
     "execution_count": 103,
     "metadata": {},
     "output_type": "execute_result"
    }
   ],
   "source": [
    "x_train.shape"
   ]
  },
  {
   "cell_type": "code",
   "execution_count": 105,
   "id": "fdb4f241",
   "metadata": {
    "ExecuteTime": {
     "end_time": "2022-07-05T11:21:57.662815Z",
     "start_time": "2022-07-05T11:04:42.633866Z"
    },
    "hidden": true,
    "scrolled": true
   },
   "outputs": [
    {
     "name": "stdout",
     "output_type": "stream",
     "text": [
      "Epoch 1/100\n",
      "5185/5185 [==============================] - 10s 2ms/step - loss: 4.1251 - accuracy: 0.7962\n",
      "Epoch 2/100\n",
      "5185/5185 [==============================] - 10s 2ms/step - loss: 1.0817 - accuracy: 0.8288\n",
      "Epoch 3/100\n",
      "5185/5185 [==============================] - 10s 2ms/step - loss: 0.5936 - accuracy: 0.8622\n",
      "Epoch 4/100\n",
      "5185/5185 [==============================] - 10s 2ms/step - loss: 0.5068 - accuracy: 0.8723\n",
      "Epoch 5/100\n",
      "5185/5185 [==============================] - 10s 2ms/step - loss: 0.5009 - accuracy: 0.8730\n",
      "Epoch 6/100\n",
      "5185/5185 [==============================] - 10s 2ms/step - loss: 0.4990 - accuracy: 0.8733\n",
      "Epoch 7/100\n",
      "5185/5185 [==============================] - 10s 2ms/step - loss: 0.4981 - accuracy: 0.8732\n",
      "Epoch 8/100\n",
      "5185/5185 [==============================] - 10s 2ms/step - loss: 0.4963 - accuracy: 0.8735\n",
      "Epoch 9/100\n",
      "5185/5185 [==============================] - 10s 2ms/step - loss: 0.4963 - accuracy: 0.8735\n",
      "Epoch 10/100\n",
      "5185/5185 [==============================] - 10s 2ms/step - loss: 0.4950 - accuracy: 0.8735\n",
      "Epoch 11/100\n",
      "5185/5185 [==============================] - 10s 2ms/step - loss: 0.4951 - accuracy: 0.8735\n",
      "Epoch 12/100\n",
      "5185/5185 [==============================] - 10s 2ms/step - loss: 0.4965 - accuracy: 0.8736\n",
      "Epoch 13/100\n",
      "5185/5185 [==============================] - 10s 2ms/step - loss: 0.4919 - accuracy: 0.8737\n",
      "Epoch 14/100\n",
      "5185/5185 [==============================] - 10s 2ms/step - loss: 0.4914 - accuracy: 0.8736\n",
      "Epoch 15/100\n",
      "5185/5185 [==============================] - 10s 2ms/step - loss: 0.4916 - accuracy: 0.8736\n",
      "Epoch 16/100\n",
      "5185/5185 [==============================] - 10s 2ms/step - loss: 0.4910 - accuracy: 0.8737\n",
      "Epoch 17/100\n",
      "5185/5185 [==============================] - 10s 2ms/step - loss: 0.4911 - accuracy: 0.8737\n",
      "Epoch 18/100\n",
      "5185/5185 [==============================] - 10s 2ms/step - loss: 0.4916 - accuracy: 0.8737\n",
      "Epoch 19/100\n",
      "5185/5185 [==============================] - 10s 2ms/step - loss: 0.4910 - accuracy: 0.8737\n",
      "Epoch 20/100\n",
      "5185/5185 [==============================] - 10s 2ms/step - loss: 0.4915 - accuracy: 0.8737\n",
      "Epoch 21/100\n",
      "5185/5185 [==============================] - 10s 2ms/step - loss: 0.4908 - accuracy: 0.8737\n",
      "Epoch 22/100\n",
      "5185/5185 [==============================] - 10s 2ms/step - loss: 0.4916 - accuracy: 0.8737\n",
      "Epoch 23/100\n",
      "5185/5185 [==============================] - 10s 2ms/step - loss: 0.4909 - accuracy: 0.8737\n",
      "Epoch 24/100\n",
      "5185/5185 [==============================] - 9s 2ms/step - loss: 0.4913 - accuracy: 0.8737\n",
      "Epoch 25/100\n",
      "5185/5185 [==============================] - 9s 2ms/step - loss: 0.4910 - accuracy: 0.8737\n",
      "Epoch 26/100\n",
      "5185/5185 [==============================] - 9s 2ms/step - loss: 0.4907 - accuracy: 0.8738\n",
      "Epoch 27/100\n",
      "5185/5185 [==============================] - 10s 2ms/step - loss: 0.4907 - accuracy: 0.8737\n",
      "Epoch 28/100\n",
      "5185/5185 [==============================] - 10s 2ms/step - loss: 0.4917 - accuracy: 0.8737\n",
      "Epoch 29/100\n",
      "5185/5185 [==============================] - 10s 2ms/step - loss: 0.4906 - accuracy: 0.8738\n",
      "Epoch 30/100\n",
      "5185/5185 [==============================] - 10s 2ms/step - loss: 0.4907 - accuracy: 0.8738\n",
      "Epoch 31/100\n",
      "5185/5185 [==============================] - 10s 2ms/step - loss: 0.4911 - accuracy: 0.8737\n",
      "Epoch 32/100\n",
      "5185/5185 [==============================] - 10s 2ms/step - loss: 0.4905 - accuracy: 0.8738\n",
      "Epoch 33/100\n",
      "5185/5185 [==============================] - 10s 2ms/step - loss: 0.4908 - accuracy: 0.8737\n",
      "Epoch 34/100\n",
      "5185/5185 [==============================] - 10s 2ms/step - loss: 0.4904 - accuracy: 0.8738\n",
      "Epoch 35/100\n",
      "5185/5185 [==============================] - 10s 2ms/step - loss: 0.4909 - accuracy: 0.8738\n",
      "Epoch 36/100\n",
      "5185/5185 [==============================] - 10s 2ms/step - loss: 0.4907 - accuracy: 0.8738\n",
      "Epoch 37/100\n",
      "5185/5185 [==============================] - 10s 2ms/step - loss: 0.4908 - accuracy: 0.8738\n",
      "Epoch 38/100\n",
      "5185/5185 [==============================] - 10s 2ms/step - loss: 0.4907 - accuracy: 0.8737\n",
      "Epoch 39/100\n",
      "5185/5185 [==============================] - 10s 2ms/step - loss: 0.4904 - accuracy: 0.8738\n",
      "Epoch 40/100\n",
      "5185/5185 [==============================] - 10s 2ms/step - loss: 0.4912 - accuracy: 0.8737\n",
      "Epoch 41/100\n",
      "5185/5185 [==============================] - 10s 2ms/step - loss: 0.4913 - accuracy: 0.8738\n",
      "Epoch 42/100\n",
      "5185/5185 [==============================] - 10s 2ms/step - loss: 0.4905 - accuracy: 0.8739\n",
      "Epoch 43/100\n",
      "5185/5185 [==============================] - 10s 2ms/step - loss: 0.4904 - accuracy: 0.8739\n",
      "Epoch 44/100\n",
      "5185/5185 [==============================] - 10s 2ms/step - loss: 0.4912 - accuracy: 0.8737\n",
      "Epoch 45/100\n",
      "5185/5185 [==============================] - 10s 2ms/step - loss: 0.4903 - accuracy: 0.8739\n",
      "Epoch 46/100\n",
      "5185/5185 [==============================] - 10s 2ms/step - loss: 0.4903 - accuracy: 0.8738\n",
      "Epoch 47/100\n",
      "5185/5185 [==============================] - 10s 2ms/step - loss: 0.4905 - accuracy: 0.8738\n",
      "Epoch 48/100\n",
      "5185/5185 [==============================] - 10s 2ms/step - loss: 0.4903 - accuracy: 0.8738\n",
      "Epoch 49/100\n",
      "5185/5185 [==============================] - 9s 2ms/step - loss: 0.4906 - accuracy: 0.8738\n",
      "Epoch 50/100\n",
      "5185/5185 [==============================] - 10s 2ms/step - loss: 0.4903 - accuracy: 0.8738\n",
      "Epoch 51/100\n",
      "5185/5185 [==============================] - 10s 2ms/step - loss: 0.4901 - accuracy: 0.8739\n",
      "Epoch 52/100\n",
      "5185/5185 [==============================] - 10s 2ms/step - loss: 0.4907 - accuracy: 0.8738\n",
      "Epoch 53/100\n",
      "5185/5185 [==============================] - 10s 2ms/step - loss: 0.4916 - accuracy: 0.8737\n",
      "Epoch 54/100\n",
      "5185/5185 [==============================] - 10s 2ms/step - loss: 0.4903 - accuracy: 0.8739\n",
      "Epoch 55/100\n",
      "5185/5185 [==============================] - 10s 2ms/step - loss: 0.4909 - accuracy: 0.8738\n",
      "Epoch 56/100\n",
      "5185/5185 [==============================] - 10s 2ms/step - loss: 0.4903 - accuracy: 0.8738\n",
      "Epoch 57/100\n",
      "5185/5185 [==============================] - 10s 2ms/step - loss: 0.4904 - accuracy: 0.8738\n",
      "Epoch 58/100\n",
      "5185/5185 [==============================] - 10s 2ms/step - loss: 0.4903 - accuracy: 0.8738\n",
      "Epoch 59/100\n",
      "5185/5185 [==============================] - 10s 2ms/step - loss: 0.4906 - accuracy: 0.8738\n",
      "Epoch 60/100\n",
      "5185/5185 [==============================] - 10s 2ms/step - loss: 0.4918 - accuracy: 0.8738\n",
      "Epoch 61/100\n",
      "5185/5185 [==============================] - 10s 2ms/step - loss: 0.4902 - accuracy: 0.8739\n",
      "Epoch 62/100\n",
      "5185/5185 [==============================] - 10s 2ms/step - loss: 0.4923 - accuracy: 0.8737\n",
      "Epoch 63/100\n",
      "5185/5185 [==============================] - 9s 2ms/step - loss: 0.4902 - accuracy: 0.8739\n",
      "Epoch 64/100\n",
      "5185/5185 [==============================] - 10s 2ms/step - loss: 0.4901 - accuracy: 0.8739\n",
      "Epoch 65/100\n",
      "5185/5185 [==============================] - 10s 2ms/step - loss: 0.4916 - accuracy: 0.8738\n",
      "Epoch 66/100\n",
      "5185/5185 [==============================] - 10s 2ms/step - loss: 0.4905 - accuracy: 0.8738\n",
      "Epoch 67/100\n",
      "5185/5185 [==============================] - 10s 2ms/step - loss: 0.4904 - accuracy: 0.8738\n",
      "Epoch 68/100\n",
      "5185/5185 [==============================] - 10s 2ms/step - loss: 0.4904 - accuracy: 0.8738\n",
      "Epoch 69/100\n",
      "5185/5185 [==============================] - 10s 2ms/step - loss: 0.4901 - accuracy: 0.8739\n",
      "Epoch 70/100\n",
      "5185/5185 [==============================] - 10s 2ms/step - loss: 0.4905 - accuracy: 0.8738\n",
      "Epoch 71/100\n",
      "5185/5185 [==============================] - 10s 2ms/step - loss: 0.4901 - accuracy: 0.8739\n",
      "Epoch 72/100\n",
      "5185/5185 [==============================] - 10s 2ms/step - loss: 0.4904 - accuracy: 0.8738\n",
      "Epoch 73/100\n",
      "5185/5185 [==============================] - 10s 2ms/step - loss: 0.4904 - accuracy: 0.8738\n",
      "Epoch 74/100\n",
      "5185/5185 [==============================] - 10s 2ms/step - loss: 0.4922 - accuracy: 0.8737\n",
      "Epoch 75/100\n",
      "5185/5185 [==============================] - 10s 2ms/step - loss: 0.4904 - accuracy: 0.8739\n",
      "Epoch 76/100\n",
      "5185/5185 [==============================] - 10s 2ms/step - loss: 0.4917 - accuracy: 0.8738\n",
      "Epoch 77/100\n",
      "5185/5185 [==============================] - 10s 2ms/step - loss: 0.4905 - accuracy: 0.8738\n",
      "Epoch 78/100\n",
      "5185/5185 [==============================] - 10s 2ms/step - loss: 0.4902 - accuracy: 0.8739\n",
      "Epoch 79/100\n",
      "5185/5185 [==============================] - 10s 2ms/step - loss: 0.4901 - accuracy: 0.8739\n",
      "Epoch 80/100\n",
      "5185/5185 [==============================] - 10s 2ms/step - loss: 0.4900 - accuracy: 0.8739\n",
      "Epoch 81/100\n",
      "5185/5185 [==============================] - 10s 2ms/step - loss: 0.4903 - accuracy: 0.8739\n",
      "Epoch 82/100\n",
      "5185/5185 [==============================] - 10s 2ms/step - loss: 0.4905 - accuracy: 0.8738\n",
      "Epoch 83/100\n",
      "5185/5185 [==============================] - 10s 2ms/step - loss: 0.4903 - accuracy: 0.8739\n",
      "Epoch 84/100\n",
      "5185/5185 [==============================] - 10s 2ms/step - loss: 0.4918 - accuracy: 0.8737\n",
      "Epoch 85/100\n",
      "5185/5185 [==============================] - 10s 2ms/step - loss: 0.4898 - accuracy: 0.8739\n",
      "Epoch 86/100\n",
      "5185/5185 [==============================] - 10s 2ms/step - loss: 0.4907 - accuracy: 0.8739\n",
      "Epoch 87/100\n",
      "5185/5185 [==============================] - 10s 2ms/step - loss: 0.4935 - accuracy: 0.8735\n",
      "Epoch 88/100\n",
      "5185/5185 [==============================] - 10s 2ms/step - loss: 0.4900 - accuracy: 0.8739\n",
      "Epoch 89/100\n",
      "5185/5185 [==============================] - 10s 2ms/step - loss: 0.4905 - accuracy: 0.8738\n",
      "Epoch 90/100\n",
      "5185/5185 [==============================] - 10s 2ms/step - loss: 0.4908 - accuracy: 0.8738\n",
      "Epoch 91/100\n",
      "5185/5185 [==============================] - 10s 2ms/step - loss: 0.4898 - accuracy: 0.8739\n",
      "Epoch 92/100\n",
      "5185/5185 [==============================] - 10s 2ms/step - loss: 0.4905 - accuracy: 0.8739\n",
      "Epoch 93/100\n",
      "5185/5185 [==============================] - 10s 2ms/step - loss: 0.4902 - accuracy: 0.8739\n",
      "Epoch 94/100\n",
      "5185/5185 [==============================] - 10s 2ms/step - loss: 0.4903 - accuracy: 0.8739\n",
      "Epoch 95/100\n",
      "5185/5185 [==============================] - 10s 2ms/step - loss: 0.4906 - accuracy: 0.8738\n",
      "Epoch 96/100\n",
      "5185/5185 [==============================] - 10s 2ms/step - loss: 0.4903 - accuracy: 0.8738\n",
      "Epoch 97/100\n",
      "5185/5185 [==============================] - 10s 2ms/step - loss: 0.4900 - accuracy: 0.8739\n",
      "Epoch 98/100\n",
      "5185/5185 [==============================] - 10s 2ms/step - loss: 0.4899 - accuracy: 0.8739\n",
      "Epoch 99/100\n",
      "5185/5185 [==============================] - 10s 2ms/step - loss: 0.4900 - accuracy: 0.8739\n",
      "Epoch 100/100\n",
      "5185/5185 [==============================] - 10s 2ms/step - loss: 0.4905 - accuracy: 0.8739\n"
     ]
    },
    {
     "data": {
      "text/plain": [
       "<keras.callbacks.History at 0x7fa9506b2220>"
      ]
     },
     "execution_count": 105,
     "metadata": {},
     "output_type": "execute_result"
    }
   ],
   "source": [
    "# model definition\n",
    "model = ml.Sequential()\n",
    "model.add(l.Dense(256, input_dim=x_train.shape[1], activation='relu'))\n",
    "model.add(l.Dense(12, activation='softmax'))\n",
    "\n",
    "# model compile\n",
    "model.compile(loss='categorical_crossentropy', optimizer='adam', metrics=['accuracy'])\n",
    "\n",
    "# train mode\n",
    "model.fit(x_train, y_train_nn, epochs=100)"
   ]
  },
  {
   "cell_type": "markdown",
   "id": "bb1f28c0",
   "metadata": {
    "hidden": true
   },
   "source": [
    "## NEURAL NETWORK PERFORMANCE"
   ]
  },
  {
   "cell_type": "code",
   "execution_count": 106,
   "id": "d608aba0",
   "metadata": {
    "ExecuteTime": {
     "end_time": "2022-07-05T11:22:14.704054Z",
     "start_time": "2022-07-05T11:21:57.665481Z"
    },
    "hidden": true
   },
   "outputs": [
    {
     "name": "stdout",
     "output_type": "stream",
     "text": [
      "1297/1297 [==============================] - 2s 1ms/step\n"
     ]
    }
   ],
   "source": [
    "# prediction\n",
    "pred_nn = model.predict(x_test)\n",
    "\n",
    "# invert prediction\n",
    "yhat_nn = ohe.inverse_transform(pred_nn)\n",
    "\n",
    "# prediction prepare\n",
    "y_test_nn = y_test.to_numpy()\n",
    "yhat_nn = yhat_nn.reshape(1, -1)[0]"
   ]
  },
  {
   "cell_type": "code",
   "execution_count": 107,
   "id": "36bd9cdf",
   "metadata": {
    "ExecuteTime": {
     "end_time": "2022-07-05T11:22:14.905264Z",
     "start_time": "2022-07-05T11:22:14.705981Z"
    },
    "hidden": true
   },
   "outputs": [
    {
     "data": {
      "text/plain": [
       "0.16666666666666666"
      ]
     },
     "execution_count": 107,
     "metadata": {},
     "output_type": "execute_result"
    }
   ],
   "source": [
    "# Balanced Accuracy\n",
    "m.balanced_accuracy_score(y_test_nn, yhat_nn)"
   ]
  },
  {
   "cell_type": "code",
   "execution_count": 108,
   "id": "3a7196df",
   "metadata": {
    "ExecuteTime": {
     "end_time": "2022-07-05T11:22:17.584509Z",
     "start_time": "2022-07-05T11:22:14.908319Z"
    },
    "hidden": true
   },
   "outputs": [
    {
     "name": "stdout",
     "output_type": "stream",
     "text": [
      "Accuracy: 0.8745841168812383\n",
      "Balanced Accuracy: 0.16666666666666666\n",
      "Kappa Score: 0.7679722856853507\n",
      "              precision    recall  f1-score   support\n",
      "\n",
      "          AU       0.00      0.00      0.00       111\n",
      "          CA       0.00      0.00      0.00       281\n",
      "          DE       0.00      0.00      0.00       215\n",
      "          ES       0.00      0.00      0.00       428\n",
      "          FR       0.00      0.00      0.00      1021\n",
      "          GB       0.00      0.00      0.00       426\n",
      "          IT       0.00      0.00      0.00       570\n",
      "         NDF       1.00      1.00      1.00     23996\n",
      "          NL       0.00      0.00      0.00       146\n",
      "          PT       0.00      0.00      0.00        48\n",
      "          US       0.70      1.00      0.83     12280\n",
      "       other       0.00      0.00      0.00      1956\n",
      "\n",
      "    accuracy                           0.87     41478\n",
      "   macro avg       0.14      0.17      0.15     41478\n",
      "weighted avg       0.79      0.87      0.82     41478\n",
      "\n"
     ]
    },
    {
     "data": {
      "image/png": "[encoded data removed]",
      "text/plain": [
       "<Figure size 864x864 with 2 Axes>"
      ]
     },
     "metadata": {},
     "output_type": "display_data"
    }
   ],
   "source": [
    "# Accuracy\n",
    "acc_nn = m.accuracy_score(y_test_nn, yhat_nn)\n",
    "print(f'Accuracy: {acc_nn}')\n",
    "\n",
    "# Balanced Accuracy\n",
    "balanced_acc_nn = m.balanced_accuracy_score(y_test_nn, yhat_nn)\n",
    "print(f'Balanced Accuracy: {balanced_acc_nn}')\n",
    "\n",
    "# Kappa Metrics\n",
    "kappa_nn = m.cohen_kappa_score(y_test_nn, yhat_nn)\n",
    "print(f'Kappa Score: {kappa_nn}')\n",
    "\n",
    "# Classification Report \n",
    "print(m.classification_report(y_test_nn, yhat_nn))\n",
    "\n",
    "# Confusion Matrix\n",
    "mt.plot_confusion_matrix(y_test_nn, yhat_nn, normalize=False, figsize=(12,12));"
   ]
  },
  {
   "cell_type": "markdown",
   "id": "0181a855",
   "metadata": {
    "heading_collapsed": true,
    "hidden": true
   },
   "source": [
    "### NEURAL NETWORK PERFORMANCE - Cross-Validation"
   ]
  },
  {
   "cell_type": "code",
   "execution_count": 50,
   "id": "ae26238a",
   "metadata": {
    "ExecuteTime": {
     "end_time": "2022-07-04T14:31:57.668488Z",
     "start_time": "2022-07-04T14:12:32.378433Z"
    },
    "hidden": true
   },
   "outputs": [
    {
     "name": "stdout",
     "output_type": "stream",
     "text": [
      "Folder Number: 1 / 5\n",
      "341/341 [==============================] - 0s 1ms/step\n",
      "Folder Number: 2 / 5\n",
      "341/341 [==============================] - 0s 1ms/step\n",
      "Folder Number: 3 / 5\n",
      "341/341 [==============================] - 0s 1ms/step\n",
      "Folder Number: 4 / 5\n",
      "341/341 [==============================] - 0s 1ms/step\n",
      "Folder Number: 5 / 5\n",
      "341/341 [==============================] - 0s 1ms/step\n"
     ]
    }
   ],
   "source": [
    "# generate k-fold\n",
    "num_folds = 5\n",
    "kfold = ms.StratifiedKFold(n_splits=num_folds, shuffle=True, random_state=32)\n",
    "\n",
    "# create list\n",
    "\n",
    "balanced_acc_list = []\n",
    "kappa_acc_list = []\n",
    "\n",
    "i = 1\n",
    "for train_ix, val_ix in kfold.split(x_train, y_train):\n",
    "    \n",
    "    print(f'Folder Number: {i} / {num_folds}')\n",
    "    \n",
    "    # get fold\n",
    "    x_train_fold = x_train.iloc[train_ix]\n",
    "    y_train_fold = y_train.iloc[train_ix]\n",
    "    \n",
    "    x_val_fold = x_train.iloc[val_ix]\n",
    "    y_val_fold = y_train.iloc[val_ix]\n",
    "    \n",
    "\n",
    "    # target - hot-enconding\n",
    "    ohe = pp.OneHotEncoder()\n",
    "    y_train_fold_nn = ohe.fit_transform(y_train_fold.values.reshape(-1, 1)).toarray()\n",
    "    \n",
    "    # model definition\n",
    "    model = ml.Sequential()\n",
    "    model.add(l.Dense(256, input_dim=x_train.shape[1], activation='relu'))\n",
    "    model.add(l.Dense(11, activation='softmax'))\n",
    "\n",
    "    # compile model\n",
    "    model.compile(loss='categorical_crossentropy', optimizer='adam', metrics=['accuracy'])\n",
    "\n",
    "    # training model\n",
    "    model.fit(x_train_fold, y_train_fold_nn, epochs=100, batch_size=32, verbose=0)\n",
    "\n",
    "    # prediction\n",
    "    pred_nn = model.predict(x_val_fold) #dados encoding\n",
    "    yhat_nn = ohe.inverse_transform(pred_nn) # dados original\n",
    "    \n",
    "    # prepare data\n",
    "    y_test_nn = y_val_fold.to_numpy()\n",
    "    yhat_nn = yhat_nn.reshape(1, -1)[0]\n",
    "    \n",
    "    # metrics\n",
    "    \n",
    "    ## balanced accuracy\n",
    "    balanced_acc_nn = m.balanced_accuracy_score(y_test_nn, yhat_nn)\n",
    "    balanced_acc_list.append(balanced_acc_nn)\n",
    "    \n",
    "    ## kappa metrics\n",
    "    kappa_acc_nn = m.cohen_kappa_score(y_test_nn, yhat_nn)\n",
    "    kappa_acc_list.append(kappa_acc_nn)\n",
    "    \n",
    "    i += 1"
   ]
  },
  {
   "cell_type": "code",
   "execution_count": 51,
   "id": "a96f32a9",
   "metadata": {
    "ExecuteTime": {
     "end_time": "2022-07-04T14:31:57.679914Z",
     "start_time": "2022-07-04T14:31:57.673313Z"
    },
    "hidden": true
   },
   "outputs": [
    {
     "name": "stdout",
     "output_type": "stream",
     "text": [
      "Avg Balanced Accuracy: 0.09145240775117988 / 0.00024304742342277685\n",
      "Avg Kapaa: 0.002443131827766032 / 0.0017743233095031017\n"
     ]
    }
   ],
   "source": [
    "print(f'Avg Balanced Accuracy: {np.mean(balanced_acc_list)} / {np.std(balanced_acc_list)}')\n",
    "print(f'Avg Kapaa: {np.mean(kappa_acc_list)} / {np.std(kappa_acc_list)}')"
   ]
  },
  {
   "cell_type": "code",
   "execution_count": null,
   "id": "0325033c",
   "metadata": {
    "hidden": true
   },
   "outputs": [],
   "source": []
  },
  {
   "cell_type": "code",
   "execution_count": null,
   "id": "1e6b924b",
   "metadata": {
    "hidden": true
   },
   "outputs": [],
   "source": []
  },
  {
   "cell_type": "code",
   "execution_count": null,
   "id": "bd623578",
   "metadata": {
    "hidden": true
   },
   "outputs": [],
   "source": []
  },
  {
   "cell_type": "code",
   "execution_count": null,
   "id": "3bb9bfa1",
   "metadata": {
    "hidden": true
   },
   "outputs": [],
   "source": []
  },
  {
   "cell_type": "code",
   "execution_count": null,
   "id": "fab43d0b",
   "metadata": {
    "hidden": true
   },
   "outputs": [],
   "source": []
  }
 ],
 "metadata": {
  "kernelspec": {
   "display_name": "Python 3 (ipykernel)",
   "language": "python",
   "name": "python3"
  },
  "language_info": {
   "codemirror_mode": {
    "name": "ipython",
    "version": 3
   },
   "file_extension": ".py",
   "mimetype": "text/x-python",
   "name": "python",
   "nbconvert_exporter": "python",
   "pygments_lexer": "ipython3",
   "version": "3.8.10"
  },
  "nbTranslate": {
   "displayLangs": [
    "*"
   ],
   "hotkey": "alt-t",
   "langInMainMenu": true,
   "sourceLang": "en",
   "targetLang": "fr",
   "useGoogleTranslate": true
  },
  "toc": {
   "base_numbering": "0",
   "nav_menu": {},
   "number_sections": true,
   "sideBar": true,
   "skip_h1_title": false,
   "title_cell": "Table of Contents",
   "title_sidebar": "Contents",
   "toc_cell": false,
   "toc_position": {},
   "toc_section_display": true,
   "toc_window_display": false
  }
 },
 "nbformat": 4,
 "nbformat_minor": 5
}
