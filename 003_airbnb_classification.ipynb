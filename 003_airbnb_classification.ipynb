{
 "cells": [
  {
   "cell_type": "markdown",
   "id": "7145d243",
   "metadata": {},
   "source": [
    "<font color='red'>**Ciclo 3**</font>"
   ]
  },
  {
   "cell_type": "markdown",
   "id": "6ab5b4e5",
   "metadata": {},
   "source": [
    "**ENTENDER O PROBLEMA**\n",
    "\n",
    "- Objetivo do Problema:\n",
    "    - Previsão do primeiro destino que um novo usuario ira escolher.\n",
    "    \n",
    "    - Porque?\n",
    "        - Qual o tipo de modelo de negocio do Airbnb?\n",
    "        \n",
    "            - Marketplace ( Conecta pessoas que oferecem acomodação, com pessoas que estão procurando acomodação )\n",
    "            - Oferta ( pessoas oferecendo acomodação )\n",
    "                - Tamanho do portfólio.\n",
    "                - Diversidade/Densidade de Portifolio.\n",
    "                - Preco Medio\n",
    "                \n",
    "            - Demanda ( pessoas procurando acomodação )\n",
    "                - Numero de usuario\n",
    "                - LTV ( Lifetime Value )\n",
    "                - CAC ( Client Acquisition Cost )\n",
    "                \n",
    "                <font color='red'>**Receita Bruta**</font> =  ( Taxa*NúmeroDeClientes ) - CAC\n",
    "\n",
    "             \n",
    "             \n",
    "- Proposta de Solução\n",
    "    - Modelo de Previsão do primeiro destino de um novo usuario.\n",
    "        - Predicoes e salva em uma tabela do banco de dados.\n",
    "        - API\n",
    "            - Input: Usuario e suas caracteristicas.\n",
    "            - Output: Usuario e suas caracteristicas com a **predicao de destino** \n",
    "            \n",
    "\n",
    "- Total de Ciclos ( CRISPM ):\n",
    "    - 16 ciclos.\n",
    "    "
   ]
  },
  {
   "cell_type": "markdown",
   "id": "acba5fa9",
   "metadata": {},
   "source": [
    "# IMPORTS"
   ]
  },
  {
   "cell_type": "code",
   "execution_count": 26,
   "id": "799f0116",
   "metadata": {
    "ExecuteTime": {
     "end_time": "2022-07-05T12:34:24.267767Z",
     "start_time": "2022-07-05T12:34:24.259384Z"
    }
   },
   "outputs": [],
   "source": [
    "import pandas as pd\n",
    "import numpy as np\n",
    "\n",
    "import matplotlib.pyplot as plt\n",
    "import seaborn as sns\n",
    "\n",
    "from sklearn import model_selection as ms\n",
    "from sklearn import preprocessing as pp\n",
    "from sklearn import metrics as m\n",
    "from keras import models as ml\n",
    "from keras import layers as l\n",
    "from scikitplot import metrics as mt\n",
    "from scipy import stats as ss\n",
    "\n",
    "\n",
    "from IPython.display       import Image\n",
    "from IPython.core.display  import HTML\n",
    "\n",
    "import random\n",
    "\n",
    "import warnings\n",
    "warnings.filterwarnings('ignore')"
   ]
  },
  {
   "cell_type": "markdown",
   "id": "aff5a677",
   "metadata": {
    "heading_collapsed": true
   },
   "source": [
    "## Helper Functions"
   ]
  },
  {
   "cell_type": "code",
   "execution_count": 3,
   "id": "9bcd72c9",
   "metadata": {
    "ExecuteTime": {
     "end_time": "2022-07-05T12:33:11.086338Z",
     "start_time": "2022-07-05T12:33:11.057599Z"
    },
    "hidden": true
   },
   "outputs": [
    {
     "name": "stdout",
     "output_type": "stream",
     "text": [
      "%pylab is deprecated, use %matplotlib inline and import the required libraries.\n",
      "Populating the interactive namespace from numpy and matplotlib\n"
     ]
    },
    {
     "data": {
      "text/html": [
       "<style>.container { width:100% !important; }</style>"
      ],
      "text/plain": [
       "<IPython.core.display.HTML object>"
      ]
     },
     "metadata": {},
     "output_type": "display_data"
    }
   ],
   "source": [
    "def cramer_v( x, y ):\n",
    "    cm = pd.crosstab( x, y ).to_numpy()\n",
    "    n = cm.sum()\n",
    "    r, k = cm.shape\n",
    "    \n",
    "    chi2 = ss.chi2_contingency( cm )[0]\n",
    "    chi2corr = max( 0, chi2 - (k-1)*(r-1)/(n-1) )\n",
    "    \n",
    "    kcorr = k - (k-1)**2/(n-1)\n",
    "    rcorr = r - (r-1)**2/(n-1)\n",
    "    \n",
    "    return np.sqrt( (chi2corr/n) / ( min( kcorr-1, rcorr-1 ) ) )\n",
    "\n",
    "\n",
    "\n",
    "def jupyter_settings():\n",
    "    %matplotlib inline\n",
    "    %pylab inline\n",
    "    \n",
    "    plt.style.use( 'bmh' )\n",
    "    plt.rcParams['figure.figsize'] = [25, 12]\n",
    "    plt.rcParams['font.size'] = 24\n",
    "    \n",
    "    display( HTML( '<style>.container { width:100% !important; }</style>') )\n",
    "    pd.options.display.max_columns = None\n",
    "    pd.options.display.max_rows = None\n",
    "    pd.set_option( 'display.expand_frame_repr', False )\n",
    "    \n",
    "    sns.set()\n",
    "jupyter_settings()"
   ]
  },
  {
   "cell_type": "markdown",
   "id": "a2caf27d",
   "metadata": {
    "heading_collapsed": true
   },
   "source": [
    "## Loading Data"
   ]
  },
  {
   "cell_type": "code",
   "execution_count": 4,
   "id": "c9e00aeb",
   "metadata": {
    "ExecuteTime": {
     "end_time": "2022-07-05T12:33:11.520998Z",
     "start_time": "2022-07-05T12:33:11.088672Z"
    },
    "hidden": true
   },
   "outputs": [
    {
     "data": {
      "text/plain": [
       "(213451, 16)"
      ]
     },
     "execution_count": 4,
     "metadata": {},
     "output_type": "execute_result"
    }
   ],
   "source": [
    "df_raw = pd.read_csv('./data/training_users.csv', low_memory=True)\n",
    "df_raw.shape"
   ]
  },
  {
   "cell_type": "code",
   "execution_count": 5,
   "id": "ab3816b9",
   "metadata": {
    "ExecuteTime": {
     "end_time": "2022-07-05T12:33:18.440627Z",
     "start_time": "2022-07-05T12:33:11.523184Z"
    },
    "hidden": true
   },
   "outputs": [
    {
     "data": {
      "text/plain": [
       "(10567737, 6)"
      ]
     },
     "execution_count": 5,
     "metadata": {},
     "output_type": "execute_result"
    }
   ],
   "source": [
    "df_sessions = pd.read_csv('./data/sessions.csv', low_memory=True)\n",
    "df_sessions.shape\n",
    "\n",
    "#df_sessions[df_sessions['user_id'] == \"00023iyk9l\"][['user_id', 'action']].groupby('user_id').value_counts()"
   ]
  },
  {
   "cell_type": "markdown",
   "id": "7505b0e8",
   "metadata": {},
   "source": [
    "# DATA DESCRIPTION"
   ]
  },
  {
   "cell_type": "code",
   "execution_count": 33,
   "id": "86269058",
   "metadata": {
    "ExecuteTime": {
     "end_time": "2022-07-05T12:36:55.211085Z",
     "start_time": "2022-07-05T12:36:55.198879Z"
    }
   },
   "outputs": [],
   "source": [
    "df1 = df_raw"
   ]
  },
  {
   "cell_type": "markdown",
   "id": "49e05e9e",
   "metadata": {},
   "source": [
    "## Data Dimensions "
   ]
  },
  {
   "cell_type": "code",
   "execution_count": 34,
   "id": "0b960b24",
   "metadata": {
    "ExecuteTime": {
     "end_time": "2022-07-05T12:36:55.626043Z",
     "start_time": "2022-07-05T12:36:55.621259Z"
    }
   },
   "outputs": [
    {
     "name": "stdout",
     "output_type": "stream",
     "text": [
      "number of rows: 213451\n",
      "number of columns: 16\n"
     ]
    }
   ],
   "source": [
    "print(f'number of rows: {df1.shape[0]}')\n",
    "print(f'number of columns: {df1.shape[1]}')"
   ]
  },
  {
   "cell_type": "code",
   "execution_count": 35,
   "id": "e36eb6a8",
   "metadata": {
    "ExecuteTime": {
     "end_time": "2022-07-05T12:36:55.770942Z",
     "start_time": "2022-07-05T12:36:55.766057Z"
    }
   },
   "outputs": [
    {
     "name": "stdout",
     "output_type": "stream",
     "text": [
      "number of rows: 9213930\n",
      "number of columns: 6\n"
     ]
    }
   ],
   "source": [
    "print(f'number of rows: {df_sessions.shape[0]}')\n",
    "print(f'number of columns: {df_sessions.shape[1]}')"
   ]
  },
  {
   "cell_type": "markdown",
   "id": "59071172",
   "metadata": {},
   "source": [
    "## Data Types"
   ]
  },
  {
   "cell_type": "code",
   "execution_count": 36,
   "id": "04d73845",
   "metadata": {
    "ExecuteTime": {
     "end_time": "2022-07-05T12:36:56.116703Z",
     "start_time": "2022-07-05T12:36:56.109028Z"
    }
   },
   "outputs": [
    {
     "data": {
      "text/plain": [
       "id                          object\n",
       "date_account_created        object\n",
       "timestamp_first_active       int64\n",
       "date_first_booking          object\n",
       "gender                      object\n",
       "age                        float64\n",
       "signup_method               object\n",
       "signup_flow                  int64\n",
       "language                    object\n",
       "affiliate_channel           object\n",
       "affiliate_provider          object\n",
       "first_affiliate_tracked     object\n",
       "signup_app                  object\n",
       "first_device_type           object\n",
       "first_browser               object\n",
       "country_destination         object\n",
       "dtype: object"
      ]
     },
     "execution_count": 36,
     "metadata": {},
     "output_type": "execute_result"
    }
   ],
   "source": [
    "df1.dtypes"
   ]
  },
  {
   "cell_type": "code",
   "execution_count": 37,
   "id": "dd259f29",
   "metadata": {
    "ExecuteTime": {
     "end_time": "2022-07-05T12:36:56.308727Z",
     "start_time": "2022-07-05T12:36:56.300918Z"
    }
   },
   "outputs": [
    {
     "data": {
      "text/plain": [
       "user_id           object\n",
       "action            object\n",
       "action_type       object\n",
       "action_detail     object\n",
       "device_type       object\n",
       "secs_elapsed     float64\n",
       "dtype: object"
      ]
     },
     "execution_count": 37,
     "metadata": {},
     "output_type": "execute_result"
    }
   ],
   "source": [
    "df_sessions.dtypes"
   ]
  },
  {
   "cell_type": "markdown",
   "id": "d2952a6d",
   "metadata": {},
   "source": [
    "## NA Check"
   ]
  },
  {
   "cell_type": "code",
   "execution_count": 38,
   "id": "b699c533",
   "metadata": {
    "ExecuteTime": {
     "end_time": "2022-07-05T12:36:57.046465Z",
     "start_time": "2022-07-05T12:36:56.652838Z"
    }
   },
   "outputs": [
    {
     "data": {
      "text/plain": [
       "id                         0.000000\n",
       "date_account_created       0.000000\n",
       "timestamp_first_active     0.000000\n",
       "date_first_booking         0.000000\n",
       "gender                     0.000000\n",
       "age                        0.000000\n",
       "signup_method              0.000000\n",
       "signup_flow                0.000000\n",
       "language                   0.000000\n",
       "affiliate_channel          0.000000\n",
       "affiliate_provider         0.000000\n",
       "first_affiliate_tracked    0.028414\n",
       "signup_app                 0.000000\n",
       "first_device_type          0.000000\n",
       "first_browser              0.000000\n",
       "country_destination        0.000000\n",
       "dtype: float64"
      ]
     },
     "execution_count": 38,
     "metadata": {},
     "output_type": "execute_result"
    }
   ],
   "source": [
    "df1.isna().sum() / len(df1)"
   ]
  },
  {
   "cell_type": "code",
   "execution_count": 39,
   "id": "c67160e1",
   "metadata": {
    "ExecuteTime": {
     "end_time": "2022-07-05T12:37:02.566977Z",
     "start_time": "2022-07-05T12:36:57.048580Z"
    }
   },
   "outputs": [
    {
     "data": {
      "text/plain": [
       "user_id          0.0\n",
       "action           0.0\n",
       "action_type      0.0\n",
       "action_detail    0.0\n",
       "device_type      0.0\n",
       "secs_elapsed     0.0\n",
       "dtype: float64"
      ]
     },
     "execution_count": 39,
     "metadata": {},
     "output_type": "execute_result"
    }
   ],
   "source": [
    "df_sessions.isna().sum() / len(df_sessions)"
   ]
  },
  {
   "cell_type": "code",
   "execution_count": 40,
   "id": "ef7f72d8",
   "metadata": {
    "ExecuteTime": {
     "end_time": "2022-07-05T12:37:06.742418Z",
     "start_time": "2022-07-05T12:37:02.568634Z"
    }
   },
   "outputs": [],
   "source": [
    "# df1 = df1.dropna()\n",
    "# df1.shape\n",
    "\n",
    "# ================ Users ====================\n",
    "\n",
    "# date_first_booking\n",
    "date_first_booking_max = pd.to_datetime(df1['date_first_booking']).max().strftime('%Y-%m-%d')\n",
    "df1['date_first_booking'] = df1['date_first_booking'].fillna(date_first_booking_max)\n",
    "\n",
    "# age\n",
    "avg_age = age = df1['age'].mean().astype(int)\n",
    "df1['age'] = df1['age'].fillna(avg_age)\n",
    "\n",
    "# first_affiliate_tracked\n",
    "df1 = df1[~df1['first_affiliate_tracked'].isna()]\n",
    "\n",
    "# ================ Sessions ====================\n",
    "\n",
    "# user_id - 0.3%\n",
    "df_sessions = df_sessions[~df_sessions['user_id'].isna()]\n",
    "\n",
    "\n",
    "# action - 0.7%\n",
    "df_sessions = df_sessions[~df_sessions['action'].isna()]\n",
    "\n",
    "\n",
    "# action_type - 11%\n",
    "df_sessions = df_sessions[~df_sessions['action_type'].isna()]\n",
    "\n",
    "\n",
    "# action_detail - 11%\n",
    "df_sessions = df_sessions[~df_sessions['action_detail'].isna()]\n",
    "\n",
    "\n",
    "# secs_elapsed - 1.2%\n",
    "df_sessions = df_sessions[~df_sessions['secs_elapsed'].isna()]\n"
   ]
  },
  {
   "cell_type": "markdown",
   "id": "7eb9373e",
   "metadata": {},
   "source": [
    "## Change Data Type"
   ]
  },
  {
   "cell_type": "code",
   "execution_count": 41,
   "id": "6416f871",
   "metadata": {
    "ExecuteTime": {
     "end_time": "2022-07-05T12:37:07.497407Z",
     "start_time": "2022-07-05T12:37:06.745057Z"
    }
   },
   "outputs": [],
   "source": [
    "# date_account_created\n",
    "df1['date_account_created'] = pd.to_datetime(df1['date_account_created'])\n",
    "\n",
    "# timestamp_first_active\n",
    "df1['timestamp_first_active'] = pd.to_datetime(df1['timestamp_first_active'], format='%Y%m%d%H%M%S')\n",
    "\n",
    "# date_first_booking\n",
    "df1['date_first_booking'] = pd.to_datetime(df1['date_first_booking'])\n",
    "\n",
    "# age\n",
    "df1['age'] = df1['age'].astype(int)"
   ]
  },
  {
   "cell_type": "code",
   "execution_count": 42,
   "id": "45dcfcaf",
   "metadata": {
    "ExecuteTime": {
     "end_time": "2022-07-05T12:37:07.505169Z",
     "start_time": "2022-07-05T12:37:07.499276Z"
    }
   },
   "outputs": [
    {
     "data": {
      "text/plain": [
       "id                                 object\n",
       "date_account_created       datetime64[ns]\n",
       "timestamp_first_active     datetime64[ns]\n",
       "date_first_booking         datetime64[ns]\n",
       "gender                             object\n",
       "age                                 int64\n",
       "signup_method                      object\n",
       "signup_flow                         int64\n",
       "language                           object\n",
       "affiliate_channel                  object\n",
       "affiliate_provider                 object\n",
       "first_affiliate_tracked            object\n",
       "signup_app                         object\n",
       "first_device_type                  object\n",
       "first_browser                      object\n",
       "country_destination                object\n",
       "dtype: object"
      ]
     },
     "execution_count": 42,
     "metadata": {},
     "output_type": "execute_result"
    }
   ],
   "source": [
    "df1.dtypes"
   ]
  },
  {
   "cell_type": "markdown",
   "id": "3eb308cd",
   "metadata": {},
   "source": [
    "## Check Balanced Data"
   ]
  },
  {
   "cell_type": "code",
   "execution_count": 43,
   "id": "568551e9",
   "metadata": {
    "ExecuteTime": {
     "end_time": "2022-07-05T12:37:07.525277Z",
     "start_time": "2022-07-05T12:37:07.507040Z"
    }
   },
   "outputs": [
    {
     "data": {
      "text/plain": [
       "NDF      0.579673\n",
       "US       0.294461\n",
       "other    0.048128\n",
       "FR       0.023623\n",
       "IT       0.013458\n",
       "GB       0.011066\n",
       "ES       0.010671\n",
       "CA       0.006707\n",
       "DE       0.005020\n",
       "NL       0.003621\n",
       "AU       0.002541\n",
       "PT       0.001032\n",
       "Name: country_destination, dtype: float64"
      ]
     },
     "execution_count": 43,
     "metadata": {},
     "output_type": "execute_result"
    }
   ],
   "source": [
    "df1['country_destination'].value_counts(normalize=True)"
   ]
  },
  {
   "cell_type": "markdown",
   "id": "7717b0ef",
   "metadata": {},
   "source": [
    "# DATA FILTERING"
   ]
  },
  {
   "cell_type": "code",
   "execution_count": 44,
   "id": "958fd360",
   "metadata": {
    "ExecuteTime": {
     "end_time": "2022-07-05T12:37:07.547582Z",
     "start_time": "2022-07-05T12:37:07.527018Z"
    }
   },
   "outputs": [],
   "source": [
    "df2 = df1.copy()"
   ]
  },
  {
   "cell_type": "markdown",
   "id": "aefad61f",
   "metadata": {
    "heading_collapsed": true
   },
   "source": [
    "## Filtering Rows"
   ]
  },
  {
   "cell_type": "markdown",
   "id": "8daa2145",
   "metadata": {
    "heading_collapsed": true
   },
   "source": [
    "## Columns Selection"
   ]
  },
  {
   "cell_type": "markdown",
   "id": "3d8a65c7",
   "metadata": {},
   "source": [
    "# DATA PREPARATION"
   ]
  },
  {
   "cell_type": "code",
   "execution_count": 45,
   "id": "3e9a3c63",
   "metadata": {
    "ExecuteTime": {
     "end_time": "2022-07-05T12:37:07.563748Z",
     "start_time": "2022-07-05T12:37:07.549382Z"
    }
   },
   "outputs": [],
   "source": [
    "df3 = df2.copy()"
   ]
  },
  {
   "cell_type": "code",
   "execution_count": 46,
   "id": "bc5c4798",
   "metadata": {
    "ExecuteTime": {
     "end_time": "2022-07-05T12:37:07.848233Z",
     "start_time": "2022-07-05T12:37:07.567100Z"
    }
   },
   "outputs": [],
   "source": [
    "# dummy variable\n",
    "df3_dummy = pd.get_dummies(df3.drop(['id', 'country_destination'], axis=1))\n",
    "\n",
    "# join id and country_destination\n",
    "df3 = pd.concat([df3[['id', 'country_destination']], df3_dummy], axis=1)"
   ]
  },
  {
   "cell_type": "markdown",
   "id": "759d4ced",
   "metadata": {},
   "source": [
    "# FEATURE SELECTION"
   ]
  },
  {
   "cell_type": "code",
   "execution_count": 47,
   "id": "69ed1305",
   "metadata": {
    "ExecuteTime": {
     "end_time": "2022-07-05T12:37:07.882612Z",
     "start_time": "2022-07-05T12:37:07.850125Z"
    }
   },
   "outputs": [],
   "source": [
    "cols_drop = ['date_account_created', 'timestamp_first_active'] # origial dates\n",
    "df4 = df3.drop( cols_drop, axis=1)"
   ]
  },
  {
   "cell_type": "code",
   "execution_count": 48,
   "id": "c7a02bee",
   "metadata": {
    "ExecuteTime": {
     "end_time": "2022-07-05T12:37:07.906618Z",
     "start_time": "2022-07-05T12:37:07.884339Z"
    }
   },
   "outputs": [],
   "source": [
    "X = df4.drop('country_destination', axis=1)\n",
    "y = df4['country_destination'].copy()"
   ]
  },
  {
   "cell_type": "code",
   "execution_count": 49,
   "id": "83858fec",
   "metadata": {
    "ExecuteTime": {
     "end_time": "2022-07-05T12:37:08.124796Z",
     "start_time": "2022-07-05T12:37:07.908339Z"
    }
   },
   "outputs": [],
   "source": [
    "# split dataset into training and test\n",
    "X_train, X_test, y_train, y_test = ms.train_test_split(X, y, test_size=0.2, random_state=32)"
   ]
  },
  {
   "cell_type": "markdown",
   "id": "3dd12245",
   "metadata": {},
   "source": [
    "# MACHINE LEARNING MODEL"
   ]
  },
  {
   "cell_type": "code",
   "execution_count": 50,
   "id": "8c66a5b8",
   "metadata": {
    "ExecuteTime": {
     "end_time": "2022-07-05T12:37:08.144839Z",
     "start_time": "2022-07-05T12:37:08.126521Z"
    }
   },
   "outputs": [],
   "source": [
    "x_train = X_train.drop('id', axis=1)\n",
    "x_test = X_test.drop('id', axis=1)"
   ]
  },
  {
   "cell_type": "markdown",
   "id": "3b487802",
   "metadata": {},
   "source": [
    "## Baseline Model"
   ]
  },
  {
   "cell_type": "code",
   "execution_count": 51,
   "id": "2ac7983f",
   "metadata": {
    "ExecuteTime": {
     "end_time": "2022-07-05T12:37:08.185885Z",
     "start_time": "2022-07-05T12:37:08.146672Z"
    }
   },
   "outputs": [
    {
     "data": {
      "text/plain": [
       "41478"
      ]
     },
     "execution_count": 51,
     "metadata": {},
     "output_type": "execute_result"
    }
   ],
   "source": [
    "country_destination_list = df1['country_destination'].drop_duplicates().sort_values().tolist()\n",
    "k_num = y_test.shape[0]\n",
    "country_destination__weights = df1['country_destination'].value_counts(normalize=True).sort_index().to_list()\n",
    "\n",
    "yhat_random = random.choices(population=country_destination_list, \n",
    "                               weights=country_destination__weights,\n",
    "                               k=k_num)\n",
    "len(yhat_random)"
   ]
  },
  {
   "cell_type": "code",
   "execution_count": 52,
   "id": "1fe9d719",
   "metadata": {
    "ExecuteTime": {
     "end_time": "2022-07-05T12:37:10.309549Z",
     "start_time": "2022-07-05T12:37:08.187619Z"
    }
   },
   "outputs": [
    {
     "name": "stdout",
     "output_type": "stream",
     "text": [
      "Accuracy: 0.4228265586576016\n",
      "Balanced Accuracy: 0.08262195114114197\n",
      "Kappa Score: -0.00486834304992767\n",
      "              precision    recall  f1-score   support\n",
      "\n",
      "          AU       0.00      0.00      0.00       111\n",
      "          CA       0.01      0.01      0.01       281\n",
      "          DE       0.00      0.00      0.00       215\n",
      "          ES       0.01      0.01      0.01       428\n",
      "          FR       0.02      0.02      0.02      1021\n",
      "          GB       0.01      0.01      0.01       426\n",
      "          IT       0.02      0.02      0.02       570\n",
      "         NDF       0.58      0.58      0.58     23996\n",
      "          NL       0.00      0.00      0.00       146\n",
      "          PT       0.00      0.00      0.00        48\n",
      "          US       0.29      0.29      0.29     12280\n",
      "       other       0.05      0.05      0.05      1956\n",
      "\n",
      "    accuracy                           0.42     41478\n",
      "   macro avg       0.08      0.08      0.08     41478\n",
      "weighted avg       0.42      0.42      0.42     41478\n",
      "\n"
     ]
    },
    {
     "data": {
      "image/png": "[encoded data removed]",
      "text/plain": [
       "<Figure size 864x864 with 2 Axes>"
      ]
     },
     "metadata": {},
     "output_type": "display_data"
    }
   ],
   "source": [
    "# Accuracy\n",
    "acc_random = m.accuracy_score(y_test, yhat_random)\n",
    "print(f'Accuracy: {acc_random}')\n",
    "\n",
    "# Balanced Accuracy\n",
    "balanced_acc_random = m.balanced_accuracy_score(y_test, yhat_random)\n",
    "print(f'Balanced Accuracy: {balanced_acc_random}')\n",
    "\n",
    "# Kappa Metrics\n",
    "kappa_random = m.cohen_kappa_score(y_test, yhat_random)\n",
    "print(f'Kappa Score: {kappa_random}')\n",
    "\n",
    "# Classification Report \n",
    "print(m.classification_report(y_test, yhat_random))\n",
    "\n",
    "# Confusion Matrix\n",
    "mt.plot_confusion_matrix(y_test, yhat_random, normalize=False, figsize=(12,12));"
   ]
  },
  {
   "cell_type": "markdown",
   "id": "a242d289",
   "metadata": {},
   "source": [
    "## Neural Network - MLP"
   ]
  },
  {
   "cell_type": "code",
   "execution_count": 53,
   "id": "52fb6488",
   "metadata": {
    "ExecuteTime": {
     "end_time": "2022-07-05T12:37:10.354220Z",
     "start_time": "2022-07-05T12:37:10.311288Z"
    }
   },
   "outputs": [],
   "source": [
    "ohe = pp.OneHotEncoder()\n",
    "y_train_nn = ohe.fit_transform(y_train.values.reshape(-1, 1)).toarray()"
   ]
  },
  {
   "cell_type": "code",
   "execution_count": 54,
   "id": "68ce53db",
   "metadata": {
    "ExecuteTime": {
     "end_time": "2022-07-05T12:37:10.360581Z",
     "start_time": "2022-07-05T12:37:10.356098Z"
    }
   },
   "outputs": [
    {
     "data": {
      "text/plain": [
       "(165908, 133)"
      ]
     },
     "execution_count": 54,
     "metadata": {},
     "output_type": "execute_result"
    }
   ],
   "source": [
    "x_train.shape"
   ]
  },
  {
   "cell_type": "code",
   "execution_count": 55,
   "id": "fdb4f241",
   "metadata": {
    "ExecuteTime": {
     "end_time": "2022-07-05T12:38:06.216976Z",
     "start_time": "2022-07-05T12:37:10.362468Z"
    },
    "scrolled": true
   },
   "outputs": [
    {
     "ename": "ValueError",
     "evalue": "Failed to convert a NumPy array to a Tensor (Unsupported object type Timestamp).",
     "output_type": "error",
     "traceback": [
      "\u001b[0;31m---------------------------------------------------------------------------\u001b[0m",
      "\u001b[0;31mValueError\u001b[0m                                Traceback (most recent call last)",
      "Input \u001b[0;32mIn [55]\u001b[0m, in \u001b[0;36m<cell line: 10>\u001b[0;34m()\u001b[0m\n\u001b[1;32m      7\u001b[0m model\u001b[38;5;241m.\u001b[39mcompile(loss\u001b[38;5;241m=\u001b[39m\u001b[38;5;124m'\u001b[39m\u001b[38;5;124mcategorical_crossentropy\u001b[39m\u001b[38;5;124m'\u001b[39m, optimizer\u001b[38;5;241m=\u001b[39m\u001b[38;5;124m'\u001b[39m\u001b[38;5;124madam\u001b[39m\u001b[38;5;124m'\u001b[39m, metrics\u001b[38;5;241m=\u001b[39m[\u001b[38;5;124m'\u001b[39m\u001b[38;5;124maccuracy\u001b[39m\u001b[38;5;124m'\u001b[39m])\n\u001b[1;32m      9\u001b[0m \u001b[38;5;66;03m# train mode\u001b[39;00m\n\u001b[0;32m---> 10\u001b[0m \u001b[43mmodel\u001b[49m\u001b[38;5;241;43m.\u001b[39;49m\u001b[43mfit\u001b[49m\u001b[43m(\u001b[49m\u001b[43mx_train\u001b[49m\u001b[43m,\u001b[49m\u001b[43m \u001b[49m\u001b[43my_train_nn\u001b[49m\u001b[43m,\u001b[49m\u001b[43m \u001b[49m\u001b[43mepochs\u001b[49m\u001b[38;5;241;43m=\u001b[39;49m\u001b[38;5;241;43m100\u001b[39;49m\u001b[43m)\u001b[49m\n",
      "File \u001b[0;32m~/.local/lib/python3.8/site-packages/keras/utils/traceback_utils.py:67\u001b[0m, in \u001b[0;36mfilter_traceback.<locals>.error_handler\u001b[0;34m(*args, **kwargs)\u001b[0m\n\u001b[1;32m     65\u001b[0m \u001b[38;5;28;01mexcept\u001b[39;00m \u001b[38;5;167;01mException\u001b[39;00m \u001b[38;5;28;01mas\u001b[39;00m e:  \u001b[38;5;66;03m# pylint: disable=broad-except\u001b[39;00m\n\u001b[1;32m     66\u001b[0m   filtered_tb \u001b[38;5;241m=\u001b[39m _process_traceback_frames(e\u001b[38;5;241m.\u001b[39m__traceback__)\n\u001b[0;32m---> 67\u001b[0m   \u001b[38;5;28;01mraise\u001b[39;00m e\u001b[38;5;241m.\u001b[39mwith_traceback(filtered_tb) \u001b[38;5;28;01mfrom\u001b[39;00m \u001b[38;5;28mNone\u001b[39m\n\u001b[1;32m     68\u001b[0m \u001b[38;5;28;01mfinally\u001b[39;00m:\n\u001b[1;32m     69\u001b[0m   \u001b[38;5;28;01mdel\u001b[39;00m filtered_tb\n",
      "File \u001b[0;32m~/.local/lib/python3.8/site-packages/tensorflow/python/framework/constant_op.py:102\u001b[0m, in \u001b[0;36mconvert_to_eager_tensor\u001b[0;34m(value, ctx, dtype)\u001b[0m\n\u001b[1;32m    100\u001b[0m     dtype \u001b[38;5;241m=\u001b[39m dtypes\u001b[38;5;241m.\u001b[39mas_dtype(dtype)\u001b[38;5;241m.\u001b[39mas_datatype_enum\n\u001b[1;32m    101\u001b[0m ctx\u001b[38;5;241m.\u001b[39mensure_initialized()\n\u001b[0;32m--> 102\u001b[0m \u001b[38;5;28;01mreturn\u001b[39;00m \u001b[43mops\u001b[49m\u001b[38;5;241;43m.\u001b[39;49m\u001b[43mEagerTensor\u001b[49m\u001b[43m(\u001b[49m\u001b[43mvalue\u001b[49m\u001b[43m,\u001b[49m\u001b[43m \u001b[49m\u001b[43mctx\u001b[49m\u001b[38;5;241;43m.\u001b[39;49m\u001b[43mdevice_name\u001b[49m\u001b[43m,\u001b[49m\u001b[43m \u001b[49m\u001b[43mdtype\u001b[49m\u001b[43m)\u001b[49m\n",
      "\u001b[0;31mValueError\u001b[0m: Failed to convert a NumPy array to a Tensor (Unsupported object type Timestamp)."
     ]
    }
   ],
   "source": [
    "# model definition\n",
    "model = ml.Sequential()\n",
    "model.add(l.Dense(128, input_dim=x_train.shape[1], activation='relu'))\n",
    "model.add(l.Dense(11, activation='softmax'))\n",
    "\n",
    "# model compile\n",
    "model.compile(loss='categorical_crossentropy', optimizer='adam', metrics=['accuracy'])\n",
    "\n",
    "# train mode\n",
    "model.fit(x_train, y_train_nn, epochs=100)"
   ]
  },
  {
   "cell_type": "markdown",
   "id": "bb1f28c0",
   "metadata": {},
   "source": [
    "## NEURAL NETWORK PERFORMANCE"
   ]
  },
  {
   "cell_type": "code",
   "execution_count": 106,
   "id": "d608aba0",
   "metadata": {
    "ExecuteTime": {
     "end_time": "2022-07-05T11:22:14.704054Z",
     "start_time": "2022-07-05T11:21:57.665481Z"
    }
   },
   "outputs": [
    {
     "name": "stdout",
     "output_type": "stream",
     "text": [
      "1297/1297 [==============================] - 2s 1ms/step\n"
     ]
    }
   ],
   "source": [
    "# prediction\n",
    "pred_nn = model.predict(x_test)\n",
    "\n",
    "# invert prediction\n",
    "yhat_nn = ohe.inverse_transform(pred_nn)\n",
    "\n",
    "# prediction prepare\n",
    "y_test_nn = y_test.to_numpy()\n",
    "yhat_nn = yhat_nn.reshape(1, -1)[0]"
   ]
  },
  {
   "cell_type": "code",
   "execution_count": 107,
   "id": "36bd9cdf",
   "metadata": {
    "ExecuteTime": {
     "end_time": "2022-07-05T11:22:14.905264Z",
     "start_time": "2022-07-05T11:22:14.705981Z"
    }
   },
   "outputs": [
    {
     "data": {
      "text/plain": [
       "0.16666666666666666"
      ]
     },
     "execution_count": 107,
     "metadata": {},
     "output_type": "execute_result"
    }
   ],
   "source": [
    "# Balanced Accuracy\n",
    "m.balanced_accuracy_score(y_test_nn, yhat_nn)"
   ]
  },
  {
   "cell_type": "code",
   "execution_count": 108,
   "id": "3a7196df",
   "metadata": {
    "ExecuteTime": {
     "end_time": "2022-07-05T11:22:17.584509Z",
     "start_time": "2022-07-05T11:22:14.908319Z"
    }
   },
   "outputs": [
    {
     "name": "stdout",
     "output_type": "stream",
     "text": [
      "Accuracy: 0.8745841168812383\n",
      "Balanced Accuracy: 0.16666666666666666\n",
      "Kappa Score: 0.7679722856853507\n",
      "              precision    recall  f1-score   support\n",
      "\n",
      "          AU       0.00      0.00      0.00       111\n",
      "          CA       0.00      0.00      0.00       281\n",
      "          DE       0.00      0.00      0.00       215\n",
      "          ES       0.00      0.00      0.00       428\n",
      "          FR       0.00      0.00      0.00      1021\n",
      "          GB       0.00      0.00      0.00       426\n",
      "          IT       0.00      0.00      0.00       570\n",
      "         NDF       1.00      1.00      1.00     23996\n",
      "          NL       0.00      0.00      0.00       146\n",
      "          PT       0.00      0.00      0.00        48\n",
      "          US       0.70      1.00      0.83     12280\n",
      "       other       0.00      0.00      0.00      1956\n",
      "\n",
      "    accuracy                           0.87     41478\n",
      "   macro avg       0.14      0.17      0.15     41478\n",
      "weighted avg       0.79      0.87      0.82     41478\n",
      "\n"
     ]
    },
    {
     "data": {
      "image/png": "[encoded data removed]",
      "text/plain": [
       "<Figure size 864x864 with 2 Axes>"
      ]
     },
     "metadata": {},
     "output_type": "display_data"
    }
   ],
   "source": [
    "# Accuracy\n",
    "acc_nn = m.accuracy_score(y_test_nn, yhat_nn)\n",
    "print(f'Accuracy: {acc_nn}')\n",
    "\n",
    "# Balanced Accuracy\n",
    "balanced_acc_nn = m.balanced_accuracy_score(y_test_nn, yhat_nn)\n",
    "print(f'Balanced Accuracy: {balanced_acc_nn}')\n",
    "\n",
    "# Kappa Metrics\n",
    "kappa_nn = m.cohen_kappa_score(y_test_nn, yhat_nn)\n",
    "print(f'Kappa Score: {kappa_nn}')\n",
    "\n",
    "# Classification Report \n",
    "print(m.classification_report(y_test_nn, yhat_nn))\n",
    "\n",
    "# Confusion Matrix\n",
    "mt.plot_confusion_matrix(y_test_nn, yhat_nn, normalize=False, figsize=(12,12));"
   ]
  },
  {
   "cell_type": "markdown",
   "id": "0181a855",
   "metadata": {
    "heading_collapsed": true
   },
   "source": [
    "### NEURAL NETWORK PERFORMANCE - Cross-Validation"
   ]
  },
  {
   "cell_type": "code",
   "execution_count": 50,
   "id": "ae26238a",
   "metadata": {
    "ExecuteTime": {
     "end_time": "2022-07-04T14:31:57.668488Z",
     "start_time": "2022-07-04T14:12:32.378433Z"
    },
    "hidden": true
   },
   "outputs": [
    {
     "name": "stdout",
     "output_type": "stream",
     "text": [
      "Folder Number: 1 / 5\n",
      "341/341 [==============================] - 0s 1ms/step\n",
      "Folder Number: 2 / 5\n",
      "341/341 [==============================] - 0s 1ms/step\n",
      "Folder Number: 3 / 5\n",
      "341/341 [==============================] - 0s 1ms/step\n",
      "Folder Number: 4 / 5\n",
      "341/341 [==============================] - 0s 1ms/step\n",
      "Folder Number: 5 / 5\n",
      "341/341 [==============================] - 0s 1ms/step\n"
     ]
    }
   ],
   "source": [
    "# generate k-fold\n",
    "num_folds = 5\n",
    "kfold = ms.StratifiedKFold(n_splits=num_folds, shuffle=True, random_state=32)\n",
    "\n",
    "# create list\n",
    "\n",
    "balanced_acc_list = []\n",
    "kappa_acc_list = []\n",
    "\n",
    "i = 1\n",
    "for train_ix, val_ix in kfold.split(x_train, y_train):\n",
    "    \n",
    "    print(f'Folder Number: {i} / {num_folds}')\n",
    "    \n",
    "    # get fold\n",
    "    x_train_fold = x_train.iloc[train_ix]\n",
    "    y_train_fold = y_train.iloc[train_ix]\n",
    "    \n",
    "    x_val_fold = x_train.iloc[val_ix]\n",
    "    y_val_fold = y_train.iloc[val_ix]\n",
    "    \n",
    "\n",
    "    # target - hot-enconding\n",
    "    ohe = pp.OneHotEncoder()\n",
    "    y_train_fold_nn = ohe.fit_transform(y_train_fold.values.reshape(-1, 1)).toarray()\n",
    "    \n",
    "    # model definition\n",
    "    model = ml.Sequential()\n",
    "    model.add(l.Dense(256, input_dim=x_train.shape[1], activation='relu'))\n",
    "    model.add(l.Dense(11, activation='softmax'))\n",
    "\n",
    "    # compile model\n",
    "    model.compile(loss='categorical_crossentropy', optimizer='adam', metrics=['accuracy'])\n",
    "\n",
    "    # training model\n",
    "    model.fit(x_train_fold, y_train_fold_nn, epochs=100, batch_size=32, verbose=0)\n",
    "\n",
    "    # prediction\n",
    "    pred_nn = model.predict(x_val_fold) #dados encoding\n",
    "    yhat_nn = ohe.inverse_transform(pred_nn) # dados original\n",
    "    \n",
    "    # prepare data\n",
    "    y_test_nn = y_val_fold.to_numpy()\n",
    "    yhat_nn = yhat_nn.reshape(1, -1)[0]\n",
    "    \n",
    "    # metrics\n",
    "    \n",
    "    ## balanced accuracy\n",
    "    balanced_acc_nn = m.balanced_accuracy_score(y_test_nn, yhat_nn)\n",
    "    balanced_acc_list.append(balanced_acc_nn)\n",
    "    \n",
    "    ## kappa metrics\n",
    "    kappa_acc_nn = m.cohen_kappa_score(y_test_nn, yhat_nn)\n",
    "    kappa_acc_list.append(kappa_acc_nn)\n",
    "    \n",
    "    i += 1"
   ]
  },
  {
   "cell_type": "code",
   "execution_count": 51,
   "id": "a96f32a9",
   "metadata": {
    "ExecuteTime": {
     "end_time": "2022-07-04T14:31:57.679914Z",
     "start_time": "2022-07-04T14:31:57.673313Z"
    },
    "hidden": true
   },
   "outputs": [
    {
     "name": "stdout",
     "output_type": "stream",
     "text": [
      "Avg Balanced Accuracy: 0.09145240775117988 / 0.00024304742342277685\n",
      "Avg Kapaa: 0.002443131827766032 / 0.0017743233095031017\n"
     ]
    }
   ],
   "source": [
    "print(f'Avg Balanced Accuracy: {np.mean(balanced_acc_list)} / {np.std(balanced_acc_list)}')\n",
    "print(f'Avg Kapaa: {np.mean(kappa_acc_list)} / {np.std(kappa_acc_list)}')"
   ]
  },
  {
   "cell_type": "code",
   "execution_count": null,
   "id": "0325033c",
   "metadata": {
    "hidden": true
   },
   "outputs": [],
   "source": []
  },
  {
   "cell_type": "code",
   "execution_count": null,
   "id": "1e6b924b",
   "metadata": {
    "hidden": true
   },
   "outputs": [],
   "source": []
  },
  {
   "cell_type": "code",
   "execution_count": null,
   "id": "bd623578",
   "metadata": {
    "hidden": true
   },
   "outputs": [],
   "source": []
  },
  {
   "cell_type": "code",
   "execution_count": null,
   "id": "3bb9bfa1",
   "metadata": {
    "hidden": true
   },
   "outputs": [],
   "source": []
  },
  {
   "cell_type": "code",
   "execution_count": null,
   "id": "fab43d0b",
   "metadata": {
    "hidden": true
   },
   "outputs": [],
   "source": []
  }
 ],
 "metadata": {
  "kernelspec": {
   "display_name": "Python 3 (ipykernel)",
   "language": "python",
   "name": "python3"
  },
  "language_info": {
   "codemirror_mode": {
    "name": "ipython",
    "version": 3
   },
   "file_extension": ".py",
   "mimetype": "text/x-python",
   "name": "python",
   "nbconvert_exporter": "python",
   "pygments_lexer": "ipython3",
   "version": "3.8.10"
  },
  "nbTranslate": {
   "displayLangs": [
    "*"
   ],
   "hotkey": "alt-t",
   "langInMainMenu": true,
   "sourceLang": "en",
   "targetLang": "fr",
   "useGoogleTranslate": true
  },
  "toc": {
   "base_numbering": "0",
   "nav_menu": {},
   "number_sections": true,
   "sideBar": true,
   "skip_h1_title": false,
   "title_cell": "Table of Contents",
   "title_sidebar": "Contents",
   "toc_cell": false,
   "toc_position": {},
   "toc_section_display": true,
   "toc_window_display": false
  }
 },
 "nbformat": 4,
 "nbformat_minor": 5
}
