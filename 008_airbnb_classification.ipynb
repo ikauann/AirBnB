{
 "cells": [
  {
   "cell_type": "markdown",
   "id": "7145d243",
   "metadata": {},
   "source": [
    "<font color='red'>**Ciclo 7**</font>"
   ]
  },
  {
   "cell_type": "markdown",
   "id": "6ab5b4e5",
   "metadata": {},
   "source": [
    "**ENTENDER O PROBLEMA**\n",
    "\n",
    "- Objetivo do Problema:\n",
    "    - Previsão do primeiro destino que um novo usuario ira escolher.\n",
    "    \n",
    "    - Porque?\n",
    "        - Qual o tipo de modelo de negocio do Airbnb?\n",
    "        \n",
    "            - Marketplace ( Conecta pessoas que oferecem acomodação, com pessoas que estão procurando acomodação )\n",
    "            - Oferta ( pessoas oferecendo acomodação )\n",
    "                - Tamanho do portfólio.\n",
    "                - Diversidade/Densidade de Portifolio.\n",
    "                - Preco Medio\n",
    "                \n",
    "            - Demanda ( pessoas procurando acomodação )\n",
    "                - Numero de usuario\n",
    "                - LTV ( Lifetime Value )\n",
    "                - CAC ( Client Acquisition Cost )\n",
    "                \n",
    "                <font color='red'>**Receita Bruta**</font> =  ( Taxa*NúmeroDeClientes ) - CAC\n",
    "\n",
    "             \n",
    "             \n",
    "- Proposta de Solução\n",
    "    - Modelo de Previsão do primeiro destino de um novo usuario.\n",
    "        - Predicoes e salva em uma tabela do banco de dados.\n",
    "        - API\n",
    "            - Input: Usuario e suas caracteristicas.\n",
    "            - Output: Usuario e suas caracteristicas com a **predicao de destino** \n",
    "            \n",
    "\n",
    "- Total de Ciclos ( CRISPM ):\n",
    "    - 16 ciclos.\n",
    "    "
   ]
  },
  {
   "cell_type": "markdown",
   "id": "acba5fa9",
   "metadata": {
    "heading_collapsed": true
   },
   "source": [
    "# IMPORTS"
   ]
  },
  {
   "cell_type": "code",
   "execution_count": 204,
   "id": "799f0116",
   "metadata": {
    "ExecuteTime": {
     "end_time": "2022-07-08T12:45:42.882841Z",
     "start_time": "2022-07-08T12:45:42.870735Z"
    },
    "hidden": true
   },
   "outputs": [],
   "source": [
    "import pandas as pd\n",
    "import numpy  as np\n",
    "\n",
    "import matplotlib.pyplot as plt\n",
    "import seaborn           as sns\n",
    "\n",
    "from sklearn    import model_selection as ms\n",
    "from sklearn    import preprocessing   as pp\n",
    "from sklearn    import metrics         as m\n",
    "from keras      import models          as ml\n",
    "from keras      import layers          as l\n",
    "from scikitplot import metrics         as mt\n",
    "from scipy      import stats           as ss\n",
    "\n",
    "from imblearn   import under_sampling  as us\n",
    "from imblearn   import over_sampling   as oversamp\n",
    "from imblearn   import combine         as c\n",
    "\n",
    "from category_encoders import TargetEncoder\n",
    "\n",
    "from pandas_profiling import ProfileReport\n",
    "\n",
    "from IPython.display       import Image\n",
    "from IPython.core.display  import HTML\n",
    "\n",
    "#import random\n",
    "from random import choices\n",
    "\n",
    "import warnings\n",
    "warnings.filterwarnings('ignore')"
   ]
  },
  {
   "cell_type": "markdown",
   "id": "aff5a677",
   "metadata": {
    "heading_collapsed": true,
    "hidden": true
   },
   "source": [
    "## Helper Functions"
   ]
  },
  {
   "cell_type": "code",
   "execution_count": 117,
   "id": "9bcd72c9",
   "metadata": {
    "ExecuteTime": {
     "end_time": "2022-07-08T11:00:50.516342Z",
     "start_time": "2022-07-08T11:00:50.477325Z"
    },
    "hidden": true
   },
   "outputs": [
    {
     "name": "stdout",
     "output_type": "stream",
     "text": [
      "%pylab is deprecated, use %matplotlib inline and import the required libraries.\n",
      "Populating the interactive namespace from numpy and matplotlib\n"
     ]
    },
    {
     "data": {
      "text/html": [
       "<style>.container { width:100% !important; }</style>"
      ],
      "text/plain": [
       "<IPython.core.display.HTML object>"
      ]
     },
     "metadata": {},
     "output_type": "display_data"
    }
   ],
   "source": [
    "def cramer_v( x, y ):\n",
    "    cm = pd.crosstab( x, y ).to_numpy()\n",
    "    n = cm.sum()\n",
    "    r, k = cm.shape\n",
    "    \n",
    "    chi2 = ss.chi2_contingency( cm )[0]\n",
    "    chi2corr = max( 0, chi2 - (k-1)*(r-1)/(n-1) )\n",
    "    \n",
    "    kcorr = k - (k-1)**2/(n-1)\n",
    "    rcorr = r - (r-1)**2/(n-1)\n",
    "    \n",
    "    return np.sqrt( (chi2corr/n) / ( min( kcorr-1, rcorr-1 ) ) )\n",
    "\n",
    "\n",
    "\n",
    "def jupyter_settings():\n",
    "    %matplotlib inline\n",
    "    %pylab inline\n",
    "    \n",
    "    plt.style.use( 'bmh' )\n",
    "    plt.rcParams['figure.figsize'] = [25, 12]\n",
    "    plt.rcParams['font.size'] = 24\n",
    "    \n",
    "    display( HTML( '<style>.container { width:100% !important; }</style>') )\n",
    "    pd.options.display.max_columns = None\n",
    "    pd.options.display.max_rows = None\n",
    "    pd.set_option( 'display.expand_frame_repr', False )\n",
    "    \n",
    "    sns.set()\n",
    "jupyter_settings()"
   ]
  },
  {
   "cell_type": "markdown",
   "id": "a2caf27d",
   "metadata": {
    "heading_collapsed": true,
    "hidden": true
   },
   "source": [
    "## Loading Data"
   ]
  },
  {
   "cell_type": "code",
   "execution_count": 118,
   "id": "c9e00aeb",
   "metadata": {
    "ExecuteTime": {
     "end_time": "2022-07-08T11:00:51.278904Z",
     "start_time": "2022-07-08T11:00:50.840709Z"
    },
    "hidden": true
   },
   "outputs": [
    {
     "data": {
      "text/plain": [
       "(213451, 16)"
      ]
     },
     "execution_count": 118,
     "metadata": {},
     "output_type": "execute_result"
    }
   ],
   "source": [
    "df_raw = pd.read_csv('./data/training_users.csv', low_memory=True)\n",
    "df_raw.shape"
   ]
  },
  {
   "cell_type": "code",
   "execution_count": 119,
   "id": "ab3816b9",
   "metadata": {
    "ExecuteTime": {
     "end_time": "2022-07-08T11:00:57.879300Z",
     "start_time": "2022-07-08T11:00:51.281726Z"
    },
    "hidden": true
   },
   "outputs": [
    {
     "data": {
      "text/plain": [
       "(10567737, 6)"
      ]
     },
     "execution_count": 119,
     "metadata": {},
     "output_type": "execute_result"
    }
   ],
   "source": [
    "df_sessions = pd.read_csv('./data/sessions.csv', low_memory=True)\n",
    "df_sessions.shape\n",
    "\n",
    "#df_sessions[df_sessions['user_id'] == \"00023iyk9l\"][['user_id', 'action']].groupby('user_id').value_counts()"
   ]
  },
  {
   "cell_type": "markdown",
   "id": "7505b0e8",
   "metadata": {
    "heading_collapsed": true
   },
   "source": [
    "# DATA DESCRIPTION"
   ]
  },
  {
   "cell_type": "code",
   "execution_count": 120,
   "id": "86269058",
   "metadata": {
    "ExecuteTime": {
     "end_time": "2022-07-08T11:00:57.886075Z",
     "start_time": "2022-07-08T11:00:57.881242Z"
    },
    "hidden": true
   },
   "outputs": [
    {
     "data": {
      "text/plain": [
       "(213451, 16)"
      ]
     },
     "execution_count": 120,
     "metadata": {},
     "output_type": "execute_result"
    }
   ],
   "source": [
    "df1 = df_raw\n",
    "df1.shape"
   ]
  },
  {
   "cell_type": "markdown",
   "id": "49e05e9e",
   "metadata": {
    "heading_collapsed": true,
    "hidden": true
   },
   "source": [
    "## Data Dimensions "
   ]
  },
  {
   "cell_type": "code",
   "execution_count": 121,
   "id": "0b960b24",
   "metadata": {
    "ExecuteTime": {
     "end_time": "2022-07-08T11:00:57.893571Z",
     "start_time": "2022-07-08T11:00:57.888694Z"
    },
    "hidden": true
   },
   "outputs": [
    {
     "name": "stdout",
     "output_type": "stream",
     "text": [
      "number of rows: 213451\n",
      "number of columns: 16\n"
     ]
    }
   ],
   "source": [
    "print(f'number of rows: {df1.shape[0]}')\n",
    "print(f'number of columns: {df1.shape[1]}')"
   ]
  },
  {
   "cell_type": "code",
   "execution_count": 122,
   "id": "e36eb6a8",
   "metadata": {
    "ExecuteTime": {
     "end_time": "2022-07-08T11:00:57.900227Z",
     "start_time": "2022-07-08T11:00:57.896285Z"
    },
    "hidden": true
   },
   "outputs": [
    {
     "name": "stdout",
     "output_type": "stream",
     "text": [
      "number of rows: 10567737\n",
      "number of columns: 6\n"
     ]
    }
   ],
   "source": [
    "print(f'number of rows: {df_sessions.shape[0]}')\n",
    "print(f'number of columns: {df_sessions.shape[1]}')"
   ]
  },
  {
   "cell_type": "markdown",
   "id": "59071172",
   "metadata": {
    "heading_collapsed": true,
    "hidden": true
   },
   "source": [
    "## Data Types"
   ]
  },
  {
   "cell_type": "code",
   "execution_count": 123,
   "id": "04d73845",
   "metadata": {
    "ExecuteTime": {
     "end_time": "2022-07-08T11:00:57.907582Z",
     "start_time": "2022-07-08T11:00:57.902226Z"
    },
    "hidden": true
   },
   "outputs": [
    {
     "data": {
      "text/plain": [
       "id                          object\n",
       "date_account_created        object\n",
       "timestamp_first_active       int64\n",
       "date_first_booking          object\n",
       "gender                      object\n",
       "age                        float64\n",
       "signup_method               object\n",
       "signup_flow                  int64\n",
       "language                    object\n",
       "affiliate_channel           object\n",
       "affiliate_provider          object\n",
       "first_affiliate_tracked     object\n",
       "signup_app                  object\n",
       "first_device_type           object\n",
       "first_browser               object\n",
       "country_destination         object\n",
       "dtype: object"
      ]
     },
     "execution_count": 123,
     "metadata": {},
     "output_type": "execute_result"
    }
   ],
   "source": [
    "df1.dtypes"
   ]
  },
  {
   "cell_type": "code",
   "execution_count": 124,
   "id": "dd259f29",
   "metadata": {
    "ExecuteTime": {
     "end_time": "2022-07-08T11:00:57.914181Z",
     "start_time": "2022-07-08T11:00:57.909266Z"
    },
    "hidden": true
   },
   "outputs": [
    {
     "data": {
      "text/plain": [
       "user_id           object\n",
       "action            object\n",
       "action_type       object\n",
       "action_detail     object\n",
       "device_type       object\n",
       "secs_elapsed     float64\n",
       "dtype: object"
      ]
     },
     "execution_count": 124,
     "metadata": {},
     "output_type": "execute_result"
    }
   ],
   "source": [
    "df_sessions.dtypes"
   ]
  },
  {
   "cell_type": "markdown",
   "id": "d2952a6d",
   "metadata": {
    "heading_collapsed": true,
    "hidden": true
   },
   "source": [
    "## NA Check"
   ]
  },
  {
   "cell_type": "code",
   "execution_count": 125,
   "id": "b699c533",
   "metadata": {
    "ExecuteTime": {
     "end_time": "2022-07-08T11:00:58.285886Z",
     "start_time": "2022-07-08T11:00:57.916052Z"
    },
    "hidden": true
   },
   "outputs": [
    {
     "data": {
      "text/plain": [
       "id                         0.000000\n",
       "date_account_created       0.000000\n",
       "timestamp_first_active     0.000000\n",
       "date_first_booking         0.583473\n",
       "gender                     0.000000\n",
       "age                        0.412226\n",
       "signup_method              0.000000\n",
       "signup_flow                0.000000\n",
       "language                   0.000000\n",
       "affiliate_channel          0.000000\n",
       "affiliate_provider         0.000000\n",
       "first_affiliate_tracked    0.028414\n",
       "signup_app                 0.000000\n",
       "first_device_type          0.000000\n",
       "first_browser              0.000000\n",
       "country_destination        0.000000\n",
       "dtype: float64"
      ]
     },
     "execution_count": 125,
     "metadata": {},
     "output_type": "execute_result"
    }
   ],
   "source": [
    "df1.isna().sum() / len(df1)"
   ]
  },
  {
   "cell_type": "code",
   "execution_count": 126,
   "id": "c67160e1",
   "metadata": {
    "ExecuteTime": {
     "end_time": "2022-07-08T11:01:04.036981Z",
     "start_time": "2022-07-08T11:00:58.287691Z"
    },
    "hidden": true
   },
   "outputs": [
    {
     "data": {
      "text/plain": [
       "user_id          0.003264\n",
       "action           0.007535\n",
       "action_type      0.106570\n",
       "action_detail    0.106570\n",
       "device_type      0.000000\n",
       "secs_elapsed     0.012872\n",
       "dtype: float64"
      ]
     },
     "execution_count": 126,
     "metadata": {},
     "output_type": "execute_result"
    }
   ],
   "source": [
    "df_sessions.isna().sum() / len(df_sessions)"
   ]
  },
  {
   "cell_type": "code",
   "execution_count": 127,
   "id": "ef7f72d8",
   "metadata": {
    "ExecuteTime": {
     "end_time": "2022-07-08T11:01:08.408411Z",
     "start_time": "2022-07-08T11:01:04.038778Z"
    },
    "hidden": true
   },
   "outputs": [],
   "source": [
    "# ================ Users ====================\n",
    "\n",
    "# date_first_booking\n",
    "date_first_booking_max = pd.to_datetime(df1['date_first_booking']).max().strftime('%Y-%m-%d')\n",
    "df1['date_first_booking'] = df1['date_first_booking'].fillna(date_first_booking_max)\n",
    "\n",
    "# age\n",
    "df1 = df1[(df1['age'] > 15) & (df1['age'] < 120)]\n",
    "avg_age = age = df1['age'].mean().astype(int)\n",
    "df1['age'] = df1['age'].fillna(avg_age)\n",
    "\n",
    "# first_affiliate_tracked\n",
    "df1 = df1[~df1['first_affiliate_tracked'].isna()]\n",
    "\n",
    "# ================ Sessions ====================\n",
    "\n",
    "# user_id - 0.3%\n",
    "df_sessions = df_sessions[~df_sessions['user_id'].isna()]\n",
    "\n",
    "\n",
    "# action - 0.7%\n",
    "df_sessions = df_sessions[~df_sessions['action'].isna()]\n",
    "\n",
    "\n",
    "# action_type - 11%\n",
    "df_sessions = df_sessions[~df_sessions['action_type'].isna()]\n",
    "\n",
    "\n",
    "# action_detail - 11%\n",
    "df_sessions = df_sessions[~df_sessions['action_detail'].isna()]\n",
    "\n",
    "\n",
    "# secs_elapsed - 1.2%\n",
    "df_sessions = df_sessions[~df_sessions['secs_elapsed'].isna()]\n"
   ]
  },
  {
   "cell_type": "markdown",
   "id": "7eb9373e",
   "metadata": {
    "heading_collapsed": true,
    "hidden": true
   },
   "source": [
    "## Change Data Type"
   ]
  },
  {
   "cell_type": "code",
   "execution_count": 128,
   "id": "6416f871",
   "metadata": {
    "ExecuteTime": {
     "end_time": "2022-07-08T11:01:08.832320Z",
     "start_time": "2022-07-08T11:01:08.416128Z"
    },
    "hidden": true
   },
   "outputs": [],
   "source": [
    "# date_account_created\n",
    "df1['date_account_created'] = pd.to_datetime(df1['date_account_created'])\n",
    "\n",
    "# timestamp_first_active\n",
    "df1['timestamp_first_active'] = pd.to_datetime(df1['timestamp_first_active'], format='%Y%m%d%H%M%S')\n",
    "\n",
    "# date_first_booking\n",
    "df1['date_first_booking'] = pd.to_datetime(df1['date_first_booking'])\n",
    "\n",
    "# age\n",
    "df1['age'] = df1['age'].astype(int)"
   ]
  },
  {
   "cell_type": "code",
   "execution_count": 129,
   "id": "45dcfcaf",
   "metadata": {
    "ExecuteTime": {
     "end_time": "2022-07-08T11:01:08.839246Z",
     "start_time": "2022-07-08T11:01:08.834141Z"
    },
    "hidden": true
   },
   "outputs": [
    {
     "data": {
      "text/plain": [
       "id                                 object\n",
       "date_account_created       datetime64[ns]\n",
       "timestamp_first_active     datetime64[ns]\n",
       "date_first_booking         datetime64[ns]\n",
       "gender                             object\n",
       "age                                 int64\n",
       "signup_method                      object\n",
       "signup_flow                         int64\n",
       "language                           object\n",
       "affiliate_channel                  object\n",
       "affiliate_provider                 object\n",
       "first_affiliate_tracked            object\n",
       "signup_app                         object\n",
       "first_device_type                  object\n",
       "first_browser                      object\n",
       "country_destination                object\n",
       "dtype: object"
      ]
     },
     "execution_count": 129,
     "metadata": {},
     "output_type": "execute_result"
    }
   ],
   "source": [
    "df1.dtypes"
   ]
  },
  {
   "cell_type": "markdown",
   "id": "3eb308cd",
   "metadata": {
    "heading_collapsed": true,
    "hidden": true
   },
   "source": [
    "## Check Balanced Data"
   ]
  },
  {
   "cell_type": "code",
   "execution_count": 130,
   "id": "568551e9",
   "metadata": {
    "ExecuteTime": {
     "end_time": "2022-07-08T11:01:08.854766Z",
     "start_time": "2022-07-08T11:01:08.841310Z"
    },
    "hidden": true
   },
   "outputs": [
    {
     "data": {
      "text/plain": [
       "NDF      0.447275\n",
       "US       0.391867\n",
       "other    0.061246\n",
       "FR       0.029918\n",
       "IT       0.016423\n",
       "GB       0.014335\n",
       "ES       0.013740\n",
       "CA       0.008676\n",
       "DE       0.006858\n",
       "NL       0.004852\n",
       "AU       0.003531\n",
       "PT       0.001280\n",
       "Name: country_destination, dtype: float64"
      ]
     },
     "execution_count": 130,
     "metadata": {},
     "output_type": "execute_result"
    }
   ],
   "source": [
    "df1['country_destination'].value_counts(normalize=True)"
   ]
  },
  {
   "cell_type": "markdown",
   "id": "8df5506e",
   "metadata": {
    "heading_collapsed": true,
    "hidden": true
   },
   "source": [
    "## Descriptive Analysis"
   ]
  },
  {
   "cell_type": "markdown",
   "id": "096ff6bb",
   "metadata": {
    "heading_collapsed": true,
    "hidden": true
   },
   "source": [
    "## General"
   ]
  },
  {
   "cell_type": "code",
   "execution_count": 131,
   "id": "93449caf",
   "metadata": {
    "ExecuteTime": {
     "end_time": "2022-07-08T11:01:08.957855Z",
     "start_time": "2022-07-08T11:01:08.856969Z"
    },
    "hidden": true
   },
   "outputs": [],
   "source": [
    "# users\n",
    "num_attrs = df1.select_dtypes(include=['int64', 'float64'])\n",
    "cat_attrs = df1.select_dtypes(exclude=['int64', 'float64', 'datetime64[ns]'])\n",
    "time_attrs = df1.select_dtypes(include=['datetime64[ns]'])\n",
    "\n",
    "# sessions\n",
    "num_attrs_sessions = df_sessions.select_dtypes(include=['int64', 'float64'])\n",
    "cat_attrs_sessions = df_sessions.select_dtypes(exclude=['int64', 'float64', 'datetime64[ns]'])\n",
    "time_attrs_sessions = df_sessions.select_dtypes(include=['datetime64[ns]'])"
   ]
  },
  {
   "cell_type": "markdown",
   "id": "7488ff19",
   "metadata": {
    "heading_collapsed": true,
    "hidden": true
   },
   "source": [
    "### Numerical - Users"
   ]
  },
  {
   "cell_type": "code",
   "execution_count": 132,
   "id": "6f13fe76",
   "metadata": {
    "ExecuteTime": {
     "end_time": "2022-07-08T11:01:09.044083Z",
     "start_time": "2022-07-08T11:01:08.960768Z"
    },
    "hidden": true
   },
   "outputs": [
    {
     "data": {
      "text/html": [
       "<div>\n",
       "<style scoped>\n",
       "    .dataframe tbody tr th:only-of-type {\n",
       "        vertical-align: middle;\n",
       "    }\n",
       "\n",
       "    .dataframe tbody tr th {\n",
       "        vertical-align: top;\n",
       "    }\n",
       "\n",
       "    .dataframe thead th {\n",
       "        text-align: right;\n",
       "    }\n",
       "</style>\n",
       "<table border=\"1\" class=\"dataframe\">\n",
       "  <thead>\n",
       "    <tr style=\"text-align: right;\">\n",
       "      <th></th>\n",
       "      <th>attributes</th>\n",
       "      <th>min</th>\n",
       "      <th>max</th>\n",
       "      <th>range</th>\n",
       "      <th>mean</th>\n",
       "      <th>median</th>\n",
       "      <th>std</th>\n",
       "      <th>skew</th>\n",
       "      <th>kurtosis</th>\n",
       "    </tr>\n",
       "  </thead>\n",
       "  <tbody>\n",
       "    <tr>\n",
       "      <th>0</th>\n",
       "      <td>age</td>\n",
       "      <td>16.0</td>\n",
       "      <td>115.0</td>\n",
       "      <td>99.0</td>\n",
       "      <td>37.405591</td>\n",
       "      <td>34.0</td>\n",
       "      <td>13.939844</td>\n",
       "      <td>2.089718</td>\n",
       "      <td>6.516468</td>\n",
       "    </tr>\n",
       "    <tr>\n",
       "      <th>1</th>\n",
       "      <td>signup_flow</td>\n",
       "      <td>0.0</td>\n",
       "      <td>25.0</td>\n",
       "      <td>25.0</td>\n",
       "      <td>2.519513</td>\n",
       "      <td>0.0</td>\n",
       "      <td>6.604696</td>\n",
       "      <td>2.705871</td>\n",
       "      <td>5.928298</td>\n",
       "    </tr>\n",
       "  </tbody>\n",
       "</table>\n",
       "</div>"
      ],
      "text/plain": [
       "    attributes   min    max  range       mean  median        std      skew  kurtosis\n",
       "0          age  16.0  115.0   99.0  37.405591    34.0  13.939844  2.089718  6.516468\n",
       "1  signup_flow   0.0   25.0   25.0   2.519513     0.0   6.604696  2.705871  5.928298"
      ]
     },
     "execution_count": 132,
     "metadata": {},
     "output_type": "execute_result"
    }
   ],
   "source": [
    "# central tendency - mean, median\n",
    "ct1 = pd.DataFrame(num_attrs.apply(np.mean)).T\n",
    "ct2 = pd.DataFrame(num_attrs.apply(np.median)).T\n",
    "\n",
    "# dispersions - std, min, max, range, skew, kurtosis\n",
    "d1 = pd.DataFrame(num_attrs.apply(np.std)).T\n",
    "d2 = pd.DataFrame(num_attrs.apply(min)).T\n",
    "d3 = pd.DataFrame(num_attrs.apply(max)).T\n",
    "d4 = pd.DataFrame(num_attrs.apply(lambda x: x.max() - x.min())).T\n",
    "d5 = pd.DataFrame(num_attrs.apply(lambda x: x.skew())).T\n",
    "d6 = pd.DataFrame(num_attrs.apply(lambda x: x.kurtosis())).T\n",
    "\n",
    "# concat\n",
    "ct = pd.concat( [d2, d3, d4, ct1, ct2, d1, d5, d6] ).T.reset_index()\n",
    "ct.columns = ['attributes', 'min', 'max', 'range', 'mean', 'median', 'std', 'skew', 'kurtosis']\n",
    "ct"
   ]
  },
  {
   "cell_type": "markdown",
   "id": "0122b2ff",
   "metadata": {
    "heading_collapsed": true,
    "hidden": true
   },
   "source": [
    "### Numerical - Sessions"
   ]
  },
  {
   "cell_type": "code",
   "execution_count": 133,
   "id": "ab3a44b8",
   "metadata": {
    "ExecuteTime": {
     "end_time": "2022-07-08T11:01:10.975579Z",
     "start_time": "2022-07-08T11:01:09.045939Z"
    },
    "hidden": true
   },
   "outputs": [
    {
     "data": {
      "text/html": [
       "<div>\n",
       "<style scoped>\n",
       "    .dataframe tbody tr th:only-of-type {\n",
       "        vertical-align: middle;\n",
       "    }\n",
       "\n",
       "    .dataframe tbody tr th {\n",
       "        vertical-align: top;\n",
       "    }\n",
       "\n",
       "    .dataframe thead th {\n",
       "        text-align: right;\n",
       "    }\n",
       "</style>\n",
       "<table border=\"1\" class=\"dataframe\">\n",
       "  <thead>\n",
       "    <tr style=\"text-align: right;\">\n",
       "      <th></th>\n",
       "      <th>attributes</th>\n",
       "      <th>min</th>\n",
       "      <th>max</th>\n",
       "      <th>range</th>\n",
       "      <th>mean</th>\n",
       "      <th>median</th>\n",
       "      <th>std</th>\n",
       "      <th>skew</th>\n",
       "      <th>kurtosis</th>\n",
       "    </tr>\n",
       "  </thead>\n",
       "  <tbody>\n",
       "    <tr>\n",
       "      <th>0</th>\n",
       "      <td>secs_elapsed</td>\n",
       "      <td>0.0</td>\n",
       "      <td>1799977.0</td>\n",
       "      <td>1799977.0</td>\n",
       "      <td>19961.8251</td>\n",
       "      <td>1369.0</td>\n",
       "      <td>88849.388449</td>\n",
       "      <td>11.137761</td>\n",
       "      <td>154.84312</td>\n",
       "    </tr>\n",
       "  </tbody>\n",
       "</table>\n",
       "</div>"
      ],
      "text/plain": [
       "     attributes  min        max      range        mean  median           std       skew   kurtosis\n",
       "0  secs_elapsed  0.0  1799977.0  1799977.0  19961.8251  1369.0  88849.388449  11.137761  154.84312"
      ]
     },
     "execution_count": 133,
     "metadata": {},
     "output_type": "execute_result"
    }
   ],
   "source": [
    "# central tendency - mean, median\n",
    "ct1 = pd.DataFrame(num_attrs_sessions.apply(np.mean)).T\n",
    "ct2 = pd.DataFrame(num_attrs_sessions.apply(np.median)).T\n",
    "\n",
    "# dispersions - std, min, max, range, skew, kurtosis\n",
    "d1 = pd.DataFrame(num_attrs_sessions.apply(np.std)).T\n",
    "d2 = pd.DataFrame(num_attrs_sessions.apply(min)).T\n",
    "d3 = pd.DataFrame(num_attrs_sessions.apply(max)).T\n",
    "d4 = pd.DataFrame(num_attrs_sessions.apply(lambda x: x.max() - x.min())).T\n",
    "d5 = pd.DataFrame(num_attrs_sessions.apply(lambda x: x.skew())).T\n",
    "d6 = pd.DataFrame(num_attrs_sessions.apply(lambda x: x.kurtosis())).T\n",
    "\n",
    "# concat\n",
    "ct = pd.concat( [d2, d3, d4, ct1, ct2, d1, d5, d6] ).T.reset_index()\n",
    "ct.columns = ['attributes', 'min', 'max', 'range', 'mean', 'median', 'std', 'skew', 'kurtosis']\n",
    "ct"
   ]
  },
  {
   "cell_type": "markdown",
   "id": "a44f5df0",
   "metadata": {
    "heading_collapsed": true,
    "hidden": true
   },
   "source": [
    "### Categorical - Users"
   ]
  },
  {
   "cell_type": "code",
   "execution_count": 134,
   "id": "169dc586",
   "metadata": {
    "ExecuteTime": {
     "end_time": "2022-07-08T11:01:11.113845Z",
     "start_time": "2022-07-08T11:01:10.977496Z"
    },
    "hidden": true
   },
   "outputs": [
    {
     "data": {
      "text/html": [
       "<div>\n",
       "<style scoped>\n",
       "    .dataframe tbody tr th:only-of-type {\n",
       "        vertical-align: middle;\n",
       "    }\n",
       "\n",
       "    .dataframe tbody tr th {\n",
       "        vertical-align: top;\n",
       "    }\n",
       "\n",
       "    .dataframe thead th {\n",
       "        text-align: right;\n",
       "    }\n",
       "</style>\n",
       "<table border=\"1\" class=\"dataframe\">\n",
       "  <thead>\n",
       "    <tr style=\"text-align: right;\">\n",
       "      <th></th>\n",
       "      <th>gender</th>\n",
       "      <th>signup_method</th>\n",
       "      <th>language</th>\n",
       "      <th>affiliate_channel</th>\n",
       "      <th>affiliate_provider</th>\n",
       "      <th>first_affiliate_tracked</th>\n",
       "      <th>signup_app</th>\n",
       "      <th>first_device_type</th>\n",
       "      <th>first_browser</th>\n",
       "      <th>country_destination</th>\n",
       "    </tr>\n",
       "  </thead>\n",
       "  <tbody>\n",
       "    <tr>\n",
       "      <th>count</th>\n",
       "      <td>122636</td>\n",
       "      <td>122636</td>\n",
       "      <td>122636</td>\n",
       "      <td>122636</td>\n",
       "      <td>122636</td>\n",
       "      <td>122636</td>\n",
       "      <td>122636</td>\n",
       "      <td>122636</td>\n",
       "      <td>122636</td>\n",
       "      <td>122636</td>\n",
       "    </tr>\n",
       "    <tr>\n",
       "      <th>unique</th>\n",
       "      <td>4</td>\n",
       "      <td>3</td>\n",
       "      <td>25</td>\n",
       "      <td>8</td>\n",
       "      <td>17</td>\n",
       "      <td>7</td>\n",
       "      <td>4</td>\n",
       "      <td>9</td>\n",
       "      <td>41</td>\n",
       "      <td>12</td>\n",
       "    </tr>\n",
       "    <tr>\n",
       "      <th>top</th>\n",
       "      <td>FEMALE</td>\n",
       "      <td>basic</td>\n",
       "      <td>en</td>\n",
       "      <td>direct</td>\n",
       "      <td>direct</td>\n",
       "      <td>untracked</td>\n",
       "      <td>Web</td>\n",
       "      <td>Mac Desktop</td>\n",
       "      <td>Chrome</td>\n",
       "      <td>NDF</td>\n",
       "    </tr>\n",
       "    <tr>\n",
       "      <th>freq</th>\n",
       "      <td>56362</td>\n",
       "      <td>66039</td>\n",
       "      <td>118205</td>\n",
       "      <td>79093</td>\n",
       "      <td>78954</td>\n",
       "      <td>64712</td>\n",
       "      <td>108283</td>\n",
       "      <td>57943</td>\n",
       "      <td>41778</td>\n",
       "      <td>54852</td>\n",
       "    </tr>\n",
       "  </tbody>\n",
       "</table>\n",
       "</div>"
      ],
      "text/plain": [
       "        gender signup_method language affiliate_channel affiliate_provider first_affiliate_tracked signup_app first_device_type first_browser country_destination\n",
       "count   122636        122636   122636            122636             122636                  122636     122636            122636        122636              122636\n",
       "unique       4             3       25                 8                 17                       7          4                 9            41                  12\n",
       "top     FEMALE         basic       en            direct             direct               untracked        Web       Mac Desktop        Chrome                 NDF\n",
       "freq     56362         66039   118205             79093              78954                   64712     108283             57943         41778               54852"
      ]
     },
     "execution_count": 134,
     "metadata": {},
     "output_type": "execute_result"
    }
   ],
   "source": [
    "cat_attrs.drop('id', axis=1).describe()"
   ]
  },
  {
   "cell_type": "markdown",
   "id": "21d5be66",
   "metadata": {
    "ExecuteTime": {
     "end_time": "2022-07-05T10:31:39.413535Z",
     "start_time": "2022-07-05T10:31:39.408216Z"
    },
    "heading_collapsed": true,
    "hidden": true
   },
   "source": [
    "### Categorical - Sessions"
   ]
  },
  {
   "cell_type": "code",
   "execution_count": 135,
   "id": "01aa0906",
   "metadata": {
    "ExecuteTime": {
     "end_time": "2022-07-08T11:01:42.508821Z",
     "start_time": "2022-07-08T11:01:11.116175Z"
    },
    "hidden": true
   },
   "outputs": [
    {
     "data": {
      "image/png": "[encoded data removed]",
      "text/plain": [
       "<Figure size 1800x864 with 2 Axes>"
      ]
     },
     "metadata": {},
     "output_type": "display_data"
    }
   ],
   "source": [
    "cat_attrs_sessions_list = cat_attrs_sessions.drop('user_id', axis=1).columns.tolist()\n",
    "\n",
    "corr_dict = {}\n",
    "for i in range(len(cat_attrs_sessions_list)):\n",
    "    corr_list = []\n",
    "    for j in range(len(cat_attrs_sessions_list)):\n",
    "        \n",
    "        ref = cat_attrs_sessions_list[i]\n",
    "        feat = cat_attrs_sessions_list[j]\n",
    "        \n",
    "        # correlation\n",
    "        corr = cramer_v(cat_attrs_sessions[ ref ], cat_attrs_sessions[ feat ])\n",
    "        \n",
    "        # append a list\n",
    "        corr_list.append(corr)\n",
    "        \n",
    "    # append a correlation list for each ref attrs\n",
    "    corr_dict[ref] = corr_list\n",
    "    \n",
    "d = pd.DataFrame(corr_dict)\n",
    "d = d.set_index(d.columns)\n",
    "sns.heatmap(d, annot=True);"
   ]
  },
  {
   "cell_type": "markdown",
   "id": "b4104545",
   "metadata": {
    "heading_collapsed": true
   },
   "source": [
    "# FEATURE ENGINEERING"
   ]
  },
  {
   "cell_type": "code",
   "execution_count": 136,
   "id": "07f3f796",
   "metadata": {
    "ExecuteTime": {
     "end_time": "2022-07-08T11:01:42.530528Z",
     "start_time": "2022-07-08T11:01:42.511373Z"
    },
    "hidden": true
   },
   "outputs": [
    {
     "data": {
      "text/plain": [
       "(122636, 16)"
      ]
     },
     "execution_count": 136,
     "metadata": {},
     "output_type": "execute_result"
    }
   ],
   "source": [
    "df2 = df1.copy()\n",
    "df2.shape"
   ]
  },
  {
   "cell_type": "markdown",
   "id": "c1de82b0",
   "metadata": {
    "heading_collapsed": true,
    "hidden": true
   },
   "source": [
    "## Create New Features"
   ]
  },
  {
   "cell_type": "code",
   "execution_count": 137,
   "id": "dbfa3813",
   "metadata": {
    "ExecuteTime": {
     "end_time": "2022-07-08T11:01:46.109293Z",
     "start_time": "2022-07-08T11:01:42.532401Z"
    },
    "hidden": true
   },
   "outputs": [],
   "source": [
    "# days from first active up to frist booking\n",
    "df2['first_active'] = pd.to_datetime(df2['timestamp_first_active'].dt.strftime('%Y-%m-%d'))\n",
    "df2['days_from_first_active_until_booking'] = (df2['date_first_booking'] - df2['first_active']).apply(lambda x: x.days)\n",
    "\n",
    "# days from first active up to account created\n",
    "df2['days_from_first_active_account_created'] = (df2['date_account_created'] - df2['first_active']).apply(lambda x: x.days)\n",
    "\n",
    "# days from account created up to first booking\n",
    "df2['days_from_account_created_until_first_booking'] = (df2['date_first_booking'] - df2['date_account_created']).apply(lambda x: x.days)\n",
    "\n",
    "\n",
    "# ========================== First Active ==========================\n",
    "\n",
    "\n",
    "# year first active - ok\n",
    "df2['year_first_active'] = df2['first_active'].dt.year\n",
    "\n",
    "# month first active - ok\n",
    "df2['month_first_active'] = df2['first_active'].dt.month\n",
    "\n",
    "# day of first active - ok\n",
    "df2['day_first_active'] = df2['first_active'].dt.day\n",
    "\n",
    "# day of week first active - ok\n",
    "df2['day_of_week_first_active'] = df2['first_active'].dt.dayofweek\n",
    "\n",
    "# week of year first active - ok\n",
    "df2['week_of_year_first_active'] = df2['first_active'].dt.weekofyear\n",
    "\n",
    "\n",
    "# ========================== First Booking ==========================\n",
    "\n",
    "# year first booking\n",
    "df2['year_first_booking'] = df2['date_first_booking'].dt.year\n",
    "\n",
    "# month first booking\n",
    "df2['month_first_booking'] = df2['date_first_booking'].dt.month\n",
    "\n",
    "# day of first booking\n",
    "df2['day_first_booking'] = df2['date_first_booking'].dt.day\n",
    "\n",
    "# day of week first booking\n",
    "df2['day_of_week_first_booking'] = df2['date_first_booking'].dt.dayofweek\n",
    "\n",
    "# week of year first booking\n",
    "df2['week_of_year_first_booking'] = df2['date_first_booking'].dt.weekofyear\n",
    "\n",
    "# ========================== First Account Created ==========================\n",
    " \n",
    "# year first account created\n",
    "df2['year_account_created'] = df2['date_account_created'].dt.year\n",
    "\n",
    "# month first booking\n",
    "df2['month_account_created'] = df2['date_account_created'].dt.month\n",
    "\n",
    "# day of first booking\n",
    "df2['day_account_created'] = df2['date_account_created'].dt.day\n",
    "\n",
    "# day of week first booking\n",
    "df2['day_of_week_account_created'] = df2['date_account_created'].dt.dayofweek\n",
    "\n",
    "# week of year first booking\n",
    "df2['week_of_year_account_created'] = df2['date_account_created'].dt.weekofyear\n"
   ]
  },
  {
   "cell_type": "markdown",
   "id": "7717b0ef",
   "metadata": {
    "heading_collapsed": true
   },
   "source": [
    "# DATA FILTERING"
   ]
  },
  {
   "cell_type": "code",
   "execution_count": 138,
   "id": "958fd360",
   "metadata": {
    "ExecuteTime": {
     "end_time": "2022-07-08T11:01:46.136850Z",
     "start_time": "2022-07-08T11:01:46.110967Z"
    },
    "hidden": true
   },
   "outputs": [
    {
     "data": {
      "text/plain": [
       "(122636, 35)"
      ]
     },
     "execution_count": 138,
     "metadata": {},
     "output_type": "execute_result"
    }
   ],
   "source": [
    "df3 = df2.copy()\n",
    "df3.shape"
   ]
  },
  {
   "cell_type": "markdown",
   "id": "aefad61f",
   "metadata": {
    "heading_collapsed": true,
    "hidden": true
   },
   "source": [
    "## Filtering Rows"
   ]
  },
  {
   "cell_type": "code",
   "execution_count": 139,
   "id": "eb1fd868",
   "metadata": {
    "ExecuteTime": {
     "end_time": "2022-07-08T11:01:46.167836Z",
     "start_time": "2022-07-08T11:01:46.139015Z"
    },
    "hidden": true
   },
   "outputs": [],
   "source": [
    "df3 = df3[(df3['age'] > 15) & (df3['age'] < 120)]"
   ]
  },
  {
   "cell_type": "markdown",
   "id": "8daa2145",
   "metadata": {
    "heading_collapsed": true,
    "hidden": true
   },
   "source": [
    "## Columns Selection"
   ]
  },
  {
   "cell_type": "code",
   "execution_count": 140,
   "id": "3b082cdb",
   "metadata": {
    "ExecuteTime": {
     "end_time": "2022-07-08T11:01:46.173195Z",
     "start_time": "2022-07-08T11:01:46.170068Z"
    },
    "hidden": true
   },
   "outputs": [],
   "source": [
    "cols_drop = ['date_account_created', 'timestamp_first_active', 'date_first_booking', 'first_active'] # origial dates"
   ]
  },
  {
   "cell_type": "markdown",
   "id": "0bc0ac34",
   "metadata": {
    "heading_collapsed": true
   },
   "source": [
    "# BALANCED DATASET"
   ]
  },
  {
   "cell_type": "code",
   "execution_count": 141,
   "id": "55a83d96",
   "metadata": {
    "ExecuteTime": {
     "end_time": "2022-07-08T11:01:46.195066Z",
     "start_time": "2022-07-08T11:01:46.175083Z"
    },
    "hidden": true
   },
   "outputs": [],
   "source": [
    "df4 = df3.drop(cols_drop, axis=1)"
   ]
  },
  {
   "cell_type": "code",
   "execution_count": 142,
   "id": "e88f220a",
   "metadata": {
    "ExecuteTime": {
     "end_time": "2022-07-08T11:01:46.616887Z",
     "start_time": "2022-07-08T11:01:46.196952Z"
    },
    "hidden": true
   },
   "outputs": [],
   "source": [
    "# Encoder Categorical Variables\n",
    "ohe = pp.OneHotEncoder()\n",
    "\n",
    "# Numerical\n",
    "col_num = df4.select_dtypes(include=['int64', 'float64']).columns.tolist()\n",
    "\n",
    "# Categorical\n",
    "col_cat = df4.select_dtypes(exclude=['int64', 'float64', 'datetime64[ns]']).drop(['id', 'country_destination'], axis=1).columns.tolist()\n",
    "\n",
    "# encoding\n",
    "df4_dummy = pd.DataFrame(ohe.fit_transform(df4[col_cat]).toarray(), index=df4.index)\n",
    "\n",
    "# join numerical and categorical\n",
    "df42 = pd.concat([df4[col_num], df4_dummy], axis=1)"
   ]
  },
  {
   "cell_type": "markdown",
   "id": "ba63882b",
   "metadata": {
    "heading_collapsed": true,
    "hidden": true
   },
   "source": [
    "## Random Undersampling"
   ]
  },
  {
   "cell_type": "code",
   "execution_count": 143,
   "id": "cb301d90",
   "metadata": {
    "ExecuteTime": {
     "end_time": "2022-07-08T11:01:47.658199Z",
     "start_time": "2022-07-08T11:01:46.618793Z"
    },
    "hidden": true
   },
   "outputs": [],
   "source": [
    "# ration balanced\n",
    "ratio_balanced = {'NDF': 10000}\n",
    "\n",
    "# define Sampler\n",
    "undersampling = us.RandomUnderSampler(sampling_strategy=ratio_balanced, random_state=32)\n",
    "\n",
    "# apply sampler\n",
    "x_under, y_under = undersampling.fit_resample(df42, df4['country_destination'])"
   ]
  },
  {
   "cell_type": "code",
   "execution_count": 144,
   "id": "62f44e2a",
   "metadata": {
    "ExecuteTime": {
     "end_time": "2022-07-08T11:01:47.672239Z",
     "start_time": "2022-07-08T11:01:47.660273Z"
    },
    "cell_style": "split",
    "hidden": true
   },
   "outputs": [
    {
     "data": {
      "text/plain": [
       "NDF      54852\n",
       "US       48057\n",
       "other     7511\n",
       "FR        3669\n",
       "IT        2014\n",
       "GB        1758\n",
       "ES        1685\n",
       "CA        1064\n",
       "DE         841\n",
       "NL         595\n",
       "AU         433\n",
       "PT         157\n",
       "Name: country_destination, dtype: int64"
      ]
     },
     "execution_count": 144,
     "metadata": {},
     "output_type": "execute_result"
    }
   ],
   "source": [
    "df4['country_destination'].value_counts()"
   ]
  },
  {
   "cell_type": "code",
   "execution_count": 145,
   "id": "e85d3c4b",
   "metadata": {
    "ExecuteTime": {
     "end_time": "2022-07-08T11:01:47.687283Z",
     "start_time": "2022-07-08T11:01:47.674522Z"
    },
    "cell_style": "split",
    "hidden": true
   },
   "outputs": [
    {
     "data": {
      "text/plain": [
       "US       48057\n",
       "NDF      10000\n",
       "other     7511\n",
       "FR        3669\n",
       "IT        2014\n",
       "GB        1758\n",
       "ES        1685\n",
       "CA        1064\n",
       "DE         841\n",
       "NL         595\n",
       "AU         433\n",
       "PT         157\n",
       "Name: country_destination, dtype: int64"
      ]
     },
     "execution_count": 145,
     "metadata": {},
     "output_type": "execute_result"
    }
   ],
   "source": [
    "y_under.value_counts()"
   ]
  },
  {
   "cell_type": "markdown",
   "id": "42cc6dd9",
   "metadata": {
    "heading_collapsed": true,
    "hidden": true
   },
   "source": [
    "## Random Oversampling"
   ]
  },
  {
   "cell_type": "code",
   "execution_count": 146,
   "id": "97235dca",
   "metadata": {
    "ExecuteTime": {
     "end_time": "2022-07-08T11:01:50.127610Z",
     "start_time": "2022-07-08T11:01:47.691440Z"
    },
    "hidden": true
   },
   "outputs": [],
   "source": [
    "# define Sampler\n",
    "oversampling = oversamp.RandomOverSampler(sampling_strategy='all', random_state=32)\n",
    "\n",
    "# apply sampler\n",
    "x_over, y_over = oversampling.fit_resample(df42, df4['country_destination'])"
   ]
  },
  {
   "cell_type": "code",
   "execution_count": 147,
   "id": "49aadf4e",
   "metadata": {
    "ExecuteTime": {
     "end_time": "2022-07-08T11:01:50.141989Z",
     "start_time": "2022-07-08T11:01:50.129652Z"
    },
    "cell_style": "split",
    "hidden": true
   },
   "outputs": [
    {
     "data": {
      "text/plain": [
       "NDF      54852\n",
       "US       48057\n",
       "other     7511\n",
       "FR        3669\n",
       "IT        2014\n",
       "GB        1758\n",
       "ES        1685\n",
       "CA        1064\n",
       "DE         841\n",
       "NL         595\n",
       "AU         433\n",
       "PT         157\n",
       "Name: country_destination, dtype: int64"
      ]
     },
     "execution_count": 147,
     "metadata": {},
     "output_type": "execute_result"
    }
   ],
   "source": [
    "df4['country_destination'].value_counts()"
   ]
  },
  {
   "cell_type": "code",
   "execution_count": 148,
   "id": "d5aa25d2",
   "metadata": {
    "ExecuteTime": {
     "end_time": "2022-07-08T11:01:50.196102Z",
     "start_time": "2022-07-08T11:01:50.145042Z"
    },
    "cell_style": "split",
    "hidden": true
   },
   "outputs": [
    {
     "data": {
      "text/plain": [
       "NDF      54852\n",
       "US       54852\n",
       "other    54852\n",
       "CA       54852\n",
       "FR       54852\n",
       "IT       54852\n",
       "ES       54852\n",
       "GB       54852\n",
       "NL       54852\n",
       "DE       54852\n",
       "AU       54852\n",
       "PT       54852\n",
       "Name: country_destination, dtype: int64"
      ]
     },
     "execution_count": 148,
     "metadata": {},
     "output_type": "execute_result"
    }
   ],
   "source": [
    "y_over.value_counts()"
   ]
  },
  {
   "cell_type": "markdown",
   "id": "73082d5b",
   "metadata": {
    "heading_collapsed": true,
    "hidden": true
   },
   "source": [
    "## SMOTE + TOMELINK"
   ]
  },
  {
   "cell_type": "code",
   "execution_count": 149,
   "id": "79d73e0c",
   "metadata": {
    "ExecuteTime": {
     "end_time": "2022-07-08T11:01:50.203430Z",
     "start_time": "2022-07-08T11:01:50.198190Z"
    },
    "hidden": true
   },
   "outputs": [],
   "source": [
    "ratio_balanced = {\n",
    "    \n",
    "    'NDF': 54852,\n",
    "    'US': 48057,\n",
    "    'other': 6*7511,\n",
    "    'FR': 12*3669,\n",
    "    'IT': 20*2014,\n",
    "    'GB': 30*1758,\n",
    "    'ES': 30*1685,\n",
    "    'CA': 40*1064,\n",
    "    'DE': 45*841,\n",
    "    'NL': 80*595,\n",
    "    'AU': 85*433,\n",
    "    'PT': 300*157\n",
    "}"
   ]
  },
  {
   "cell_type": "markdown",
   "id": "7d085e69",
   "metadata": {
    "hidden": true
   },
   "source": [
    "<font color='red'>**ARRUMAR ACCOUNTED CREATED**</font>"
   ]
  },
  {
   "cell_type": "code",
   "execution_count": 150,
   "id": "a195217c",
   "metadata": {
    "ExecuteTime": {
     "end_time": "2022-07-08T11:01:51.083734Z",
     "start_time": "2022-07-08T11:01:50.206247Z"
    },
    "hidden": true
   },
   "outputs": [],
   "source": [
    "# # define sampler\n",
    "# smt = c.SMOTETomek(sampling_strategy=ratio_balanced, random_state=32, n_jobs=1)\n",
    "\n",
    "# # apply sampler\n",
    "# x_smt, y_smt = smt.fit_resample(df42, df4['country_destination'])\n",
    "\n",
    "# # numerical data\n",
    "# df43 = x_smt[col_num]\n",
    "\n",
    "# # =-=-=-=-==-=-=-=-==-=-=-=-==-=-=-=-==-=-=-=-==-=-=-=-==-=-=-=-==-=-=-=-==-=-=-=-==-=-=-=-=\n",
    "\n",
    "# # categorical data\n",
    "# df44 = x_smt.drop(col_num, axis=1)\n",
    "# df45 = pd.DataFrame(ohe.inverse_transform(df44), columns=col_cat, index=df44.index)\n",
    "\n",
    "# # join numerical categorical\n",
    "# df46 = pd.concat([df43, df45], axis=1)\n",
    "# df46['country_destination'] = y_smt\n",
    "\n",
    "# df46.to_csv('./data/df46.csv', index=False)\n",
    "\n",
    "# =-=-=-=-==-=-=-=-==-=-=-=-==-=-=-=-==-=-=-=-==-=-=-=-==-=-=-=-==-=-=-=-==-=-=-=-==-=-=-=-=\n",
    "\n",
    "df46 = pd.read_csv('./data/df46.csv')"
   ]
  },
  {
   "cell_type": "markdown",
   "id": "2d6892ca",
   "metadata": {
    "heading_collapsed": true
   },
   "source": [
    "# EXPLORATORY DATA ANALYSIS"
   ]
  },
  {
   "cell_type": "markdown",
   "id": "257945be",
   "metadata": {
    "heading_collapsed": true,
    "hidden": true
   },
   "source": [
    "## Hypothesis Validation (Unbalanced Dataset)"
   ]
  },
  {
   "cell_type": "code",
   "execution_count": 151,
   "id": "8bb89564",
   "metadata": {
    "ExecuteTime": {
     "end_time": "2022-07-08T11:01:51.099208Z",
     "start_time": "2022-07-08T11:01:51.085677Z"
    },
    "hidden": true
   },
   "outputs": [],
   "source": [
    "df51 = df4.copy()"
   ]
  },
  {
   "cell_type": "markdown",
   "id": "35907d7e",
   "metadata": {
    "hidden": true,
    "hide_input": false
   },
   "source": [
    "**H01**. Em todos os destinos, os usuarios levam 15 dias, em media, para fazer a primeira reserva no AirBnB, desde sua primeira ativação.\n",
    "\n",
    "**VERDADEIRO**. Em todos os destinos os usuarios levam até 6 dias para reservar."
   ]
  },
  {
   "cell_type": "code",
   "execution_count": 152,
   "id": "5e95f45a",
   "metadata": {
    "ExecuteTime": {
     "end_time": "2022-07-08T11:01:51.546062Z",
     "start_time": "2022-07-08T11:01:51.100976Z"
    },
    "hidden": true,
    "hide_input": true
   },
   "outputs": [
    {
     "data": {
      "image/png": "[encoded data removed]",
      "text/plain": [
       "<Figure size 1800x864 with 2 Axes>"
      ]
     },
     "metadata": {},
     "output_type": "display_data"
    }
   ],
   "source": [
    "plt.subplot(3, 1, 1)\n",
    "\n",
    "aux01 = df51[['days_from_first_active_until_booking', 'country_destination']].groupby('country_destination').median().reset_index()\n",
    "sns.barplot(x='country_destination', y='days_from_first_active_until_booking', data=aux01.sort_values('days_from_first_active_until_booking'));\n",
    "\n",
    "# remove outlier\n",
    "\n",
    "plt.subplot(3, 1, 2)\n",
    "\n",
    "aux02 = df51[df51['country_destination'] != 'NDF']\n",
    "aux02 = aux02[['days_from_first_active_until_booking', 'country_destination']].groupby('country_destination').median().reset_index()\n",
    "sns.barplot(x='country_destination', y='days_from_first_active_until_booking', data=aux02.sort_values('days_from_first_active_until_booking'));"
   ]
  },
  {
   "cell_type": "markdown",
   "id": "96ce47fc",
   "metadata": {
    "ExecuteTime": {
     "end_time": "2022-07-06T11:53:39.651879Z",
     "start_time": "2022-07-06T11:53:39.646901Z"
    },
    "hidden": true
   },
   "source": [
    "**H02**. Em todos os destinos, os usuarios levam 3 dias em media para fazer o cadastro no site\n",
    "\n",
    "**VERDADEIRA** Em todos os destinos os usuarios levam até 2 dias para finalizar o cadastro."
   ]
  },
  {
   "cell_type": "code",
   "execution_count": 153,
   "id": "f1bdcc6f",
   "metadata": {
    "ExecuteTime": {
     "end_time": "2022-07-08T11:01:51.769110Z",
     "start_time": "2022-07-08T11:01:51.547970Z"
    },
    "hidden": true,
    "hide_input": true
   },
   "outputs": [
    {
     "data": {
      "image/png": "[encoded data removed]",
      "text/plain": [
       "<Figure size 1800x864 with 1 Axes>"
      ]
     },
     "metadata": {},
     "output_type": "display_data"
    }
   ],
   "source": [
    "plt.subplot(3, 1, 1)\n",
    "\n",
    "aux01 = df51[['days_from_first_active_account_created', 'country_destination']].groupby('country_destination').mean().reset_index()\n",
    "sns.barplot(x='country_destination', y='days_from_first_active_account_created', data=aux01.sort_values('days_from_first_active_account_created'));"
   ]
  },
  {
   "cell_type": "markdown",
   "id": "2ebf93a7",
   "metadata": {
    "hidden": true,
    "hide_input": true
   },
   "source": [
    "**H03**. O volume de reservas anual feitas durante o verão aumentaram 20% para destinos dentro dos USA.\n",
    "\n",
    "**FALSA** O Volume de reservas aumentam durante o verao entre os anos de 2010 até 2013."
   ]
  },
  {
   "cell_type": "code",
   "execution_count": 154,
   "id": "515b5c6e",
   "metadata": {
    "ExecuteTime": {
     "end_time": "2022-07-08T11:01:51.974264Z",
     "start_time": "2022-07-08T11:01:51.771137Z"
    },
    "hidden": true,
    "hide_input": true
   },
   "outputs": [
    {
     "data": {
      "image/png": "[encoded data removed]",
      "text/plain": [
       "<Figure size 1800x864 with 1 Axes>"
      ]
     },
     "metadata": {},
     "output_type": "display_data"
    }
   ],
   "source": [
    "aux01 = df52[['year_first_booking','month_first_booking','country_destination']]\\\n",
    ".groupby(['year_first_booking','month_first_booking','country_destination']).size().reset_index().rename(columns={0:'count'})\n",
    "\n",
    "# select only summer\n",
    "aux01 = aux01[(aux01['month_first_booking'].isin([6, 7, 8, 9]) & (aux01['country_destination'] == 'US'))]\n",
    "\n",
    "aux02 = aux01[['year_first_booking', 'count']].groupby('year_first_booking').sum().reset_index()\n",
    "aux02['delta'] = 100*aux02['count'].pct_change().fillna(0)\n",
    "\n",
    "sns.barplot(x='year_first_booking', y='delta', data=aux02);"
   ]
  },
  {
   "cell_type": "markdown",
   "id": "5fb31b19",
   "metadata": {
    "hidden": true
   },
   "source": [
    "**H04**. Usuarios do sexo feminino fazem 10% mais reservas para paises fora dos USA,"
   ]
  },
  {
   "cell_type": "markdown",
   "id": "22015b85",
   "metadata": {
    "hidden": true
   },
   "source": [
    "**H05**. O canal de marketing Google representa 40% das reservas para paises fora dos USA."
   ]
  },
  {
   "cell_type": "markdown",
   "id": "a2d09b06",
   "metadata": {
    "hidden": true
   },
   "source": [
    "**H06**. O destino dos USA representam mais de 20% em todos os canais."
   ]
  },
  {
   "cell_type": "markdown",
   "id": "64b55660",
   "metadata": {
    "hidden": true
   },
   "source": [
    "**H07**. A idade media das pessoas é de 35 anos em todos os destinos"
   ]
  },
  {
   "cell_type": "markdown",
   "id": "d422e837",
   "metadata": {
    "hidden": true
   },
   "source": [
    "**H08**. A porcentagem de usuarios que usam o site na lingua ingle-americano para reservar acomodações em qualquer destino é maior que 90%"
   ]
  },
  {
   "cell_type": "markdown",
   "id": "55e4a7d4",
   "metadata": {
    "hidden": true
   },
   "source": [
    "**H09**. O número de reservas do AirBnB é crescente ou decrescente ao longo dos anos?"
   ]
  },
  {
   "cell_type": "markdown",
   "id": "94151508",
   "metadata": {
    "hidden": true
   },
   "source": [
    "**H10**. O numero de reservas do AirBnB é crescente ao longo dos ano."
   ]
  },
  {
   "cell_type": "markdown",
   "id": "c1dd3818",
   "metadata": {
    "heading_collapsed": true,
    "hidden": true
   },
   "source": [
    "## Variables Impact (Balanced Dataset)"
   ]
  },
  {
   "cell_type": "code",
   "execution_count": 155,
   "id": "14eadadd",
   "metadata": {
    "ExecuteTime": {
     "end_time": "2022-07-08T11:01:51.989732Z",
     "start_time": "2022-07-08T11:01:51.975727Z"
    },
    "hidden": true
   },
   "outputs": [],
   "source": [
    "df52 = df4.copy()"
   ]
  },
  {
   "cell_type": "code",
   "execution_count": 156,
   "id": "e42f5ea1",
   "metadata": {
    "ExecuteTime": {
     "end_time": "2022-07-08T11:01:51.994428Z",
     "start_time": "2022-07-08T11:01:51.991654Z"
    },
    "hidden": true
   },
   "outputs": [],
   "source": [
    "# profile = ProfileReport(df51) \n",
    "# profile.to_notebook_iframe()  "
   ]
  },
  {
   "cell_type": "code",
   "execution_count": 157,
   "id": "ec08eb2d",
   "metadata": {
    "ExecuteTime": {
     "end_time": "2022-07-08T11:01:51.999923Z",
     "start_time": "2022-07-08T11:01:51.996342Z"
    },
    "hidden": true
   },
   "outputs": [],
   "source": [
    "# =================================== High Correlation ===================================\n",
    "# days_from_first_active_until_booking x days_from_account_created_until_first_booking\n",
    "# remove: days_from_first_active_until_booking\n",
    "\n",
    "# year_first_active x year_account_created\n",
    "# remove: year_first_active \n",
    "\n",
    "# month_first_active x month_account_created\n",
    "# remove: month_first_active\n",
    "\n",
    "# day_first_active x day_account_created\n",
    "# remove: day_first_acrtive\n",
    "\n",
    "# day_of_yeek_first_active x day_of_yeek_account_created\n",
    "# remove: day_of_yeek_first_active\n",
    "\n",
    "# week_of_year_first_active x week_of_year_account_created\n",
    "# remove: week_of_year_first_active\n",
    "\n",
    "# month_first_booking x week_of_year_account_created\n",
    "# remove: month_first_booking\n",
    "\n",
    "# month_account_created x week_of_year_account_created\n",
    "# remove: month_account_created\n",
    "\n",
    "# year_first_booking x year_account_created\n",
    "# remove: year_first_booking\n",
    "\n",
    "# week_of_year_first_booking x week_of_year_account_created\n",
    "# remove: week_of_year_first_booking\n",
    "\n",
    "# affiliate_channel x affiliate_provider\n",
    "# remove: affiliate_provider\n",
    "\n",
    "# first_device_type x first_browser\n",
    "# remove: first_browser\n",
    "\n",
    "# first_device_type x sigup_app\n",
    "# remove: first_device_type"
   ]
  },
  {
   "cell_type": "markdown",
   "id": "0b38f1f7",
   "metadata": {
    "hidden": true
   },
   "source": [
    "### Univariate Analysis"
   ]
  },
  {
   "cell_type": "markdown",
   "id": "366a0a23",
   "metadata": {
    "hidden": true
   },
   "source": [
    "### Bivariate Analysis"
   ]
  },
  {
   "cell_type": "markdown",
   "id": "382fdbf0",
   "metadata": {
    "heading_collapsed": true,
    "hidden": true
   },
   "source": [
    "### Multivariate Analysis"
   ]
  },
  {
   "cell_type": "code",
   "execution_count": 163,
   "id": "004aed11",
   "metadata": {
    "ExecuteTime": {
     "end_time": "2022-07-08T11:03:23.089774Z",
     "start_time": "2022-07-08T11:03:23.083612Z"
    },
    "hidden": true
   },
   "outputs": [],
   "source": [
    "cols = ['days_from_first_active_until_booking', 'year_first_active', 'month_first_active', 'day_first_active', 'day_of_week_first_active', 'week_of_year_first_active',\n",
    "       'month_first_booking', 'month_account_created', 'year_first_booking', 'week_of_year_first_booking', 'affiliate_provider', 'first_browser', 'first_device_type', 'language']"
   ]
  },
  {
   "cell_type": "markdown",
   "id": "3d8a65c7",
   "metadata": {
    "heading_collapsed": true
   },
   "source": [
    "# DATA PREPARATION"
   ]
  },
  {
   "cell_type": "code",
   "execution_count": 191,
   "id": "3e9a3c63",
   "metadata": {
    "ExecuteTime": {
     "end_time": "2022-07-08T12:40:35.801164Z",
     "start_time": "2022-07-08T12:40:35.763236Z"
    },
    "hidden": true
   },
   "outputs": [
    {
     "data": {
      "text/plain": [
       "(546297, 16)"
      ]
     },
     "execution_count": 191,
     "metadata": {},
     "output_type": "execute_result"
    }
   ],
   "source": [
    "df6 = df46.drop(cols, axis=1)\n",
    "df6.shape"
   ]
  },
  {
   "cell_type": "code",
   "execution_count": 192,
   "id": "271ec77c",
   "metadata": {
    "ExecuteTime": {
     "end_time": "2022-07-08T12:40:35.938067Z",
     "start_time": "2022-07-08T12:40:35.929932Z"
    },
    "hidden": true
   },
   "outputs": [
    {
     "data": {
      "text/plain": [
       "age                                               int64\n",
       "signup_flow                                       int64\n",
       "days_from_first_active_account_created            int64\n",
       "days_from_account_created_until_first_booking     int64\n",
       "day_first_booking                                 int64\n",
       "day_of_week_first_booking                         int64\n",
       "year_account_created                              int64\n",
       "day_account_created                               int64\n",
       "day_of_week_account_created                       int64\n",
       "week_of_year_account_created                      int64\n",
       "gender                                           object\n",
       "signup_method                                    object\n",
       "affiliate_channel                                object\n",
       "first_affiliate_tracked                          object\n",
       "signup_app                                       object\n",
       "country_destination                              object\n",
       "dtype: object"
      ]
     },
     "execution_count": 192,
     "metadata": {},
     "output_type": "execute_result"
    }
   ],
   "source": [
    "df6.dtypes"
   ]
  },
  {
   "cell_type": "markdown",
   "id": "895fce1f",
   "metadata": {
    "hidden": true
   },
   "source": [
    "## Rescaling"
   ]
  },
  {
   "cell_type": "code",
   "execution_count": 193,
   "id": "c3d2f528",
   "metadata": {
    "ExecuteTime": {
     "end_time": "2022-07-08T12:40:36.516701Z",
     "start_time": "2022-07-08T12:40:36.513011Z"
    },
    "hidden": true
   },
   "outputs": [],
   "source": [
    "ss = pp.StandardScaler()\n",
    "rs = pp.RobustScaler()\n",
    "mms = pp.MinMaxScaler()"
   ]
  },
  {
   "cell_type": "code",
   "execution_count": 194,
   "id": "56076e87",
   "metadata": {
    "ExecuteTime": {
     "end_time": "2022-07-08T12:40:36.759744Z",
     "start_time": "2022-07-08T12:40:36.631574Z"
    },
    "hidden": true
   },
   "outputs": [],
   "source": [
    "# age - standardization\n",
    "df6['age'] = ss.fit_transform(df6[['age']].values)\n",
    "\n",
    "# sigup_flow - robust scaler\n",
    "df6['sigup_flow'] = rs.fit_transform(df6[['signup_flow']].values)\n",
    "\n",
    "# days_from_first_active_account_created - robust scaler\n",
    "df6['days_from_first_active_account_created'] = rs.fit_transform(df6[['days_from_first_active_account_created']].values)\n",
    "\n",
    "# days_from_account_created_until_first_booking - robust scaler\n",
    "df6['days_from_account_created_until_first_booking'] = rs.fit_transform(df6[['days_from_account_created_until_first_booking']].values)\n",
    "\n",
    "# year_account_created - minmax scaler\n",
    "df6['year_account_created'] = mms.fit_transform(df6[['year_account_created']].values)\n"
   ]
  },
  {
   "cell_type": "markdown",
   "id": "2e4188cc",
   "metadata": {
    "hidden": true
   },
   "source": [
    "## Encoding"
   ]
  },
  {
   "cell_type": "code",
   "execution_count": 195,
   "id": "0fe6af83",
   "metadata": {
    "ExecuteTime": {
     "end_time": "2022-07-08T12:40:36.884907Z",
     "start_time": "2022-07-08T12:40:36.880776Z"
    },
    "hidden": true
   },
   "outputs": [],
   "source": [
    "te = TargetEncoder()"
   ]
  },
  {
   "cell_type": "code",
   "execution_count": 196,
   "id": "3652a2b6",
   "metadata": {
    "ExecuteTime": {
     "end_time": "2022-07-08T12:40:38.785412Z",
     "start_time": "2022-07-08T12:40:37.152715Z"
    },
    "hidden": true
   },
   "outputs": [],
   "source": [
    "# gender - OneHotEncoder\n",
    "df6 = pd.get_dummies(df6, prefix=['gender'], columns=['gender'])\n",
    "\n",
    "# signup_method - OneHotEncoder\n",
    "df6 = pd.get_dummies(df6, prefix=['signup_method'], columns=['signup_method'])\n",
    "\n",
    "# signup_app - OneHotEncoder\n",
    "df6 = pd.get_dummies(df6, prefix=['signup_app'], columns=['signup_app'])\n",
    "\n",
    "# affiliate_channel - TargetEncoder\n",
    "c = {'NDF': 0, 'US': 1, 'other': 2, 'CA': 3, 'FR': 4, 'IT': 5, 'ES': 6, 'GB': 7, 'NL': 8, 'DE': 9, 'AU': 10, 'PT': 11}\n",
    "df6['affiliate_channel'] = te.fit_transform(df6[['affiliate_channel']].values, df6['country_destination'].map(c))\n",
    "\n",
    "# first_affiliate_tracked - TargetEncoder\n",
    "df6['first_affiliate_tracked'] = te.fit_transform(df6[['first_affiliate_tracked']].values, df6['country_destination'].map(c))"
   ]
  },
  {
   "cell_type": "code",
   "execution_count": 197,
   "id": "40fb0333",
   "metadata": {
    "ExecuteTime": {
     "end_time": "2022-07-08T12:40:38.805510Z",
     "start_time": "2022-07-08T12:40:38.787716Z"
    },
    "hidden": true
   },
   "outputs": [
    {
     "data": {
      "text/html": [
       "<div>\n",
       "<style scoped>\n",
       "    .dataframe tbody tr th:only-of-type {\n",
       "        vertical-align: middle;\n",
       "    }\n",
       "\n",
       "    .dataframe tbody tr th {\n",
       "        vertical-align: top;\n",
       "    }\n",
       "\n",
       "    .dataframe thead th {\n",
       "        text-align: right;\n",
       "    }\n",
       "</style>\n",
       "<table border=\"1\" class=\"dataframe\">\n",
       "  <thead>\n",
       "    <tr style=\"text-align: right;\">\n",
       "      <th></th>\n",
       "      <th>age</th>\n",
       "      <th>signup_flow</th>\n",
       "      <th>days_from_first_active_account_created</th>\n",
       "      <th>days_from_account_created_until_first_booking</th>\n",
       "      <th>day_first_booking</th>\n",
       "      <th>day_of_week_first_booking</th>\n",
       "      <th>year_account_created</th>\n",
       "      <th>day_account_created</th>\n",
       "      <th>day_of_week_account_created</th>\n",
       "      <th>week_of_year_account_created</th>\n",
       "      <th>affiliate_channel</th>\n",
       "      <th>first_affiliate_tracked</th>\n",
       "      <th>country_destination</th>\n",
       "      <th>sigup_flow</th>\n",
       "      <th>gender_-unknown-</th>\n",
       "      <th>gender_FEMALE</th>\n",
       "      <th>gender_MALE</th>\n",
       "      <th>gender_OTHER</th>\n",
       "      <th>signup_method_basic</th>\n",
       "      <th>signup_method_facebook</th>\n",
       "      <th>signup_method_google</th>\n",
       "      <th>signup_app_Android</th>\n",
       "      <th>signup_app_Moweb</th>\n",
       "      <th>signup_app_Web</th>\n",
       "      <th>signup_app_iOS</th>\n",
       "    </tr>\n",
       "  </thead>\n",
       "  <tbody>\n",
       "    <tr>\n",
       "      <th>0</th>\n",
       "      <td>0.092423</td>\n",
       "      <td>0</td>\n",
       "      <td>732.0</td>\n",
       "      <td>14.466019</td>\n",
       "      <td>29</td>\n",
       "      <td>0</td>\n",
       "      <td>0.25</td>\n",
       "      <td>25</td>\n",
       "      <td>2</td>\n",
       "      <td>21</td>\n",
       "      <td>5.273801</td>\n",
       "      <td>5.387647</td>\n",
       "      <td>NDF</td>\n",
       "      <td>0.0</td>\n",
       "      <td>0</td>\n",
       "      <td>0</td>\n",
       "      <td>1</td>\n",
       "      <td>0</td>\n",
       "      <td>0</td>\n",
       "      <td>1</td>\n",
       "      <td>0</td>\n",
       "      <td>0</td>\n",
       "      <td>0</td>\n",
       "      <td>1</td>\n",
       "      <td>0</td>\n",
       "    </tr>\n",
       "    <tr>\n",
       "      <th>1</th>\n",
       "      <td>1.456545</td>\n",
       "      <td>3</td>\n",
       "      <td>476.0</td>\n",
       "      <td>-0.611650</td>\n",
       "      <td>2</td>\n",
       "      <td>0</td>\n",
       "      <td>0.00</td>\n",
       "      <td>28</td>\n",
       "      <td>1</td>\n",
       "      <td>39</td>\n",
       "      <td>5.359326</td>\n",
       "      <td>5.387647</td>\n",
       "      <td>US</td>\n",
       "      <td>3.0</td>\n",
       "      <td>0</td>\n",
       "      <td>1</td>\n",
       "      <td>0</td>\n",
       "      <td>0</td>\n",
       "      <td>1</td>\n",
       "      <td>0</td>\n",
       "      <td>0</td>\n",
       "      <td>0</td>\n",
       "      <td>0</td>\n",
       "      <td>1</td>\n",
       "      <td>0</td>\n",
       "    </tr>\n",
       "    <tr>\n",
       "      <th>2</th>\n",
       "      <td>0.395561</td>\n",
       "      <td>0</td>\n",
       "      <td>765.0</td>\n",
       "      <td>2.640777</td>\n",
       "      <td>8</td>\n",
       "      <td>5</td>\n",
       "      <td>0.25</td>\n",
       "      <td>5</td>\n",
       "      <td>0</td>\n",
       "      <td>49</td>\n",
       "      <td>5.359326</td>\n",
       "      <td>5.387647</td>\n",
       "      <td>other</td>\n",
       "      <td>0.0</td>\n",
       "      <td>0</td>\n",
       "      <td>1</td>\n",
       "      <td>0</td>\n",
       "      <td>0</td>\n",
       "      <td>0</td>\n",
       "      <td>1</td>\n",
       "      <td>0</td>\n",
       "      <td>0</td>\n",
       "      <td>0</td>\n",
       "      <td>1</td>\n",
       "      <td>0</td>\n",
       "    </tr>\n",
       "    <tr>\n",
       "      <th>3</th>\n",
       "      <td>0.319777</td>\n",
       "      <td>0</td>\n",
       "      <td>280.0</td>\n",
       "      <td>-2.077670</td>\n",
       "      <td>18</td>\n",
       "      <td>3</td>\n",
       "      <td>0.00</td>\n",
       "      <td>14</td>\n",
       "      <td>1</td>\n",
       "      <td>37</td>\n",
       "      <td>5.359326</td>\n",
       "      <td>5.387647</td>\n",
       "      <td>US</td>\n",
       "      <td>0.0</td>\n",
       "      <td>1</td>\n",
       "      <td>0</td>\n",
       "      <td>0</td>\n",
       "      <td>0</td>\n",
       "      <td>1</td>\n",
       "      <td>0</td>\n",
       "      <td>0</td>\n",
       "      <td>0</td>\n",
       "      <td>0</td>\n",
       "      <td>1</td>\n",
       "      <td>0</td>\n",
       "    </tr>\n",
       "    <tr>\n",
       "      <th>4</th>\n",
       "      <td>0.698700</td>\n",
       "      <td>0</td>\n",
       "      <td>0.0</td>\n",
       "      <td>-0.029126</td>\n",
       "      <td>5</td>\n",
       "      <td>1</td>\n",
       "      <td>0.00</td>\n",
       "      <td>2</td>\n",
       "      <td>5</td>\n",
       "      <td>53</td>\n",
       "      <td>4.531574</td>\n",
       "      <td>5.387647</td>\n",
       "      <td>US</td>\n",
       "      <td>0.0</td>\n",
       "      <td>0</td>\n",
       "      <td>1</td>\n",
       "      <td>0</td>\n",
       "      <td>0</td>\n",
       "      <td>1</td>\n",
       "      <td>0</td>\n",
       "      <td>0</td>\n",
       "      <td>0</td>\n",
       "      <td>0</td>\n",
       "      <td>1</td>\n",
       "      <td>0</td>\n",
       "    </tr>\n",
       "  </tbody>\n",
       "</table>\n",
       "</div>"
      ],
      "text/plain": [
       "        age  signup_flow  days_from_first_active_account_created  days_from_account_created_until_first_booking  day_first_booking  day_of_week_first_booking  year_account_created  day_account_created  day_of_week_account_created  week_of_year_account_created  affiliate_channel  first_affiliate_tracked country_destination  sigup_flow  gender_-unknown-  gender_FEMALE  gender_MALE  gender_OTHER  signup_method_basic  signup_method_facebook  signup_method_google  signup_app_Android  signup_app_Moweb  signup_app_Web  signup_app_iOS\n",
       "0  0.092423            0                                   732.0                                      14.466019                 29                          0                  0.25                   25                            2                            21           5.273801                 5.387647                 NDF         0.0                 0              0            1             0                    0                       1                     0                   0                 0               1               0\n",
       "1  1.456545            3                                   476.0                                      -0.611650                  2                          0                  0.00                   28                            1                            39           5.359326                 5.387647                  US         3.0                 0              1            0             0                    1                       0                     0                   0                 0               1               0\n",
       "2  0.395561            0                                   765.0                                       2.640777                  8                          5                  0.25                    5                            0                            49           5.359326                 5.387647               other         0.0                 0              1            0             0                    0                       1                     0                   0                 0               1               0\n",
       "3  0.319777            0                                   280.0                                      -2.077670                 18                          3                  0.00                   14                            1                            37           5.359326                 5.387647                  US         0.0                 1              0            0             0                    1                       0                     0                   0                 0               1               0\n",
       "4  0.698700            0                                     0.0                                      -0.029126                  5                          1                  0.00                    2                            5                            53           4.531574                 5.387647                  US         0.0                 0              1            0             0                    1                       0                     0                   0                 0               1               0"
      ]
     },
     "execution_count": 197,
     "metadata": {},
     "output_type": "execute_result"
    }
   ],
   "source": [
    "df6.head()"
   ]
  },
  {
   "cell_type": "markdown",
   "id": "cd286443",
   "metadata": {
    "hidden": true
   },
   "source": [
    "## Transformation"
   ]
  },
  {
   "cell_type": "code",
   "execution_count": 198,
   "id": "60fac025",
   "metadata": {
    "ExecuteTime": {
     "end_time": "2022-07-08T12:40:45.062337Z",
     "start_time": "2022-07-08T12:40:38.807081Z"
    },
    "hidden": true
   },
   "outputs": [],
   "source": [
    "# week_of_year_account_created\n",
    "df6['week_of_year_account_created_sin'] = df6['week_of_year_account_created'].apply(lambda x: np.sin(x * ( 2*np.pi/52 )))\n",
    "df6['week_of_year_account_created_cos'] = df6['week_of_year_account_created'].apply(lambda x: np.sin(x * ( 2*np.pi/52 )))\n",
    "\n",
    "# day_of_week_first_booking\n",
    "df6['day_of_week_first_booking_sin'] = df6['day_of_week_first_booking'].apply(lambda x: np.sin(x * ( 2*np.pi/7 )))\n",
    "df6['day_of_week_first_booking_cos'] = df6['day_of_week_first_booking'].apply(lambda x: np.sin(x * ( 2*np.pi/7 )))\n",
    "\n",
    "# day_account_created\n",
    "df6['day_account_created_sin'] = df6['day_account_created'].apply(lambda x: np.sin(x * ( 2*np.pi/31 )))\n",
    "df6['day_account_created_cos'] = df6['day_account_created'].apply(lambda x: np.sin(x * ( 2*np.pi/31 )))\n",
    "\n",
    "# day_of_week_account_created\n",
    "df6['day_of_week_account_created_sin'] = df6['day_of_week_account_created'].apply(lambda x: np.sin(x * ( 2*np.pi/7 )))\n",
    "df6['day_of_week_account_created_cos'] = df6['day_of_week_account_created'].apply(lambda x: np.sin(x * ( 2*np.pi/7 )))"
   ]
  },
  {
   "cell_type": "markdown",
   "id": "759d4ced",
   "metadata": {
    "heading_collapsed": true
   },
   "source": [
    "# FEATURE SELECTION"
   ]
  },
  {
   "cell_type": "code",
   "execution_count": 200,
   "id": "69ed1305",
   "metadata": {
    "ExecuteTime": {
     "end_time": "2022-07-08T12:43:45.246631Z",
     "start_time": "2022-07-08T12:43:45.178379Z"
    },
    "hidden": true
   },
   "outputs": [],
   "source": [
    "df7 = df6.copy()"
   ]
  },
  {
   "cell_type": "code",
   "execution_count": 201,
   "id": "c7a02bee",
   "metadata": {
    "ExecuteTime": {
     "end_time": "2022-07-08T12:44:02.207218Z",
     "start_time": "2022-07-08T12:44:02.174427Z"
    },
    "hidden": true
   },
   "outputs": [],
   "source": [
    "X = df7.drop('country_destination', axis=1)\n",
    "y = df7['country_destination'].copy()"
   ]
  },
  {
   "cell_type": "code",
   "execution_count": 202,
   "id": "83858fec",
   "metadata": {
    "ExecuteTime": {
     "end_time": "2022-07-08T12:44:03.247152Z",
     "start_time": "2022-07-08T12:44:03.039300Z"
    },
    "hidden": true
   },
   "outputs": [],
   "source": [
    "# split dataset into training and test\n",
    "x_train, x_test, y_train, y_test = ms.train_test_split(X, y, test_size=0.2, random_state=32)"
   ]
  },
  {
   "cell_type": "markdown",
   "id": "3dd12245",
   "metadata": {},
   "source": [
    "# MACHINE LEARNING MODEL"
   ]
  },
  {
   "cell_type": "markdown",
   "id": "3b487802",
   "metadata": {
    "heading_collapsed": true
   },
   "source": [
    "## Baseline Model"
   ]
  },
  {
   "cell_type": "code",
   "execution_count": 210,
   "id": "2ac7983f",
   "metadata": {
    "ExecuteTime": {
     "end_time": "2022-07-08T12:46:16.891790Z",
     "start_time": "2022-07-08T12:46:16.840923Z"
    },
    "hidden": true
   },
   "outputs": [
    {
     "data": {
      "text/plain": [
       "109260"
      ]
     },
     "execution_count": 210,
     "metadata": {},
     "output_type": "execute_result"
    }
   ],
   "source": [
    "country_destination_list = df1['country_destination'].drop_duplicates().sort_values().tolist()\n",
    "k_num = y_test.shape[0]\n",
    "country_destination__weights = df1['country_destination'].value_counts(normalize=True).sort_index().to_list()\n",
    "\n",
    "yhat_random = choices(population=country_destination_list, \n",
    "                               weights=country_destination__weights,\n",
    "                               k=k_num)\n",
    "len(yhat_random)"
   ]
  },
  {
   "cell_type": "markdown",
   "id": "aee55412",
   "metadata": {
    "heading_collapsed": true
   },
   "source": [
    "## Baseline Model Perfomance"
   ]
  },
  {
   "cell_type": "code",
   "execution_count": 211,
   "id": "1fe9d719",
   "metadata": {
    "ExecuteTime": {
     "end_time": "2022-07-08T12:46:21.263095Z",
     "start_time": "2022-07-08T12:46:16.893804Z"
    },
    "hidden": true
   },
   "outputs": [
    {
     "name": "stdout",
     "output_type": "stream",
     "text": [
      "Accuracy: 0.09253157605711147\n",
      "Balanced Accuracy: 0.08362005963710384\n",
      "Kappa Score: 0.00033400092337143583\n",
      "              precision    recall  f1-score   support\n",
      "\n",
      "          AU       0.06      0.00      0.01      7335\n",
      "          CA       0.07      0.01      0.01      8536\n",
      "          DE       0.08      0.01      0.01      7463\n",
      "          ES       0.10      0.01      0.03     10026\n",
      "          FR       0.08      0.03      0.04      8817\n",
      "          GB       0.11      0.02      0.03     10546\n",
      "          IT       0.08      0.02      0.03      8076\n",
      "         NDF       0.10      0.45      0.16     10938\n",
      "          NL       0.07      0.00      0.01      9549\n",
      "          PT       0.09      0.00      0.00      9481\n",
      "          US       0.09      0.39      0.14      9557\n",
      "       other       0.08      0.06      0.07      8936\n",
      "\n",
      "    accuracy                           0.09    109260\n",
      "   macro avg       0.08      0.08      0.05    109260\n",
      "weighted avg       0.08      0.09      0.05    109260\n",
      "\n"
     ]
    },
    {
     "data": {
      "image/png": "[encoded data removed]",
      "text/plain": [
       "<Figure size 864x864 with 2 Axes>"
      ]
     },
     "metadata": {},
     "output_type": "display_data"
    }
   ],
   "source": [
    "# Accuracy\n",
    "acc_random = m.accuracy_score(y_test, yhat_random)\n",
    "print(f'Accuracy: {acc_random}')\n",
    "\n",
    "# Balanced Accuracy\n",
    "balanced_acc_random = m.balanced_accuracy_score(y_test, yhat_random)\n",
    "print(f'Balanced Accuracy: {balanced_acc_random}')\n",
    "\n",
    "# Kappa Metrics\n",
    "kappa_random = m.cohen_kappa_score(y_test, yhat_random)\n",
    "print(f'Kappa Score: {kappa_random}')\n",
    "\n",
    "# Classification Report \n",
    "print(m.classification_report(y_test, yhat_random))\n",
    "\n",
    "# Confusion Matrix\n",
    "mt.plot_confusion_matrix(y_test, yhat_random, normalize=False, figsize=(12,12));"
   ]
  },
  {
   "cell_type": "markdown",
   "id": "a242d289",
   "metadata": {},
   "source": [
    "## Neural Network - MLP"
   ]
  },
  {
   "cell_type": "code",
   "execution_count": 212,
   "id": "52fb6488",
   "metadata": {
    "ExecuteTime": {
     "end_time": "2022-07-08T12:47:37.083078Z",
     "start_time": "2022-07-08T12:47:36.925884Z"
    }
   },
   "outputs": [],
   "source": [
    "ohe = pp.OneHotEncoder()\n",
    "y_train_nn = ohe.fit_transform(y_train.values.reshape(-1, 1)).toarray()"
   ]
  },
  {
   "cell_type": "code",
   "execution_count": 213,
   "id": "68ce53db",
   "metadata": {
    "ExecuteTime": {
     "end_time": "2022-07-08T12:47:37.715299Z",
     "start_time": "2022-07-08T12:47:37.708246Z"
    }
   },
   "outputs": [
    {
     "data": {
      "text/plain": [
       "(437037, 32)"
      ]
     },
     "execution_count": 213,
     "metadata": {},
     "output_type": "execute_result"
    }
   ],
   "source": [
    "x_train.shape"
   ]
  },
  {
   "cell_type": "code",
   "execution_count": 214,
   "id": "fdb4f241",
   "metadata": {
    "ExecuteTime": {
     "end_time": "2022-07-08T13:26:38.329651Z",
     "start_time": "2022-07-08T12:48:26.478314Z"
    },
    "scrolled": true
   },
   "outputs": [
    {
     "name": "stderr",
     "output_type": "stream",
     "text": [
      "2022-07-08 09:48:26.495694: W tensorflow/stream_executor/platform/default/dso_loader.cc:64] Could not load dynamic library 'libcuda.so.1'; dlerror: libcuda.so.1: cannot open shared object file: No such file or directory\n",
      "2022-07-08 09:48:26.495737: W tensorflow/stream_executor/cuda/cuda_driver.cc:269] failed call to cuInit: UNKNOWN ERROR (303)\n",
      "2022-07-08 09:48:26.495774: I tensorflow/stream_executor/cuda/cuda_diagnostics.cc:156] kernel driver does not appear to be running on this host (kaka-desktop): /proc/driver/nvidia/version does not exist\n",
      "2022-07-08 09:48:26.496539: I tensorflow/core/platform/cpu_feature_guard.cc:193] This TensorFlow binary is optimized with oneAPI Deep Neural Network Library (oneDNN) to use the following CPU instructions in performance-critical operations:  AVX2 FMA\n",
      "To enable them in other operations, rebuild TensorFlow with the appropriate compiler flags.\n"
     ]
    },
    {
     "name": "stdout",
     "output_type": "stream",
     "text": [
      "Epoch 1/100\n",
      "13658/13658 [==============================] - 23s 2ms/step - loss: 2.1216 - accuracy: 0.2422\n",
      "Epoch 2/100\n",
      "13658/13658 [==============================] - 22s 2ms/step - loss: 2.0268 - accuracy: 0.2792\n",
      "Epoch 3/100\n",
      "13658/13658 [==============================] - 22s 2ms/step - loss: 1.9853 - accuracy: 0.2945\n",
      "Epoch 4/100\n",
      "13658/13658 [==============================] - 22s 2ms/step - loss: 1.9636 - accuracy: 0.3030\n",
      "Epoch 5/100\n",
      "13658/13658 [==============================] - 21s 2ms/step - loss: 1.9499 - accuracy: 0.3085\n",
      "Epoch 6/100\n",
      "13658/13658 [==============================] - 22s 2ms/step - loss: 1.9394 - accuracy: 0.3126\n",
      "Epoch 7/100\n",
      "13658/13658 [==============================] - 21s 2ms/step - loss: 1.9311 - accuracy: 0.3159\n",
      "Epoch 8/100\n",
      "13658/13658 [==============================] - 22s 2ms/step - loss: 1.9265 - accuracy: 0.3183\n",
      "Epoch 9/100\n",
      "13658/13658 [==============================] - 21s 2ms/step - loss: 1.9219 - accuracy: 0.3198\n",
      "Epoch 10/100\n",
      "13658/13658 [==============================] - 21s 2ms/step - loss: 1.9178 - accuracy: 0.3205\n",
      "Epoch 11/100\n",
      "13658/13658 [==============================] - 21s 2ms/step - loss: 1.9137 - accuracy: 0.3221\n",
      "Epoch 12/100\n",
      "13658/13658 [==============================] - 21s 2ms/step - loss: 1.9114 - accuracy: 0.3230\n",
      "Epoch 13/100\n",
      "13658/13658 [==============================] - 21s 2ms/step - loss: 1.9076 - accuracy: 0.3241\n",
      "Epoch 14/100\n",
      "13658/13658 [==============================] - 21s 2ms/step - loss: 1.9049 - accuracy: 0.3253\n",
      "Epoch 15/100\n",
      "13658/13658 [==============================] - 21s 2ms/step - loss: 1.9034 - accuracy: 0.3261\n",
      "Epoch 16/100\n",
      "13658/13658 [==============================] - 22s 2ms/step - loss: 1.9012 - accuracy: 0.3265\n",
      "Epoch 17/100\n",
      "13658/13658 [==============================] - 22s 2ms/step - loss: 1.8993 - accuracy: 0.3273\n",
      "Epoch 18/100\n",
      "13658/13658 [==============================] - 22s 2ms/step - loss: 1.8973 - accuracy: 0.3278\n",
      "Epoch 19/100\n",
      "13658/13658 [==============================] - 22s 2ms/step - loss: 1.8969 - accuracy: 0.3278\n",
      "Epoch 20/100\n",
      "13658/13658 [==============================] - 22s 2ms/step - loss: 1.8952 - accuracy: 0.3289\n",
      "Epoch 21/100\n",
      "13658/13658 [==============================] - 22s 2ms/step - loss: 1.8942 - accuracy: 0.3295\n",
      "Epoch 22/100\n",
      "13658/13658 [==============================] - 22s 2ms/step - loss: 1.8927 - accuracy: 0.3300\n",
      "Epoch 23/100\n",
      "13658/13658 [==============================] - 23s 2ms/step - loss: 1.8911 - accuracy: 0.3305\n",
      "Epoch 24/100\n",
      "13658/13658 [==============================] - 21s 2ms/step - loss: 1.8901 - accuracy: 0.3309\n",
      "Epoch 25/100\n",
      "13658/13658 [==============================] - 21s 2ms/step - loss: 1.8883 - accuracy: 0.3311\n",
      "Epoch 26/100\n",
      "13658/13658 [==============================] - 23s 2ms/step - loss: 1.8883 - accuracy: 0.3318\n",
      "Epoch 27/100\n",
      "13658/13658 [==============================] - 21s 2ms/step - loss: 1.8866 - accuracy: 0.3319\n",
      "Epoch 28/100\n",
      "13658/13658 [==============================] - 22s 2ms/step - loss: 1.8856 - accuracy: 0.3326\n",
      "Epoch 29/100\n",
      "13658/13658 [==============================] - 22s 2ms/step - loss: 1.8851 - accuracy: 0.3321\n",
      "Epoch 30/100\n",
      "13658/13658 [==============================] - 22s 2ms/step - loss: 1.8835 - accuracy: 0.3328\n",
      "Epoch 31/100\n",
      "13658/13658 [==============================] - 22s 2ms/step - loss: 1.8838 - accuracy: 0.3325\n",
      "Epoch 32/100\n",
      "13658/13658 [==============================] - 22s 2ms/step - loss: 1.8822 - accuracy: 0.3336\n",
      "Epoch 33/100\n",
      "13658/13658 [==============================] - 22s 2ms/step - loss: 1.8819 - accuracy: 0.3337\n",
      "Epoch 34/100\n",
      "13658/13658 [==============================] - 22s 2ms/step - loss: 1.8818 - accuracy: 0.3339\n",
      "Epoch 35/100\n",
      "13658/13658 [==============================] - 22s 2ms/step - loss: 1.8803 - accuracy: 0.3343\n",
      "Epoch 36/100\n",
      "13658/13658 [==============================] - 22s 2ms/step - loss: 1.8801 - accuracy: 0.3344\n",
      "Epoch 37/100\n",
      "13658/13658 [==============================] - 22s 2ms/step - loss: 1.8794 - accuracy: 0.3346\n",
      "Epoch 38/100\n",
      "13658/13658 [==============================] - 22s 2ms/step - loss: 1.8792 - accuracy: 0.3345\n",
      "Epoch 39/100\n",
      "13658/13658 [==============================] - 22s 2ms/step - loss: 1.8783 - accuracy: 0.3347\n",
      "Epoch 40/100\n",
      "13658/13658 [==============================] - 22s 2ms/step - loss: 1.8780 - accuracy: 0.3355\n",
      "Epoch 41/100\n",
      "13658/13658 [==============================] - 22s 2ms/step - loss: 1.8793 - accuracy: 0.3354\n",
      "Epoch 42/100\n",
      "13658/13658 [==============================] - 22s 2ms/step - loss: 1.8770 - accuracy: 0.3347\n",
      "Epoch 43/100\n",
      "13658/13658 [==============================] - 22s 2ms/step - loss: 1.8766 - accuracy: 0.3353\n",
      "Epoch 44/100\n",
      "13658/13658 [==============================] - 22s 2ms/step - loss: 1.8769 - accuracy: 0.3349\n",
      "Epoch 45/100\n",
      "13658/13658 [==============================] - 22s 2ms/step - loss: 1.8753 - accuracy: 0.3364\n",
      "Epoch 46/100\n",
      "13658/13658 [==============================] - 22s 2ms/step - loss: 1.8751 - accuracy: 0.3365\n",
      "Epoch 47/100\n",
      "13658/13658 [==============================] - 22s 2ms/step - loss: 1.8755 - accuracy: 0.3363\n",
      "Epoch 48/100\n",
      "13658/13658 [==============================] - 22s 2ms/step - loss: 1.8749 - accuracy: 0.3363\n",
      "Epoch 49/100\n",
      "13658/13658 [==============================] - 22s 2ms/step - loss: 1.8751 - accuracy: 0.3360\n",
      "Epoch 50/100\n",
      "13658/13658 [==============================] - 21s 2ms/step - loss: 1.8740 - accuracy: 0.3365\n",
      "Epoch 51/100\n",
      "13658/13658 [==============================] - 22s 2ms/step - loss: 1.8750 - accuracy: 0.3368\n",
      "Epoch 52/100\n",
      "13658/13658 [==============================] - 22s 2ms/step - loss: 1.8741 - accuracy: 0.3372\n",
      "Epoch 53/100\n",
      "13658/13658 [==============================] - 22s 2ms/step - loss: 1.8737 - accuracy: 0.3370\n",
      "Epoch 54/100\n",
      "13658/13658 [==============================] - 22s 2ms/step - loss: 1.8723 - accuracy: 0.3371\n",
      "Epoch 55/100\n",
      "13658/13658 [==============================] - 22s 2ms/step - loss: 1.8725 - accuracy: 0.3367\n",
      "Epoch 56/100\n",
      "13658/13658 [==============================] - 22s 2ms/step - loss: 1.8716 - accuracy: 0.3375\n",
      "Epoch 57/100\n",
      "13658/13658 [==============================] - 21s 2ms/step - loss: 1.8720 - accuracy: 0.3377\n",
      "Epoch 58/100\n",
      "13658/13658 [==============================] - 21s 2ms/step - loss: 1.8722 - accuracy: 0.3370\n",
      "Epoch 59/100\n",
      "13658/13658 [==============================] - 21s 2ms/step - loss: 1.8714 - accuracy: 0.3377\n",
      "Epoch 60/100\n",
      "13658/13658 [==============================] - 22s 2ms/step - loss: 1.8712 - accuracy: 0.3379\n",
      "Epoch 61/100\n",
      "13658/13658 [==============================] - 22s 2ms/step - loss: 1.8714 - accuracy: 0.3376\n",
      "Epoch 62/100\n",
      "13658/13658 [==============================] - 22s 2ms/step - loss: 1.8703 - accuracy: 0.3378\n",
      "Epoch 63/100\n",
      "13658/13658 [==============================] - 22s 2ms/step - loss: 1.8699 - accuracy: 0.3378\n",
      "Epoch 64/100\n",
      "13658/13658 [==============================] - 22s 2ms/step - loss: 1.8708 - accuracy: 0.3378\n",
      "Epoch 65/100\n",
      "13658/13658 [==============================] - 21s 2ms/step - loss: 1.8700 - accuracy: 0.3375\n",
      "Epoch 66/100\n",
      "13658/13658 [==============================] - 22s 2ms/step - loss: 1.8696 - accuracy: 0.3381\n",
      "Epoch 67/100\n",
      "13658/13658 [==============================] - 22s 2ms/step - loss: 1.8696 - accuracy: 0.3380\n",
      "Epoch 68/100\n",
      "13658/13658 [==============================] - 22s 2ms/step - loss: 1.8695 - accuracy: 0.3386\n",
      "Epoch 69/100\n",
      "13658/13658 [==============================] - 22s 2ms/step - loss: 1.8698 - accuracy: 0.3384\n",
      "Epoch 70/100\n",
      "13658/13658 [==============================] - 22s 2ms/step - loss: 1.8691 - accuracy: 0.3394\n",
      "Epoch 71/100\n",
      "13658/13658 [==============================] - 22s 2ms/step - loss: 1.8693 - accuracy: 0.3393\n",
      "Epoch 72/100\n",
      "13658/13658 [==============================] - 22s 2ms/step - loss: 1.8698 - accuracy: 0.3387\n",
      "Epoch 73/100\n",
      "13658/13658 [==============================] - 22s 2ms/step - loss: 1.8687 - accuracy: 0.3380\n",
      "Epoch 74/100\n",
      "13658/13658 [==============================] - 22s 2ms/step - loss: 1.8689 - accuracy: 0.3390\n",
      "Epoch 75/100\n",
      "13658/13658 [==============================] - 21s 2ms/step - loss: 1.8685 - accuracy: 0.3382\n",
      "Epoch 76/100\n",
      "13658/13658 [==============================] - 22s 2ms/step - loss: 1.8680 - accuracy: 0.3388\n",
      "Epoch 77/100\n"
     ]
    },
    {
     "name": "stdout",
     "output_type": "stream",
     "text": [
      "13658/13658 [==============================] - 22s 2ms/step - loss: 1.8681 - accuracy: 0.3387\n",
      "Epoch 78/100\n",
      "13658/13658 [==============================] - 22s 2ms/step - loss: 1.8683 - accuracy: 0.3388\n",
      "Epoch 79/100\n",
      "13658/13658 [==============================] - 22s 2ms/step - loss: 1.8678 - accuracy: 0.3384\n",
      "Epoch 80/100\n",
      "13658/13658 [==============================] - 22s 2ms/step - loss: 1.8677 - accuracy: 0.3390\n",
      "Epoch 81/100\n",
      "13658/13658 [==============================] - 22s 2ms/step - loss: 1.8677 - accuracy: 0.3382\n",
      "Epoch 82/100\n",
      "13658/13658 [==============================] - 22s 2ms/step - loss: 1.8669 - accuracy: 0.3392\n",
      "Epoch 83/100\n",
      "13658/13658 [==============================] - 22s 2ms/step - loss: 1.8664 - accuracy: 0.3387\n",
      "Epoch 84/100\n",
      "13658/13658 [==============================] - 22s 2ms/step - loss: 1.8664 - accuracy: 0.3391\n",
      "Epoch 85/100\n",
      "13658/13658 [==============================] - 22s 2ms/step - loss: 1.8666 - accuracy: 0.3390\n",
      "Epoch 86/100\n",
      "13658/13658 [==============================] - 22s 2ms/step - loss: 1.8673 - accuracy: 0.3392\n",
      "Epoch 87/100\n",
      "13658/13658 [==============================] - 22s 2ms/step - loss: 1.8662 - accuracy: 0.3392\n",
      "Epoch 88/100\n",
      "13658/13658 [==============================] - 22s 2ms/step - loss: 1.8660 - accuracy: 0.3389\n",
      "Epoch 89/100\n",
      "13658/13658 [==============================] - 22s 2ms/step - loss: 1.8661 - accuracy: 0.3386\n",
      "Epoch 90/100\n",
      "13658/13658 [==============================] - 22s 2ms/step - loss: 1.8646 - accuracy: 0.3395\n",
      "Epoch 91/100\n",
      "13658/13658 [==============================] - 22s 2ms/step - loss: 1.8650 - accuracy: 0.3389\n",
      "Epoch 92/100\n",
      "13658/13658 [==============================] - 22s 2ms/step - loss: 1.8645 - accuracy: 0.3396\n",
      "Epoch 93/100\n",
      "13658/13658 [==============================] - 22s 2ms/step - loss: 1.8649 - accuracy: 0.3395\n",
      "Epoch 94/100\n",
      "13658/13658 [==============================] - 22s 2ms/step - loss: 1.8658 - accuracy: 0.3385\n",
      "Epoch 95/100\n",
      "13658/13658 [==============================] - 22s 2ms/step - loss: 1.8640 - accuracy: 0.3394\n",
      "Epoch 96/100\n",
      "13658/13658 [==============================] - 22s 2ms/step - loss: 1.8634 - accuracy: 0.3398\n",
      "Epoch 97/100\n",
      "13658/13658 [==============================] - 22s 2ms/step - loss: 1.8642 - accuracy: 0.3396\n",
      "Epoch 98/100\n",
      "13658/13658 [==============================] - 22s 2ms/step - loss: 1.8626 - accuracy: 0.3402\n",
      "Epoch 99/100\n",
      "13658/13658 [==============================] - 22s 2ms/step - loss: 1.8635 - accuracy: 0.3397\n",
      "Epoch 100/100\n",
      "13658/13658 [==============================] - 22s 2ms/step - loss: 1.8631 - accuracy: 0.3395\n"
     ]
    },
    {
     "data": {
      "text/plain": [
       "<keras.callbacks.History at 0x7f905d4ee700>"
      ]
     },
     "execution_count": 214,
     "metadata": {},
     "output_type": "execute_result"
    }
   ],
   "source": [
    "# model definition\n",
    "model = ml.Sequential()\n",
    "model.add(l.Dense(64, input_dim=x_train.shape[1], activation='relu'))\n",
    "model.add(l.Dense(12, activation='softmax'))\n",
    "\n",
    "# model compile\n",
    "model.compile(loss='categorical_crossentropy', optimizer='adam', metrics=['accuracy'])\n",
    "\n",
    "# train mode\n",
    "model.fit(x_train, y_train_nn, epochs=100)"
   ]
  },
  {
   "cell_type": "markdown",
   "id": "bb1f28c0",
   "metadata": {},
   "source": [
    "## NEURAL NETWORK PERFORMANCE"
   ]
  },
  {
   "cell_type": "code",
   "execution_count": 215,
   "id": "d608aba0",
   "metadata": {
    "ExecuteTime": {
     "end_time": "2022-07-08T13:28:16.171286Z",
     "start_time": "2022-07-08T13:27:46.972367Z"
    }
   },
   "outputs": [
    {
     "name": "stdout",
     "output_type": "stream",
     "text": [
      "3415/3415 [==============================] - 4s 1ms/step\n"
     ]
    }
   ],
   "source": [
    "# prediction\n",
    "pred_nn = model.predict(x_test)\n",
    "\n",
    "# invert prediction\n",
    "yhat_nn = ohe.inverse_transform(pred_nn)\n",
    "\n",
    "# prediction prepare\n",
    "y_test_nn = y_test.to_numpy()\n",
    "yhat_nn = yhat_nn.reshape(1, -1)[0]"
   ]
  },
  {
   "cell_type": "code",
   "execution_count": 216,
   "id": "36bd9cdf",
   "metadata": {
    "ExecuteTime": {
     "end_time": "2022-07-08T13:28:16.632853Z",
     "start_time": "2022-07-08T13:28:16.173061Z"
    }
   },
   "outputs": [
    {
     "data": {
      "text/plain": [
       "0.3254390172318434"
      ]
     },
     "execution_count": 216,
     "metadata": {},
     "output_type": "execute_result"
    }
   ],
   "source": [
    "# Balanced Accuracy\n",
    "m.balanced_accuracy_score(y_test_nn, yhat_nn)"
   ]
  },
  {
   "cell_type": "code",
   "execution_count": 217,
   "id": "3a7196df",
   "metadata": {
    "ExecuteTime": {
     "end_time": "2022-07-08T13:28:22.454056Z",
     "start_time": "2022-07-08T13:28:16.634962Z"
    }
   },
   "outputs": [
    {
     "name": "stdout",
     "output_type": "stream",
     "text": [
      "Accuracy: 0.3424858136555006\n",
      "Balanced Accuracy: 0.3254390172318434\n",
      "Kappa Score: 0.2806357301198774\n",
      "              precision    recall  f1-score   support\n",
      "\n",
      "          AU       0.29      0.38      0.33      7335\n",
      "          CA       0.21      0.18      0.20      8536\n",
      "          DE       0.24      0.12      0.16      7463\n",
      "          ES       0.19      0.21      0.20     10026\n",
      "          FR       0.15      0.08      0.10      8817\n",
      "          GB       0.17      0.14      0.15     10546\n",
      "          IT       0.17      0.06      0.09      8076\n",
      "         NDF       1.00      1.00      1.00     10938\n",
      "          NL       0.26      0.37      0.30      9549\n",
      "          PT       0.48      0.93      0.64      9481\n",
      "          US       0.24      0.38      0.30      9557\n",
      "       other       0.16      0.06      0.09      8936\n",
      "\n",
      "    accuracy                           0.34    109260\n",
      "   macro avg       0.30      0.33      0.30    109260\n",
      "weighted avg       0.31      0.34      0.31    109260\n",
      "\n"
     ]
    },
    {
     "data": {
      "image/png": "[encoded data removed]",
      "text/plain": [
       "<Figure size 864x864 with 2 Axes>"
      ]
     },
     "metadata": {},
     "output_type": "display_data"
    }
   ],
   "source": [
    "# Accuracy\n",
    "acc_nn = m.accuracy_score(y_test_nn, yhat_nn)\n",
    "print(f'Accuracy: {acc_nn}')\n",
    "\n",
    "# Balanced Accuracy\n",
    "balanced_acc_nn = m.balanced_accuracy_score(y_test_nn, yhat_nn)\n",
    "print(f'Balanced Accuracy: {balanced_acc_nn}')\n",
    "\n",
    "# Kappa Metrics\n",
    "kappa_nn = m.cohen_kappa_score(y_test_nn, yhat_nn)\n",
    "print(f'Kappa Score: {kappa_nn}')\n",
    "\n",
    "# Classification Report \n",
    "print(m.classification_report(y_test_nn, yhat_nn))\n",
    "\n",
    "# Confusion Matrix\n",
    "mt.plot_confusion_matrix(y_test_nn, yhat_nn, normalize=False, figsize=(12,12));"
   ]
  },
  {
   "cell_type": "markdown",
   "id": "0181a855",
   "metadata": {
    "heading_collapsed": true
   },
   "source": [
    "### NEURAL NETWORK PERFORMANCE - Cross-Validation"
   ]
  },
  {
   "cell_type": "code",
   "execution_count": null,
   "id": "ae26238a",
   "metadata": {
    "ExecuteTime": {
     "end_time": "2022-07-06T18:15:14.210865Z",
     "start_time": "2022-07-06T18:15:14.210846Z"
    },
    "hidden": true
   },
   "outputs": [],
   "source": [
    "# generate k-fold\n",
    "num_folds = 5\n",
    "kfold = ms.StratifiedKFold(n_splits=num_folds, shuffle=True, random_state=32)\n",
    "\n",
    "# create list\n",
    "\n",
    "balanced_acc_list = []\n",
    "kappa_acc_list = []\n",
    "\n",
    "i = 1\n",
    "for train_ix, val_ix in kfold.split(x_train, y_train):\n",
    "    \n",
    "    print(f'Folder Number: {i} / {num_folds}')\n",
    "    \n",
    "    # get fold\n",
    "    x_train_fold = x_train.iloc[train_ix]\n",
    "    y_train_fold = y_train.iloc[train_ix]\n",
    "    \n",
    "    x_val_fold = x_train.iloc[val_ix]\n",
    "    y_val_fold = y_train.iloc[val_ix]\n",
    "    \n",
    "\n",
    "    # target - hot-enconding\n",
    "    ohe = pp.OneHotEncoder()\n",
    "    y_train_fold_nn = ohe.fit_transform(y_train_fold.values.reshape(-1, 1)).toarray()\n",
    "    \n",
    "    # model definition\n",
    "    model = ml.Sequential()\n",
    "    model.add(l.Dense(256, input_dim=x_train.shape[1], activation='relu'))\n",
    "    model.add(l.Dense(11, activation='softmax'))\n",
    "\n",
    "    # compile model\n",
    "    model.compile(loss='categorical_crossentropy', optimizer='adam', metrics=['accuracy'])\n",
    "\n",
    "    # training model\n",
    "    model.fit(x_train_fold, y_train_fold_nn, epochs=100, batch_size=32, verbose=0)\n",
    "\n",
    "    # prediction\n",
    "    pred_nn = model.predict(x_val_fold) #dados encoding\n",
    "    yhat_nn = ohe.inverse_transform(pred_nn) # dados original\n",
    "    \n",
    "    # prepare data\n",
    "    y_test_nn = y_val_fold.to_numpy()\n",
    "    yhat_nn = yhat_nn.reshape(1, -1)[0]\n",
    "    \n",
    "    # metrics\n",
    "    \n",
    "    ## balanced accuracy\n",
    "    balanced_acc_nn = m.balanced_accuracy_score(y_test_nn, yhat_nn)\n",
    "    balanced_acc_list.append(balanced_acc_nn)\n",
    "    \n",
    "    ## kappa metrics\n",
    "    kappa_acc_nn = m.cohen_kappa_score(y_test_nn, yhat_nn)\n",
    "    kappa_acc_list.append(kappa_acc_nn)\n",
    "    \n",
    "    i += 1"
   ]
  },
  {
   "cell_type": "code",
   "execution_count": null,
   "id": "a96f32a9",
   "metadata": {
    "ExecuteTime": {
     "end_time": "2022-07-06T18:15:14.212313Z",
     "start_time": "2022-07-06T18:15:14.212292Z"
    },
    "hidden": true
   },
   "outputs": [],
   "source": [
    "print(f'Avg Balanced Accuracy: {np.mean(balanced_acc_list)} / {np.std(balanced_acc_list)}')\n",
    "print(f'Avg Kapaa: {np.mean(kappa_acc_list)} / {np.std(kappa_acc_list)}')"
   ]
  },
  {
   "cell_type": "code",
   "execution_count": null,
   "id": "0325033c",
   "metadata": {
    "hidden": true
   },
   "outputs": [],
   "source": []
  },
  {
   "cell_type": "code",
   "execution_count": null,
   "id": "1e6b924b",
   "metadata": {
    "hidden": true
   },
   "outputs": [],
   "source": []
  },
  {
   "cell_type": "code",
   "execution_count": null,
   "id": "bd623578",
   "metadata": {
    "hidden": true
   },
   "outputs": [],
   "source": []
  },
  {
   "cell_type": "code",
   "execution_count": null,
   "id": "3bb9bfa1",
   "metadata": {
    "hidden": true
   },
   "outputs": [],
   "source": []
  },
  {
   "cell_type": "code",
   "execution_count": null,
   "id": "fab43d0b",
   "metadata": {
    "hidden": true
   },
   "outputs": [],
   "source": []
  }
 ],
 "metadata": {
  "kernelspec": {
   "display_name": "Python 3 (ipykernel)",
   "language": "python",
   "name": "python3"
  },
  "language_info": {
   "codemirror_mode": {
    "name": "ipython",
    "version": 3
   },
   "file_extension": ".py",
   "mimetype": "text/x-python",
   "name": "python",
   "nbconvert_exporter": "python",
   "pygments_lexer": "ipython3",
   "version": "3.8.10"
  },
  "nbTranslate": {
   "displayLangs": [
    "*"
   ],
   "hotkey": "alt-t",
   "langInMainMenu": true,
   "sourceLang": "en",
   "targetLang": "fr",
   "useGoogleTranslate": true
  },
  "toc": {
   "base_numbering": "0",
   "nav_menu": {},
   "number_sections": true,
   "sideBar": true,
   "skip_h1_title": false,
   "title_cell": "Table of Contents",
   "title_sidebar": "Contents",
   "toc_cell": false,
   "toc_position": {},
   "toc_section_display": true,
   "toc_window_display": false
  }
 },
 "nbformat": 4,
 "nbformat_minor": 5
}
